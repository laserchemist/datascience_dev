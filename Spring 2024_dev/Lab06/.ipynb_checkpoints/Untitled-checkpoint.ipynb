{
 "cells": [
  {
   "cell_type": "code",
   "execution_count": null,
   "id": "adf07c5b-eb1b-4154-a6e0-80179f688d93",
   "metadata": {},
   "outputs": [],
   "source": [
    "url = \"https://www-cs-faculty.stanford.edu/~knuth/sgb-words.txt\""
   ]
  },
  {
   "cell_type": "code",
   "execution_count": 1,
   "id": "b49bd5c2-c64c-479f-bb76-0c28627a38b4",
   "metadata": {},
   "outputs": [],
   "source": [
    "import numpy as np\n",
    "from datascience import *\n",
    "%matplotlib inline\n",
    "import matplotlib.pyplot as plt\n",
    "plt.style.use('ggplot')\n",
    "import os\n",
    "user = os.getenv('JUPYTERHUB_USER')\n",
    "from gofer.ok import check"
   ]
  },
  {
   "cell_type": "markdown",
   "id": "10da65d6-5832-419c-a2ad-f9ff7ca926bc",
   "metadata": {},
   "source": [
    "### Wordle itself\n",
    "The New York Times hosts [Wordle](https://www.nytimes.com/games/wordle/index.html) where a 5 letter word (Wordle) is determined in six or fewer tries using clues about letters contained and letter position. We will use our new knowledge of letter frequency and Knuth's 5 letter words to come up with best letters and words to try."
   ]
  },
  {
   "cell_type": "code",
   "execution_count": 10,
   "id": "21aafc35-2324-4374-b2f1-736ba79f7abf",
   "metadata": {},
   "outputs": [],
   "source": [
    "# Reload Knuth's words in more convenient pandas format\n",
    "Knuth_url = \"https://www-cs-faculty.stanford.edu/~knuth/sgb-words.txt\"\n",
    "# Better to read with pandas\n",
    "import pandas as pd\n",
    "words_df = pd.read_csv(Knuth_url, header=None, names=[\"Words\",\"value\",\"letters\"])  "
   ]
  },
  {
   "cell_type": "code",
   "execution_count": 3,
   "id": "8a7771a3-a65b-4abe-91e5-7856632d736e",
   "metadata": {},
   "outputs": [
    {
     "data": {
      "text/html": [
       "<div>\n",
       "<style scoped>\n",
       "    .dataframe tbody tr th:only-of-type {\n",
       "        vertical-align: middle;\n",
       "    }\n",
       "\n",
       "    .dataframe tbody tr th {\n",
       "        vertical-align: top;\n",
       "    }\n",
       "\n",
       "    .dataframe thead th {\n",
       "        text-align: right;\n",
       "    }\n",
       "</style>\n",
       "<table border=\"1\" class=\"dataframe\">\n",
       "  <thead>\n",
       "    <tr style=\"text-align: right;\">\n",
       "      <th></th>\n",
       "      <th>Words</th>\n",
       "      <th>value</th>\n",
       "      <th>letters</th>\n",
       "    </tr>\n",
       "  </thead>\n",
       "  <tbody>\n",
       "    <tr>\n",
       "      <th>0</th>\n",
       "      <td>which</td>\n",
       "      <td>NaN</td>\n",
       "      <td>NaN</td>\n",
       "    </tr>\n",
       "    <tr>\n",
       "      <th>1</th>\n",
       "      <td>there</td>\n",
       "      <td>NaN</td>\n",
       "      <td>NaN</td>\n",
       "    </tr>\n",
       "    <tr>\n",
       "      <th>2</th>\n",
       "      <td>their</td>\n",
       "      <td>NaN</td>\n",
       "      <td>NaN</td>\n",
       "    </tr>\n",
       "    <tr>\n",
       "      <th>3</th>\n",
       "      <td>about</td>\n",
       "      <td>NaN</td>\n",
       "      <td>NaN</td>\n",
       "    </tr>\n",
       "    <tr>\n",
       "      <th>4</th>\n",
       "      <td>would</td>\n",
       "      <td>NaN</td>\n",
       "      <td>NaN</td>\n",
       "    </tr>\n",
       "    <tr>\n",
       "      <th>...</th>\n",
       "      <td>...</td>\n",
       "      <td>...</td>\n",
       "      <td>...</td>\n",
       "    </tr>\n",
       "    <tr>\n",
       "      <th>5752</th>\n",
       "      <td>osier</td>\n",
       "      <td>NaN</td>\n",
       "      <td>NaN</td>\n",
       "    </tr>\n",
       "    <tr>\n",
       "      <th>5753</th>\n",
       "      <td>roble</td>\n",
       "      <td>NaN</td>\n",
       "      <td>NaN</td>\n",
       "    </tr>\n",
       "    <tr>\n",
       "      <th>5754</th>\n",
       "      <td>rumba</td>\n",
       "      <td>NaN</td>\n",
       "      <td>NaN</td>\n",
       "    </tr>\n",
       "    <tr>\n",
       "      <th>5755</th>\n",
       "      <td>biffy</td>\n",
       "      <td>NaN</td>\n",
       "      <td>NaN</td>\n",
       "    </tr>\n",
       "    <tr>\n",
       "      <th>5756</th>\n",
       "      <td>pupal</td>\n",
       "      <td>NaN</td>\n",
       "      <td>NaN</td>\n",
       "    </tr>\n",
       "  </tbody>\n",
       "</table>\n",
       "<p>5757 rows × 3 columns</p>\n",
       "</div>"
      ],
      "text/plain": [
       "      Words  value  letters\n",
       "0     which    NaN      NaN\n",
       "1     there    NaN      NaN\n",
       "2     their    NaN      NaN\n",
       "3     about    NaN      NaN\n",
       "4     would    NaN      NaN\n",
       "...     ...    ...      ...\n",
       "5752  osier    NaN      NaN\n",
       "5753  roble    NaN      NaN\n",
       "5754  rumba    NaN      NaN\n",
       "5755  biffy    NaN      NaN\n",
       "5756  pupal    NaN      NaN\n",
       "\n",
       "[5757 rows x 3 columns]"
      ]
     },
     "execution_count": 3,
     "metadata": {},
     "output_type": "execute_result"
    }
   ],
   "source": [
    "words_df"
   ]
  },
  {
   "cell_type": "code",
   "execution_count": 18,
   "id": "243a7b34-768b-4b57-aada-396c80513d5a",
   "metadata": {},
   "outputs": [
    {
     "data": {
      "text/html": [
       "<table border=\"1\" class=\"dataframe\">\n",
       "    <thead>\n",
       "        <tr>\n",
       "            <th>word</th>\n",
       "        </tr>\n",
       "    </thead>\n",
       "    <tbody>\n",
       "        <tr>\n",
       "            <td>which</td>\n",
       "        </tr>\n",
       "        <tr>\n",
       "            <td>there</td>\n",
       "        </tr>\n",
       "        <tr>\n",
       "            <td>their</td>\n",
       "        </tr>\n",
       "        <tr>\n",
       "            <td>about</td>\n",
       "        </tr>\n",
       "        <tr>\n",
       "            <td>would</td>\n",
       "        </tr>\n",
       "        <tr>\n",
       "            <td>these</td>\n",
       "        </tr>\n",
       "        <tr>\n",
       "            <td>other</td>\n",
       "        </tr>\n",
       "        <tr>\n",
       "            <td>words</td>\n",
       "        </tr>\n",
       "        <tr>\n",
       "            <td>could</td>\n",
       "        </tr>\n",
       "        <tr>\n",
       "            <td>write</td>\n",
       "        </tr>\n",
       "    </tbody>\n",
       "</table>\n",
       "<p>... (5747 rows omitted)</p>"
      ],
      "text/plain": [
       "word\n",
       "which\n",
       "there\n",
       "their\n",
       "about\n",
       "would\n",
       "these\n",
       "other\n",
       "words\n",
       "could\n",
       "write\n",
       "... (5747 rows omitted)"
      ]
     },
     "execution_count": 18,
     "metadata": {},
     "output_type": "execute_result"
    }
   ],
   "source": [
    "words = Table().read_table(Knuth_url, header=None, names=[\"word\"])\n",
    "words"
   ]
  },
  {
   "cell_type": "markdown",
   "id": "631a44ca-95bf-422c-9fa0-85de4bf06570",
   "metadata": {},
   "source": [
    "Now load our letter frequency, <i>freq</i>, data table from a chosen text and convert to pandas dataframe."
   ]
  },
  {
   "cell_type": "code",
   "execution_count": null,
   "id": "2b7cdbd7-6995-4e06-a42a-b6e1463e5df4",
   "metadata": {},
   "outputs": [],
   "source": [
    "letters_df = freq.to_df() # Select table from each text above\n",
    "letters_df"
   ]
  },
  {
   "cell_type": "markdown",
   "id": "227c99c1-b06b-4cae-9a26-31ef185b134a",
   "metadata": {},
   "source": [
    "**Question 3.5** Devise a plan to use the collection of letter frequencies and Knuth's five letter words to order the best words to guess for Wordle? Higher letter frequency means more words with the given letter. Describe plan in text markdown only."
   ]
  },
  {
   "cell_type": "markdown",
   "id": "7480cc08-30cd-491f-822d-70336c44f64e",
   "metadata": {},
   "source": []
  },
  {
   "cell_type": "markdown",
   "id": "817504bf-e2cb-4151-9c52-601c63a8b857",
   "metadata": {},
   "source": [
    "#### \"Magic\" Wordle computation\n",
    "Takes a while, be patient.\n",
    "Can you interpret how this code is sorting Knuth's words based on our letter frequencies?"
   ]
  },
  {
   "cell_type": "code",
   "execution_count": 15,
   "id": "ebef645d-d392-4433-b627-817f60d29a01",
   "metadata": {},
   "outputs": [
    {
     "ename": "NameError",
     "evalue": "name 'letters_df' is not defined",
     "output_type": "error",
     "traceback": [
      "\u001b[0;31m---------------------------------------------------------------------------\u001b[0m",
      "\u001b[0;31mNameError\u001b[0m                                 Traceback (most recent call last)",
      "Input \u001b[0;32mIn [15]\u001b[0m, in \u001b[0;36m<cell line: 1>\u001b[0;34m()\u001b[0m\n\u001b[1;32m      4\u001b[0m \u001b[38;5;28;01mfor\u001b[39;00m ele \u001b[38;5;129;01min\u001b[39;00m row[\u001b[38;5;124m'\u001b[39m\u001b[38;5;124mWords\u001b[39m\u001b[38;5;124m'\u001b[39m]:\n\u001b[1;32m      5\u001b[0m     letter_set\u001b[38;5;241m.\u001b[39madd(ele)\n\u001b[0;32m----> 6\u001b[0m     temp_df \u001b[38;5;241m=\u001b[39m \u001b[43mletters_df\u001b[49m[letters_df[\u001b[38;5;124m\"\u001b[39m\u001b[38;5;124mfrequency\u001b[39m\u001b[38;5;124m\"\u001b[39m]\u001b[38;5;241m.\u001b[39mwhere(letters_df[\u001b[38;5;124m\"\u001b[39m\u001b[38;5;124mletters\u001b[39m\u001b[38;5;124m\"\u001b[39m] \u001b[38;5;241m==\u001b[39m ele)\u001b[38;5;241m.\u001b[39mnotnull()]\n\u001b[1;32m      7\u001b[0m     temp_df\n\u001b[1;32m      8\u001b[0m     prob \u001b[38;5;241m+\u001b[39m\u001b[38;5;241m=\u001b[39m temp_df[\u001b[38;5;124m\"\u001b[39m\u001b[38;5;124mfrequency\u001b[39m\u001b[38;5;124m\"\u001b[39m]\u001b[38;5;241m.\u001b[39miloc[\u001b[38;5;241m0\u001b[39m]\n",
      "\u001b[0;31mNameError\u001b[0m: name 'letters_df' is not defined"
     ]
    }
   ],
   "source": [
    "for index, row in words_df.iterrows():\n",
    "    prob = 0\n",
    "    letter_set = set()\n",
    "    for ele in row['Words']:\n",
    "        letter_set.add(ele)\n",
    "        temp_df = letters_df[letters_df[\"frequency\"].where(letters_df[\"letters\"] == ele).notnull()]\n",
    "        temp_df\n",
    "        prob += temp_df[\"frequency\"].iloc[0]\n",
    "        words_df.loc[index, [\"value\"]] = prob\n",
    "        words_df.loc[index, [\"letters\"]] = len(letter_set)\n",
    "        \n",
    "words_df       "
   ]
  },
  {
   "cell_type": "markdown",
   "id": "4c34be68-c7f6-4c15-9f79-d009bbc6740b",
   "metadata": {},
   "source": [
    "**Data science Table version**"
   ]
  },
  {
   "cell_type": "code",
   "execution_count": 19,
   "id": "7457ba79-c5dc-47ad-b880-8883fdcbdf8d",
   "metadata": {},
   "outputs": [
    {
     "ename": "NameError",
     "evalue": "name 'letters_df' is not defined",
     "output_type": "error",
     "traceback": [
      "\u001b[0;31m---------------------------------------------------------------------------\u001b[0m",
      "\u001b[0;31mNameError\u001b[0m                                 Traceback (most recent call last)",
      "Input \u001b[0;32mIn [19]\u001b[0m, in \u001b[0;36m<cell line: 1>\u001b[0;34m()\u001b[0m\n\u001b[1;32m      4\u001b[0m \u001b[38;5;28;01mfor\u001b[39;00m ele \u001b[38;5;129;01min\u001b[39;00m row[\u001b[38;5;124m'\u001b[39m\u001b[38;5;124mWords\u001b[39m\u001b[38;5;124m'\u001b[39m]:\n\u001b[1;32m      5\u001b[0m     letter_set\u001b[38;5;241m.\u001b[39madd(ele)\n\u001b[0;32m----> 6\u001b[0m     temp_df \u001b[38;5;241m=\u001b[39m \u001b[43mletters_df\u001b[49m[letters_df[\u001b[38;5;124m\"\u001b[39m\u001b[38;5;124mfrequency\u001b[39m\u001b[38;5;124m\"\u001b[39m]\u001b[38;5;241m.\u001b[39mwhere(letters_df[\u001b[38;5;124m\"\u001b[39m\u001b[38;5;124mletters\u001b[39m\u001b[38;5;124m\"\u001b[39m] \u001b[38;5;241m==\u001b[39m ele)\u001b[38;5;241m.\u001b[39mnotnull()]\n\u001b[1;32m      7\u001b[0m     temp_df\n\u001b[1;32m      8\u001b[0m     prob \u001b[38;5;241m+\u001b[39m\u001b[38;5;241m=\u001b[39m temp_df[\u001b[38;5;124m\"\u001b[39m\u001b[38;5;124mfrequency\u001b[39m\u001b[38;5;124m\"\u001b[39m]\u001b[38;5;241m.\u001b[39miloc[\u001b[38;5;241m0\u001b[39m]\n",
      "\u001b[0;31mNameError\u001b[0m: name 'letters_df' is not defined"
     ]
    }
   ],
   "source": [
    "for index, row in words_df.iterrows():\n",
    "    prob = 0\n",
    "    letter_set = set()\n",
    "    for ele in row['Words']:\n",
    "        letter_set.add(ele)\n",
    "        temp_df = letters_df[letters_df[\"frequency\"].where(letters_df[\"letters\"] == ele).notnull()]\n",
    "        temp_df\n",
    "        prob += temp_df[\"frequency\"].iloc[0]\n",
    "        words_df.loc[index, [\"value\"]] = prob\n",
    "        words_df.loc[index, [\"letters\"]] = len(letter_set)\n",
    "        \n",
    "words_df       "
   ]
  },
  {
   "cell_type": "code",
   "execution_count": 6,
   "id": "4da93281-682b-4496-a210-4858966170fa",
   "metadata": {},
   "outputs": [
    {
     "data": {
      "text/html": [
       "<table border=\"1\" class=\"dataframe\">\n",
       "    <thead>\n",
       "        <tr>\n",
       "            <th>letters</th> <th>frequency</th> <th>count</th>\n",
       "        </tr>\n",
       "    </thead>\n",
       "    <tbody>\n",
       "        <tr>\n",
       "            <td>e      </td> <td>0.111607 </td> <td>56.88</td>\n",
       "        </tr>\n",
       "        <tr>\n",
       "            <td>a      </td> <td>0.084966 </td> <td>43.31</td>\n",
       "        </tr>\n",
       "        <tr>\n",
       "            <td>r      </td> <td>0.075809 </td> <td>38.64</td>\n",
       "        </tr>\n",
       "        <tr>\n",
       "            <td>i      </td> <td>0.075448 </td> <td>38.45</td>\n",
       "        </tr>\n",
       "        <tr>\n",
       "            <td>o      </td> <td>0.071635 </td> <td>36.51</td>\n",
       "        </tr>\n",
       "        <tr>\n",
       "            <td>t      </td> <td>0.069509 </td> <td>35.43</td>\n",
       "        </tr>\n",
       "        <tr>\n",
       "            <td>n      </td> <td>0.066544 </td> <td>33.92</td>\n",
       "        </tr>\n",
       "        <tr>\n",
       "            <td>s      </td> <td>0.057351 </td> <td>29.23</td>\n",
       "        </tr>\n",
       "        <tr>\n",
       "            <td>l      </td> <td>0.054893 </td> <td>27.98</td>\n",
       "        </tr>\n",
       "        <tr>\n",
       "            <td>c      </td> <td>0.045388 </td> <td>23.13</td>\n",
       "        </tr>\n",
       "    </tbody>\n",
       "</table>\n",
       "<p>... (16 rows omitted)</p>"
      ],
      "text/plain": [
       "letters | frequency | count\n",
       "e       | 0.111607  | 56.88\n",
       "a       | 0.084966  | 43.31\n",
       "r       | 0.075809  | 38.64\n",
       "i       | 0.075448  | 38.45\n",
       "o       | 0.071635  | 36.51\n",
       "t       | 0.069509  | 35.43\n",
       "n       | 0.066544  | 33.92\n",
       "s       | 0.057351  | 29.23\n",
       "l       | 0.054893  | 27.98\n",
       "c       | 0.045388  | 23.13\n",
       "... (16 rows omitted)"
      ]
     },
     "execution_count": 6,
     "metadata": {},
     "output_type": "execute_result"
    }
   ],
   "source": [
    "url = \"data/Oxford_Letter_frequency.csv\"\n",
    "letters = Table().read_table(url, header=None, names=[\"letters\",\"frequency\",\"count\"])\n",
    "letters"
   ]
  },
  {
   "cell_type": "code",
   "execution_count": 20,
   "id": "7a33b750-7000-4ecd-a7ac-1632e4650a1f",
   "metadata": {},
   "outputs": [],
   "source": [
    "score = np.array([])\n",
    "letter_count = np.array([])\n",
    "for word in words['word']:\n",
    "    #print(\"Word: \", word)\n",
    "    wscore = 1\n",
    "    lcount = 0\n",
    "    for letter in word:\n",
    "        lcount +=1\n",
    "        letter_frequency = letters.where('letters',letter)['frequency'][0]\n",
    "        wscore = wscore*letter_frequency\n",
    "    score = np.append(score,wscore)\n",
    "    letter_count= np.append(letter_count, lcount)\n",
    "score = score*1.0e6\n",
    "words = words.with_columns(\"score\",score,\"letter_count\",letter_count)\n",
    "        \n",
    "    \n",
    "    "
   ]
  },
  {
   "cell_type": "markdown",
   "id": "61112da8-d037-458c-9802-e77d2a1d9923",
   "metadata": {},
   "source": [
    "Four letter words are included now we will select only five letter words."
   ]
  },
  {
   "cell_type": "code",
   "execution_count": 21,
   "id": "26b1941f-3f62-44ed-b8af-eec5e23ee7d2",
   "metadata": {},
   "outputs": [
    {
     "data": {
      "text/html": [
       "<table border=\"1\" class=\"dataframe\">\n",
       "    <thead>\n",
       "        <tr>\n",
       "            <th>word</th> <th>score</th> <th>letter_count</th>\n",
       "        </tr>\n",
       "    </thead>\n",
       "    <tbody>\n",
       "        <tr>\n",
       "            <td>eerie</td> <td>7.95139</td> <td>5           </td>\n",
       "        </tr>\n",
       "        <tr>\n",
       "            <td>aerie</td> <td>6.05336</td> <td>5           </td>\n",
       "        </tr>\n",
       "        <tr>\n",
       "            <td>eater</td> <td>5.57686</td> <td>5           </td>\n",
       "        </tr>\n",
       "        <tr>\n",
       "            <td>eaten</td> <td>4.89529</td> <td>5           </td>\n",
       "        </tr>\n",
       "        <tr>\n",
       "            <td>erase</td> <td>4.6014 </td> <td>5           </td>\n",
       "        </tr>\n",
       "        <tr>\n",
       "            <td>enter</td> <td>4.36771</td> <td>5           </td>\n",
       "        </tr>\n",
       "        <tr>\n",
       "            <td>rente</td> <td>4.36771</td> <td>5           </td>\n",
       "        </tr>\n",
       "        <tr>\n",
       "            <td>tease</td> <td>4.21901</td> <td>5           </td>\n",
       "        </tr>\n",
       "        <tr>\n",
       "            <td>rarer</td> <td>4.13142</td> <td>5           </td>\n",
       "        </tr>\n",
       "        <tr>\n",
       "            <td>airer</td> <td>4.11174</td> <td>5           </td>\n",
       "        </tr>\n",
       "    </tbody>\n",
       "</table>\n",
       "<p>... (5747 rows omitted)</p>"
      ],
      "text/plain": [
       "word  | score   | letter_count\n",
       "eerie | 7.95139 | 5\n",
       "aerie | 6.05336 | 5\n",
       "eater | 5.57686 | 5\n",
       "eaten | 4.89529 | 5\n",
       "erase | 4.6014  | 5\n",
       "enter | 4.36771 | 5\n",
       "rente | 4.36771 | 5\n",
       "tease | 4.21901 | 5\n",
       "rarer | 4.13142 | 5\n",
       "airer | 4.11174 | 5\n",
       "... (5747 rows omitted)"
      ]
     },
     "execution_count": 21,
     "metadata": {},
     "output_type": "execute_result"
    }
   ],
   "source": [
    "words.where('letter_count',5).sort('score',descending=True)"
   ]
  },
  {
   "cell_type": "code",
   "execution_count": null,
   "id": "eb30b981-2df6-4c64-95c4-dd4fd92bbf4f",
   "metadata": {},
   "outputs": [],
   "source": [
    "words_df.where(words_df[\"letters\"]==5.0).sort_values(by='value',ascending=False).dropna()"
   ]
  }
 ],
 "metadata": {
  "kernelspec": {
   "display_name": "Python 3 (ipykernel)",
   "language": "python",
   "name": "python3"
  },
  "language_info": {
   "codemirror_mode": {
    "name": "ipython",
    "version": 3
   },
   "file_extension": ".py",
   "mimetype": "text/x-python",
   "name": "python",
   "nbconvert_exporter": "python",
   "pygments_lexer": "ipython3",
   "version": "3.9.12"
  }
 },
 "nbformat": 4,
 "nbformat_minor": 5
}
