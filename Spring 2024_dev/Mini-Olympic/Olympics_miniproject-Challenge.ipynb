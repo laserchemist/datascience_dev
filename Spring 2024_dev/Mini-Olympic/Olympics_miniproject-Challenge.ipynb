{
 "cells": [
  {
   "cell_type": "markdown",
   "id": "57267dbe-29a4-4afd-8deb-dc8fca11d2a3",
   "metadata": {
    "editable": true,
    "slideshow": {
     "slide_type": ""
    },
    "tags": []
   },
   "source": [
    "# Mini Project I"
   ]
  },
  {
   "cell_type": "markdown",
   "id": "13427c65-e245-4735-a230-c05d178843ad",
   "metadata": {},
   "source": [
    "A mini-project is where you will begin to develop code and analysis to explore a data set and address questions. The format differs from a weekly lab in that you will develop your own notebook below.  **There will be no automatic test of your answers.** As a budding data scientist you need to develop the habit of checking your own work.\n",
    "\n",
    "You will create all the notebook code and **use extensive markdown to document** the process and your observations. This can be challenging at first but it is the way to trully understand the code development process and build confidence using code to analysis data.\n"
   ]
  },
  {
   "cell_type": "markdown",
   "id": "df2b5b2d-4c07-4730-bd6f-39d78815bba8",
   "metadata": {},
   "source": [
    "# Olympics Data mini-project\n",
    "## Overview\n",
    "In celebration of the Olympic spirit we will analyze trends in a data set which spans the from the 1896 Athens games to Rio in 2016. With this data we will explore trends in medals awarded, sports, and countries, as well as any host country advantage. The dataset is from Kaggle (https://www.kaggle.com ), a data science dataset, coding, and competition site. The mini-project represents your first chance to try out your coding and data skills to address specific questions without template code. Look to your previous labs and our work in class for ideas.\n",
    "\n",
    "(Data source:\n",
    "[Kaggle dataset](https://www.kaggle.com/heesoo37/120-years-of-olympic-history-athletes-and-results))\n",
    "\n",
    "Background Resources:\n",
    "- Data Tables (Inferential Thinking 6.1-6.4) \n",
    "- Visualization (Inferential Thinking 7.1, 7.2)\n",
    "- Cross-classifying (Inferential Thinking 8.3)"
   ]
  },
  {
   "cell_type": "markdown",
   "id": "4bdcd8c7-0092-4493-9bd5-f74b57436cfa",
   "metadata": {},
   "source": [
    "### Initialization"
   ]
  },
  {
   "cell_type": "code",
   "execution_count": null,
   "id": "0669759c-539d-418e-9b4a-bb4308f6f47f",
   "metadata": {},
   "outputs": [],
   "source": [
    "# Enter your name as a string\n",
    "name = ..."
   ]
  },
  {
   "cell_type": "code",
   "execution_count": null,
   "id": "742e0e08-c659-4fc2-b690-2a7a21c57206",
   "metadata": {},
   "outputs": [],
   "source": [
    "# Extra Python functionality to import\n",
    "from datascience import *  # datascience Table \n",
    "import EDS\n",
    "import numpy as np\n",
    "import pandas as pd\n",
    "%matplotlib inline\n",
    "import matplotlib.pyplot as plt\n",
    "plt.style.use('ggplot')\n",
    "import os\n",
    "user = os.getenv('JUPYTERHUB_USER')"
   ]
  },
  {
   "cell_type": "markdown",
   "id": "1d8d5c53-41ba-459a-8e85-cb9e3499fdb7",
   "metadata": {},
   "source": [
    "### Data Set\n",
    "Athletes: Olympic_Data/athlete_events.csv\n",
    "Source: Kaggle https://www.kaggle.com/heesoo37/120-years-of-olympic-history-athletes-and-results\n",
    "#### Data Fields\n",
    "1. ID - Unique number for each athlete\n",
    "2. Name - Athlete's name\n",
    "3. Sex-MorF\n",
    "4. Age - Integer\n",
    "5. Height - In centimeters\n",
    "6. Weight - In kilograms\n",
    "7. Team - Team name\n",
    "8. NOC - National Olympic Committee 3-letter code\n",
    "9. Games - Year and season\n",
    "10. Year - Integer\n",
    "11. Season - Summer or Winter\n",
    "12. City - Host city\n",
    "13. Sport - Sport\n",
    "14. Event - Event\n",
    "15. Medal - Gold, Silver, Bronze, or nan"
   ]
  },
  {
   "cell_type": "markdown",
   "id": "95887195-f96a-4580-ab61-6c2861c9f0f2",
   "metadata": {},
   "source": [
    "We will limit our project to data from the Winter Olympics by using the where method [.where(\"Season\",\"Winter\") ] which leaves us with 18,923 individual athletes and 48,564 athlete/event datapoints (Many athletes compete in multiple events and/or over multiple Olympics).  "
   ]
  },
  {
   "cell_type": "code",
   "execution_count": 207,
   "id": "51ec1d19-eac2-4cf7-979a-f2088537248d",
   "metadata": {
    "jupyter": {
     "source_hidden": true
    }
   },
   "outputs": [
    {
     "data": {
      "text/html": [
       "<table border=\"1\" class=\"dataframe\">\n",
       "    <thead>\n",
       "        <tr>\n",
       "            <th>ID</th> <th>Name</th> <th>Sex</th> <th>Age</th> <th>Height</th> <th>Weight</th> <th>Team</th> <th>NOC</th> <th>Games</th> <th>Year</th> <th>Season</th> <th>City</th> <th>Sport</th> <th>Event</th> <th>Medal</th>\n",
       "        </tr>\n",
       "    </thead>\n",
       "    <tbody>\n",
       "        <tr>\n",
       "            <td>16  </td> <td>Juhamatti Tapio Aaltonen          </td> <td>M   </td> <td>28  </td> <td>184   </td> <td>85    </td> <td>Finland      </td> <td>FIN </td> <td>2014 Winter</td> <td>2014</td> <td>Winter</td> <td>Sochi</td> <td>Ice Hockey      </td> <td>Ice Hockey Men's Ice Hockey       </td> <td>Bronze</td>\n",
       "        </tr>\n",
       "        <tr>\n",
       "            <td>126 </td> <td>Forough Abbasi                    </td> <td>F   </td> <td>20  </td> <td>164   </td> <td>58    </td> <td>Iran         </td> <td>IRI </td> <td>2014 Winter</td> <td>2014</td> <td>Winter</td> <td>Sochi</td> <td>Alpine Skiing   </td> <td>Alpine Skiing Women's Slalom      </td> <td>nan   </td>\n",
       "        </tr>\n",
       "        <tr>\n",
       "            <td>145 </td> <td>Jeremy Abbott                     </td> <td>M   </td> <td>28  </td> <td>175   </td> <td>70    </td> <td>United States</td> <td>USA </td> <td>2014 Winter</td> <td>2014</td> <td>Winter</td> <td>Sochi</td> <td>Figure Skating  </td> <td>Figure Skating Men's Singles      </td> <td>nan   </td>\n",
       "        </tr>\n",
       "        <tr>\n",
       "            <td>145 </td> <td>Jeremy Abbott                     </td> <td>M   </td> <td>28  </td> <td>175   </td> <td>70    </td> <td>United States</td> <td>USA </td> <td>2014 Winter</td> <td>2014</td> <td>Winter</td> <td>Sochi</td> <td>Figure Skating  </td> <td>Figure Skating Mixed Team         </td> <td>Bronze</td>\n",
       "        </tr>\n",
       "        <tr>\n",
       "            <td>463 </td> <td>Agnese boltia                     </td> <td>F   </td> <td>17  </td> <td>166   </td> <td>60    </td> <td>Latvia       </td> <td>LAT </td> <td>2014 Winter</td> <td>2014</td> <td>Winter</td> <td>Sochi</td> <td>Alpine Skiing   </td> <td>Alpine Skiing Women's Super G     </td> <td>nan   </td>\n",
       "        </tr>\n",
       "        <tr>\n",
       "            <td>463 </td> <td>Agnese boltia                     </td> <td>F   </td> <td>17  </td> <td>166   </td> <td>60    </td> <td>Latvia       </td> <td>LAT </td> <td>2014 Winter</td> <td>2014</td> <td>Winter</td> <td>Sochi</td> <td>Alpine Skiing   </td> <td>Alpine Skiing Women's Giant Slalom</td> <td>nan   </td>\n",
       "        </tr>\n",
       "        <tr>\n",
       "            <td>463 </td> <td>Agnese boltia                     </td> <td>F   </td> <td>17  </td> <td>166   </td> <td>60    </td> <td>Latvia       </td> <td>LAT </td> <td>2014 Winter</td> <td>2014</td> <td>Winter</td> <td>Sochi</td> <td>Alpine Skiing   </td> <td>Alpine Skiing Women's Slalom      </td> <td>nan   </td>\n",
       "        </tr>\n",
       "        <tr>\n",
       "            <td>532 </td> <td>Iason Abramashvili                </td> <td>M   </td> <td>25  </td> <td>176   </td> <td>82    </td> <td>Georgia      </td> <td>GEO </td> <td>2014 Winter</td> <td>2014</td> <td>Winter</td> <td>Sochi</td> <td>Alpine Skiing   </td> <td>Alpine Skiing Men's Giant Slalom  </td> <td>nan   </td>\n",
       "        </tr>\n",
       "        <tr>\n",
       "            <td>532 </td> <td>Iason Abramashvili                </td> <td>M   </td> <td>25  </td> <td>176   </td> <td>82    </td> <td>Georgia      </td> <td>GEO </td> <td>2014 Winter</td> <td>2014</td> <td>Winter</td> <td>Sochi</td> <td>Alpine Skiing   </td> <td>Alpine Skiing Men's Slalom        </td> <td>nan   </td>\n",
       "        </tr>\n",
       "        <tr>\n",
       "            <td>534 </td> <td>Oleksandr Volodymyrovych Abramenko</td> <td>M   </td> <td>25  </td> <td>180   </td> <td>82    </td> <td>Ukraine      </td> <td>UKR </td> <td>2014 Winter</td> <td>2014</td> <td>Winter</td> <td>Sochi</td> <td>Freestyle Skiing</td> <td>Freestyle Skiing Men's Aerials    </td> <td>nan   </td>\n",
       "        </tr>\n",
       "    </tbody>\n",
       "</table>\n",
       "<p>... (48554 rows omitted)</p>"
      ],
      "text/plain": [
       "ID   | Name                               | Sex  | Age  | Height | Weight | Team          | NOC  | Games       | Year | Season | City  | Sport            | Event                              | Medal\n",
       "16   | Juhamatti Tapio Aaltonen           | M    | 28   | 184    | 85     | Finland       | FIN  | 2014 Winter | 2014 | Winter | Sochi | Ice Hockey       | Ice Hockey Men's Ice Hockey        | Bronze\n",
       "126  | Forough Abbasi                     | F    | 20   | 164    | 58     | Iran          | IRI  | 2014 Winter | 2014 | Winter | Sochi | Alpine Skiing    | Alpine Skiing Women's Slalom       | nan\n",
       "145  | Jeremy Abbott                      | M    | 28   | 175    | 70     | United States | USA  | 2014 Winter | 2014 | Winter | Sochi | Figure Skating   | Figure Skating Men's Singles       | nan\n",
       "145  | Jeremy Abbott                      | M    | 28   | 175    | 70     | United States | USA  | 2014 Winter | 2014 | Winter | Sochi | Figure Skating   | Figure Skating Mixed Team          | Bronze\n",
       "463  | Agnese boltia                      | F    | 17   | 166    | 60     | Latvia        | LAT  | 2014 Winter | 2014 | Winter | Sochi | Alpine Skiing    | Alpine Skiing Women's Super G      | nan\n",
       "463  | Agnese boltia                      | F    | 17   | 166    | 60     | Latvia        | LAT  | 2014 Winter | 2014 | Winter | Sochi | Alpine Skiing    | Alpine Skiing Women's Giant Slalom | nan\n",
       "463  | Agnese boltia                      | F    | 17   | 166    | 60     | Latvia        | LAT  | 2014 Winter | 2014 | Winter | Sochi | Alpine Skiing    | Alpine Skiing Women's Slalom       | nan\n",
       "532  | Iason Abramashvili                 | M    | 25   | 176    | 82     | Georgia       | GEO  | 2014 Winter | 2014 | Winter | Sochi | Alpine Skiing    | Alpine Skiing Men's Giant Slalom   | nan\n",
       "532  | Iason Abramashvili                 | M    | 25   | 176    | 82     | Georgia       | GEO  | 2014 Winter | 2014 | Winter | Sochi | Alpine Skiing    | Alpine Skiing Men's Slalom         | nan\n",
       "534  | Oleksandr Volodymyrovych Abramenko | M    | 25   | 180    | 82     | Ukraine       | UKR  | 2014 Winter | 2014 | Winter | Sochi | Freestyle Skiing | Freestyle Skiing Men's Aerials     | nan\n",
       "... (48554 rows omitted)"
      ]
     },
     "execution_count": 207,
     "metadata": {},
     "output_type": "execute_result"
    }
   ],
   "source": [
    "datafile = \"Olympic_Data/winter_athletes.csv\"\n",
    "athletes = Table.read_table(datafile).sort(\"Year\",descending=True).where(\"Season\",\"Winter\")\n",
    "athletes"
   ]
  },
  {
   "cell_type": "markdown",
   "id": "eccd67c7-7a4d-4ac3-9347-2905a9717c65",
   "metadata": {},
   "source": [
    "#### Considerations\n",
    "- Each observation is an athletes performance in a particular event for a particular year.\n",
    "- `.group()` is a very useful Table method to group by Team, Year, Age, etc.\n",
    "- Athletes can perform in multiple events and over multiple years\n",
    "- `athletes.group(\"Name\", np.unique)` Can provide unique athlete names and combine their efforts in a list. This can be a challenge for analysis of specific performances but givene a good count of total athletes, `athletes.group(\"Name\", np.unique).num_rows`"
   ]
  },
  {
   "cell_type": "code",
   "execution_count": 268,
   "id": "d5c54863-bb8c-4c01-9f6d-5bc25a9542b1",
   "metadata": {
    "tags": []
   },
   "outputs": [
    {
     "data": {
      "text/plain": [
       "18923"
      ]
     },
     "execution_count": 268,
     "metadata": {},
     "output_type": "execute_result"
    }
   ],
   "source": [
    "athletes.group(\"Name\", np.unique).num_rows"
   ]
  },
  {
   "cell_type": "code",
   "execution_count": 269,
   "id": "c5e43080-63bb-4f90-a12c-0263cb0b90e1",
   "metadata": {
    "tags": []
   },
   "outputs": [
    {
     "data": {
      "text/plain": [
       "48564"
      ]
     },
     "execution_count": 269,
     "metadata": {},
     "output_type": "execute_result"
    }
   ],
   "source": [
    "athletes.num_rows"
   ]
  },
  {
   "cell_type": "markdown",
   "id": "ada12c97-04f1-4ea0-8a86-6f411a3ef0be",
   "metadata": {},
   "source": [
    "Some athletes do not have an age listed do for analysis of age we will only use those with a reported and reasonable age."
   ]
  },
  {
   "cell_type": "code",
   "execution_count": null,
   "id": "0cc7d404-e617-4b59-8712-10b6ede880cc",
   "metadata": {},
   "outputs": [],
   "source": [
    "age_athletes = athletes.where(\"Age\",are.below(99)).where(\"Age\",are.above(0))"
   ]
  },
  {
   "cell_type": "markdown",
   "id": "0585b622-e1ed-4752-b9f6-b99de9e9d1d3",
   "metadata": {},
   "source": [
    "## Mini-Project Questions to address\n",
    "Now develop your project to address the questions below. You will be adding lines of code and markdown as needed below. Feel free to expand the project to explore ideas of interest."
   ]
  },
  {
   "cell_type": "markdown",
   "id": "5d864ddf-913d-435e-97fa-daf76e3d609d",
   "metadata": {},
   "source": [
    "1. What is the earliest year for a Winter Olympics in this dataset? Check this value [(https://olympics.com/en/olympic-games/olympic-results )](https://olympics.com/en/olympic-games/olympic-results ), does it fit the data?\n"
   ]
  },
  {
   "cell_type": "code",
   "execution_count": null,
   "id": "86bd880d-ede1-408c-9427-05022d43b13d",
   "metadata": {},
   "outputs": [],
   "source": []
  },
  {
   "cell_type": "markdown",
   "id": "6daacef3-a4b8-4680-a52b-f587f9294b93",
   "metadata": {},
   "source": [
    "2. Examine the distribution of the age of all Olympians with a histogram. What do you find? "
   ]
  },
  {
   "cell_type": "code",
   "execution_count": null,
   "id": "4d7c529c-d3b5-4673-baf1-b9ef8c60367d",
   "metadata": {},
   "outputs": [],
   "source": []
  },
  {
   "cell_type": "markdown",
   "id": "f59f0534-8d7e-445f-9a59-3a6a4e45fbc2",
   "metadata": {},
   "source": [
    "3. Another way to get a view of this distribution of Olympian ages is a **five number summary** which includes the min, max, median, mean, and standard deviation. To get the **five number summary** (min, max, median, mean, and standard deviation) using np.min, np.max, np.median, np.mean, and np.std respectively on the corresponding column array. Below create a function to compute and display the five number summary given an argument of table name and column label.\n",
    "   | Statistic| Description||\n",
    "   |---|---|---|\n",
    "   |**Measures of the central tendency of data**|\n",
    "   |mean|sum of values divided by number of values, $\\bar{x}$ | `np.array([1, 3, 6, 7, 8]).mean()` <br> $\\bar{x}=$ 5|\n",
    "   |median|middle value of set of data | median of `np.array([1, 3, 6, 7, 8])`  is 6|\n",
    "   |**Measures of variability of data**|\n",
    "   |variance| average difference <br>between data and the mean, $\\sigma^2$|$\\sigma^2 = \\frac{\\sum_i(x_i - \\bar{x})^2}{n-1} $ <br>for population where $n$ is number of data points|\n",
    "   |standard deviation|square root of variance|$\\sigma$|"
   ]
  },
  {
   "cell_type": "code",
   "execution_count": 233,
   "id": "747a3e81-a2b1-4d7c-a046-86d27e6cc6d2",
   "metadata": {},
   "outputs": [],
   "source": [
    "def five_num_sum(table,column):\n",
    "    nums=[]\n",
    "    array = table.column(column)\n",
    "    nums.append(np.min(array))\n",
    "    nums.append(np.max(array))\n",
    "    nums.append(np.mean(array))\n",
    "    nums.append(np.median(array))\n",
    "    nums.append(np.std(array))\n",
    "    print(f'min: {nums[0]:.2f} max: {nums[1]:.2f}  mean: {nums[2]:.2f} median: {nums[3]:.2f} standard deviation: {nums[4]:.2f}')\n",
    "    return nums"
   ]
  },
  {
   "cell_type": "code",
   "execution_count": 229,
   "id": "8e0bce68-8c1f-4a9c-9dd3-4a014d97fde6",
   "metadata": {},
   "outputs": [],
   "source": [
    "def two_num_sum(table,column):\n",
    "    nums=[]\n",
    "    array = table.column(column)\n",
    "    nums.append(np.mean(array))\n",
    "    nums.append(np.std(array))\n",
    "    print(f'mean: {nums[0]:.2f} \\nstandard deviation: {nums[1]:.2f} \\n')\n",
    "    return nums"
   ]
  },
  {
   "cell_type": "code",
   "execution_count": 227,
   "id": "c440ee17-9b12-4f3d-9d61-ec48c5b60a72",
   "metadata": {},
   "outputs": [
    {
     "name": "stdout",
     "output_type": "stream",
     "text": [
      "mean: nan \n",
      "standard deviation: nan \n",
      "\n"
     ]
    },
    {
     "data": {
      "text/plain": [
       "[nan, nan]"
      ]
     },
     "execution_count": 227,
     "metadata": {},
     "output_type": "execute_result"
    }
   ],
   "source": [
    "two_num_sum(athletes,\"Age\")"
   ]
  },
  {
   "cell_type": "code",
   "execution_count": 230,
   "id": "f55cf704-ac0d-4e4b-95a5-5e4c654df9f0",
   "metadata": {},
   "outputs": [
    {
     "name": "stdout",
     "output_type": "stream",
     "text": [
      "mean: 25.04 \n",
      "standard deviation: 4.78 \n",
      "\n"
     ]
    },
    {
     "data": {
      "text/plain": [
       "[25.039147455415399, 4.7776857171359515]"
      ]
     },
     "execution_count": 230,
     "metadata": {},
     "output_type": "execute_result"
    }
   ],
   "source": [
    "stats = two_num_sum(athletes.where(\"Age\",are.below(90)),\"Age\")\n",
    "stats"
   ]
  },
  {
   "cell_type": "code",
   "execution_count": 231,
   "id": "045d31bf-7f4f-488c-978b-fb64846765e6",
   "metadata": {},
   "outputs": [
    {
     "name": "stdout",
     "output_type": "stream",
     "text": [
      "mean: 26.16 \n",
      "standard deviation: 4.89 \n",
      "\n"
     ]
    },
    {
     "data": {
      "text/plain": [
       "[26.157037815126049, 4.8877121315522416]"
      ]
     },
     "execution_count": 231,
     "metadata": {},
     "output_type": "execute_result"
    }
   ],
   "source": [
    "stats = two_num_sum(athletes.where(\"Age\",are.below(90)).where(\"Medal\",\"Gold\"),\"Age\")\n",
    "stats"
   ]
  },
  {
   "cell_type": "code",
   "execution_count": 292,
   "id": "0b8ca052-355e-4096-9264-075afc559585",
   "metadata": {},
   "outputs": [
    {
     "name": "stdout",
     "output_type": "stream",
     "text": [
      "min: 13.00 max: 57.00  mean: 26.16 median: 26.00 standard deviation: 4.89\n"
     ]
    }
   ],
   "source": [
    "stats = five_num_sum(athletes.where(\"Age\",are.below(90)).where(\"Medal\",\"Gold\"),\"Age\")"
   ]
  },
  {
   "cell_type": "code",
   "execution_count": 296,
   "id": "b25d4497-4ee2-4ab4-86de-9b620ce9b7a1",
   "metadata": {},
   "outputs": [
    {
     "name": "stdout",
     "output_type": "stream",
     "text": [
      "min: 11.00 max: 58.00  mean: 25.04 median: 24.00 standard deviation: 4.78\n"
     ]
    }
   ],
   "source": [
    "stats = five_num_sum(athletes.where(\"Age\",are.below(90)),\"Age\")"
   ]
  },
  {
   "cell_type": "code",
   "execution_count": 309,
   "id": "9dacd711-e8b7-4455-b397-52d26023b49a",
   "metadata": {},
   "outputs": [
    {
     "data": {
      "image/png": "[encoded data removed]",
      "text/plain": [
       "<Figure size 432x288 with 1 Axes>"
      ]
     },
     "metadata": {},
     "output_type": "display_data"
    }
   ],
   "source": [
    "athletes.where(\"Age\",are.below(90)).hist(\"Age\", bins=30, range=[0,60], fc=(.5, .5, .2, 0.5), edgecolor='yellow', linewidth=1.2, density=False)\n",
    "mean_label = 'mean: '+str(round(stats[2],2))\n",
    "plt.axvline(x=stats[2], color='b', ls='--',label=mean_label)\n",
    "median_label = 'median: '+str(int(stats[3]))\n",
    "plt.axvline(x=stats[3], color='r', ls=':', label=median_label)\n",
    "plt.title(\"Age distribution of Winter Olympians\")\n",
    "plt.legend()\n",
    "plt.savefig('Olympian_Age_distro.png')\n",
    "plt.show()"
   ]
  },
  {
   "cell_type": "code",
   "execution_count": 235,
   "id": "e478b1ab-e42d-4c0f-82b7-cb2ca2524038",
   "metadata": {},
   "outputs": [
    {
     "name": "stdout",
     "output_type": "stream",
     "text": [
      "min: 18.00 max: 31.00  mean: 24.47 median: 24.00 standard deviation: 3.23\n"
     ]
    }
   ],
   "source": [
    "stats = five_num_sum(athletes.where(\"Age\",are.below(90)).where(\"Medal\",\"Gold\").where(\"Team\",\"France\"),\"Age\")"
   ]
  },
  {
   "cell_type": "code",
   "execution_count": 236,
   "id": "ceb11247-7b34-4a7e-a5c6-9e24ad4711c2",
   "metadata": {},
   "outputs": [
    {
     "data": {
      "image/png": "[encoded data removed]",
      "text/plain": [
       "<Figure size 432x288 with 1 Axes>"
      ]
     },
     "metadata": {},
     "output_type": "display_data"
    }
   ],
   "source": [
    "athletes.where(\"Age\",are.below(90)).where(\"Team\",\"France\").hist(\"Age\", \\\n",
    "        bins=25, fc=(.5, .5, .2, 0.5), edgecolor='yellow', linewidth=1.2)\n",
    "mean_label = 'mean: '+str(round(stats[2],2))\n",
    "plt.axvline(x=stats[2], color='b', ls='--',label=mean_label)\n",
    "median_label = 'median: '+str(round(stats[3],2))\n",
    "plt.axvline(x=stats[3], color='r', ls=':', label=median_label)\n",
    "plt.title(\"Age distribution of Winter Olympians from France\")\n",
    "plt.legend()\n",
    "plt.show()"
   ]
  },
  {
   "cell_type": "code",
   "execution_count": 174,
   "id": "faebb868-8793-4e7f-9fa3-efd492ea9d1e",
   "metadata": {},
   "outputs": [
    {
     "data": {
      "text/plain": [
       "4.7800000000000002"
      ]
     },
     "execution_count": 174,
     "metadata": {},
     "output_type": "execute_result"
    }
   ],
   "source": [
    "stats[4]"
   ]
  },
  {
   "cell_type": "code",
   "execution_count": 135,
   "id": "235a6cf5-4a0b-4a9b-bc6b-b08e50ddcadc",
   "metadata": {},
   "outputs": [
    {
     "data": {
      "text/plain": [
       "[25.039147455415399, 4.7776857171359515]"
      ]
     },
     "execution_count": 135,
     "metadata": {},
     "output_type": "execute_result"
    }
   ],
   "source": [
    "two_num_sum(athletes.where(\"Age\",are.below(90)),\"Age\")"
   ]
  },
  {
   "cell_type": "code",
   "execution_count": null,
   "id": "4bd4e1fc-0c40-4040-8abb-5aa6d9114c26",
   "metadata": {},
   "outputs": [],
   "source": [
    "two_num_sum(age_athletes.where(\"City\",\"Lake Placid\"),\"Age\")"
   ]
  },
  {
   "cell_type": "code",
   "execution_count": null,
   "id": "e1906a4a-46c0-4bc3-a92a-09ced02a62b7",
   "metadata": {},
   "outputs": [],
   "source": [
    "athletes.where(\"City\",\"Lake Placid\").group(\"Team\")\n"
   ]
  },
  {
   "cell_type": "code",
   "execution_count": null,
   "id": "97c0c674-fdba-4d6c-ba03-e918e0cd51b2",
   "metadata": {},
   "outputs": [],
   "source": [
    "two_num_sum(age_athletes,\"Age\")"
   ]
  },
  {
   "cell_type": "code",
   "execution_count": null,
   "id": "e0ac34f1-e1a9-435e-85e0-5a45ac588a59",
   "metadata": {},
   "outputs": [],
   "source": [
    "two_num_sum(athletes.where(\"Age\",are.below(90)).where(\"Team\",\"Latvia\"),\"Age\")"
   ]
  },
  {
   "cell_type": "code",
   "execution_count": null,
   "id": "20fbdd05-b19a-4226-a386-f4fd0224e0bd",
   "metadata": {},
   "outputs": [],
   "source": [
    "age_athletes.where(\"Medal\",\"Gold\").where(\"Team\",\"Norway\").hist(\"Age\")"
   ]
  },
  {
   "cell_type": "code",
   "execution_count": null,
   "id": "d6e26929-91dc-4d02-a227-b491a0d16849",
   "metadata": {},
   "outputs": [],
   "source": [
    "two_num_sum(age_athletes.where(\"Medal\",\"Gold\").where(\"Team\",\"Norway\"),\"Age\")"
   ]
  },
  {
   "cell_type": "markdown",
   "id": "b82c8206-1b56-48a2-81ae-9abd96bd1fe0",
   "metadata": {},
   "source": [
    "#### Group\n",
    "In the next questions it will be very helpful to utilize the `.group` Table method. See [Inferential Thinking 8.3](https://inferentialthinking.com/chapters/08/3/Cross-Classifying_by_More_than_One_Variable.html)<br>Follow the example below."
   ]
  },
  {
   "cell_type": "code",
   "execution_count": null,
   "id": "7526bebd-0521-480b-b7d0-5d8e59525541",
   "metadata": {
    "tags": []
   },
   "outputs": [],
   "source": [
    "IC_data = Table.read_table('Olympic_data/BenJerryData.csv')\n",
    "IC_data"
   ]
  },
  {
   "cell_type": "markdown",
   "id": "438069c6-035d-4d74-8824-e4a285984857",
   "metadata": {},
   "source": [
    "#### .group"
   ]
  },
  {
   "cell_type": "markdown",
   "id": "bc223516-1323-46af-a558-c7417d36ecc8",
   "metadata": {},
   "source": [
    "Look at base ice creams"
   ]
  },
  {
   "cell_type": "code",
   "execution_count": null,
   "id": "d84781fc-4d2b-4a07-b641-d76035640f43",
   "metadata": {
    "tags": []
   },
   "outputs": [],
   "source": [
    "IC_data.group('base ice cream')"
   ]
  },
  {
   "cell_type": "markdown",
   "id": "51657ffd-6d25-4052-9623-4d689220df36",
   "metadata": {},
   "source": [
    "#### .pivot"
   ]
  },
  {
   "cell_type": "code",
   "execution_count": null,
   "id": "900f87c4-cd63-4db5-b760-27f37b1e6c3e",
   "metadata": {},
   "outputs": [],
   "source": [
    "IC_data.pivot('Flavor','fat (g)')"
   ]
  },
  {
   "cell_type": "markdown",
   "id": "25175e52-d08c-4bb1-ae98-03aebf2ca50c",
   "metadata": {},
   "source": [
    "4. Since a given athlete can appear in multiple events, a better way to examine the age distribution of athletes is to group the data by name using a function such as np.average. i.e. `athletes.group(\"Name\", np.average)`"
   ]
  },
  {
   "cell_type": "code",
   "execution_count": 281,
   "id": "eddf20fd-b5d8-4037-9c32-63588d17d12e",
   "metadata": {},
   "outputs": [
    {
     "data": {
      "text/html": [
       "<table border=\"1\" class=\"dataframe\">\n",
       "    <thead>\n",
       "        <tr>\n",
       "            <th>Sport</th> <th>1924</th> <th>1928</th> <th>1932</th> <th>1936</th> <th>1948</th> <th>1952</th> <th>1956</th> <th>1960</th> <th>1964</th> <th>1968</th> <th>1972</th> <th>1976</th> <th>1980</th> <th>1984</th> <th>1988</th> <th>1992</th> <th>1994</th> <th>1998</th> <th>2002</th> <th>2006</th> <th>2010</th> <th>2014</th>\n",
       "        </tr>\n",
       "    </thead>\n",
       "    <tbody>\n",
       "        <tr>\n",
       "            <td>Alpine Skiing       </td> <td>0   </td> <td>0   </td> <td>0   </td> <td>103 </td> <td>360 </td> <td>378 </td> <td>403 </td> <td>320 </td> <td>411 </td> <td>422 </td> <td>325 </td> <td>390 </td> <td>327 </td> <td>401 </td> <td>668 </td> <td>750 </td> <td>544 </td> <td>477 </td> <td>559 </td> <td>619 </td> <td>685 </td> <td>687 </td>\n",
       "        </tr>\n",
       "        <tr>\n",
       "            <td>Alpinism            </td> <td>21  </td> <td>0   </td> <td>0   </td> <td>0   </td> <td>0   </td> <td>0   </td> <td>0   </td> <td>0   </td> <td>0   </td> <td>0   </td> <td>0   </td> <td>0   </td> <td>0   </td> <td>0   </td> <td>0   </td> <td>0   </td> <td>0   </td> <td>0   </td> <td>0   </td> <td>0   </td> <td>0   </td> <td>0   </td>\n",
       "        </tr>\n",
       "        <tr>\n",
       "            <td>Biathlon            </td> <td>0   </td> <td>0   </td> <td>0   </td> <td>0   </td> <td>0   </td> <td>0   </td> <td>0   </td> <td>30  </td> <td>51  </td> <td>116 </td> <td>106 </td> <td>112 </td> <td>159 </td> <td>195 </td> <td>207 </td> <td>457 </td> <td>416 </td> <td>413 </td> <td>564 </td> <td>658 </td> <td>683 </td> <td>726 </td>\n",
       "        </tr>\n",
       "        <tr>\n",
       "            <td>Bobsleigh           </td> <td>39  </td> <td>116 </td> <td>52  </td> <td>118 </td> <td>92  </td> <td>96  </td> <td>135 </td> <td>0   </td> <td>117 </td> <td>120 </td> <td>114 </td> <td>133 </td> <td>108 </td> <td>152 </td> <td>186 </td> <td>216 </td> <td>207 </td> <td>204 </td> <td>240 </td> <td>191 </td> <td>199 </td> <td>223 </td>\n",
       "        </tr>\n",
       "        <tr>\n",
       "            <td>Cross Country Skiing</td> <td>74  </td> <td>90  </td> <td>74  </td> <td>175 </td> <td>156 </td> <td>188 </td> <td>275 </td> <td>216 </td> <td>332 </td> <td>344 </td> <td>335 </td> <td>395 </td> <td>309 </td> <td>477 </td> <td>528 </td> <td>717 </td> <td>639 </td> <td>733 </td> <td>774 </td> <td>812 </td> <td>725 </td> <td>765 </td>\n",
       "        </tr>\n",
       "        <tr>\n",
       "            <td>Curling             </td> <td>16  </td> <td>0   </td> <td>0   </td> <td>0   </td> <td>0   </td> <td>0   </td> <td>0   </td> <td>0   </td> <td>0   </td> <td>0   </td> <td>0   </td> <td>0   </td> <td>0   </td> <td>0   </td> <td>0   </td> <td>0   </td> <td>0   </td> <td>80  </td> <td>96  </td> <td>91  </td> <td>93  </td> <td>87  </td>\n",
       "        </tr>\n",
       "        <tr>\n",
       "            <td>Figure Skating      </td> <td>37  </td> <td>63  </td> <td>41  </td> <td>87  </td> <td>71  </td> <td>65  </td> <td>59  </td> <td>71  </td> <td>88  </td> <td>96  </td> <td>68  </td> <td>105 </td> <td>85  </td> <td>114 </td> <td>129 </td> <td>133 </td> <td>130 </td> <td>145 </td> <td>143 </td> <td>147 </td> <td>146 </td> <td>221 </td>\n",
       "        </tr>\n",
       "        <tr>\n",
       "            <td>Freestyle Skiing    </td> <td>0   </td> <td>0   </td> <td>0   </td> <td>0   </td> <td>0   </td> <td>0   </td> <td>0   </td> <td>0   </td> <td>0   </td> <td>0   </td> <td>0   </td> <td>0   </td> <td>0   </td> <td>0   </td> <td>0   </td> <td>71  </td> <td>99  </td> <td>110 </td> <td>105 </td> <td>116 </td> <td>172 </td> <td>264 </td>\n",
       "        </tr>\n",
       "        <tr>\n",
       "            <td>Ice Hockey          </td> <td>82  </td> <td>124 </td> <td>48  </td> <td>173 </td> <td>139 </td> <td>147 </td> <td>169 </td> <td>152 </td> <td>270 </td> <td>250 </td> <td>208 </td> <td>217 </td> <td>239 </td> <td>239 </td> <td>265 </td> <td>267 </td> <td>268 </td> <td>426 </td> <td>468 </td> <td>442 </td> <td>420 </td> <td>443 </td>\n",
       "        </tr>\n",
       "        <tr>\n",
       "            <td>Luge                </td> <td>0   </td> <td>0   </td> <td>0   </td> <td>0   </td> <td>0   </td> <td>0   </td> <td>0   </td> <td>0   </td> <td>85  </td> <td>106 </td> <td>107 </td> <td>119 </td> <td>94  </td> <td>89  </td> <td>98  </td> <td>98  </td> <td>98  </td> <td>97  </td> <td>117 </td> <td>108 </td> <td>107 </td> <td>156 </td>\n",
       "        </tr>\n",
       "    </tbody>\n",
       "</table>\n",
       "<p>... (7 rows omitted)</p>"
      ],
      "text/plain": [
       "Sport                | 1924 | 1928 | 1932 | 1936 | 1948 | 1952 | 1956 | 1960 | 1964 | 1968 | 1972 | 1976 | 1980 | 1984 | 1988 | 1992 | 1994 | 1998 | 2002 | 2006 | 2010 | 2014\n",
       "Alpine Skiing        | 0    | 0    | 0    | 103  | 360  | 378  | 403  | 320  | 411  | 422  | 325  | 390  | 327  | 401  | 668  | 750  | 544  | 477  | 559  | 619  | 685  | 687\n",
       "Alpinism             | 21   | 0    | 0    | 0    | 0    | 0    | 0    | 0    | 0    | 0    | 0    | 0    | 0    | 0    | 0    | 0    | 0    | 0    | 0    | 0    | 0    | 0\n",
       "Biathlon             | 0    | 0    | 0    | 0    | 0    | 0    | 0    | 30   | 51   | 116  | 106  | 112  | 159  | 195  | 207  | 457  | 416  | 413  | 564  | 658  | 683  | 726\n",
       "Bobsleigh            | 39   | 116  | 52   | 118  | 92   | 96   | 135  | 0    | 117  | 120  | 114  | 133  | 108  | 152  | 186  | 216  | 207  | 204  | 240  | 191  | 199  | 223\n",
       "Cross Country Skiing | 74   | 90   | 74   | 175  | 156  | 188  | 275  | 216  | 332  | 344  | 335  | 395  | 309  | 477  | 528  | 717  | 639  | 733  | 774  | 812  | 725  | 765\n",
       "Curling              | 16   | 0    | 0    | 0    | 0    | 0    | 0    | 0    | 0    | 0    | 0    | 0    | 0    | 0    | 0    | 0    | 0    | 80   | 96   | 91   | 93   | 87\n",
       "Figure Skating       | 37   | 63   | 41   | 87   | 71   | 65   | 59   | 71   | 88   | 96   | 68   | 105  | 85   | 114  | 129  | 133  | 130  | 145  | 143  | 147  | 146  | 221\n",
       "Freestyle Skiing     | 0    | 0    | 0    | 0    | 0    | 0    | 0    | 0    | 0    | 0    | 0    | 0    | 0    | 0    | 0    | 71   | 99   | 110  | 105  | 116  | 172  | 264\n",
       "Ice Hockey           | 82   | 124  | 48   | 173  | 139  | 147  | 169  | 152  | 270  | 250  | 208  | 217  | 239  | 239  | 265  | 267  | 268  | 426  | 468  | 442  | 420  | 443\n",
       "Luge                 | 0    | 0    | 0    | 0    | 0    | 0    | 0    | 0    | 85   | 106  | 107  | 119  | 94   | 89   | 98   | 98   | 98   | 97   | 117  | 108  | 107  | 156\n",
       "... (7 rows omitted)"
      ]
     },
     "execution_count": 281,
     "metadata": {},
     "output_type": "execute_result"
    }
   ],
   "source": [
    "athletes.pivot(\"Year\",\"Sport\")"
   ]
  },
  {
   "cell_type": "code",
   "execution_count": 284,
   "id": "5aac7d51-ad5c-4df0-b229-0f79f87eff03",
   "metadata": {},
   "outputs": [
    {
     "data": {
      "text/html": [
       "<table border=\"1\" class=\"dataframe\">\n",
       "    <thead>\n",
       "        <tr>\n",
       "            <th>Year</th> <th>count</th>\n",
       "        </tr>\n",
       "    </thead>\n",
       "    <tbody>\n",
       "        <tr>\n",
       "            <td>1924</td> <td>10   </td>\n",
       "        </tr>\n",
       "        <tr>\n",
       "            <td>1928</td> <td>8    </td>\n",
       "        </tr>\n",
       "        <tr>\n",
       "            <td>1932</td> <td>7    </td>\n",
       "        </tr>\n",
       "        <tr>\n",
       "            <td>1936</td> <td>8    </td>\n",
       "        </tr>\n",
       "        <tr>\n",
       "            <td>1948</td> <td>9    </td>\n",
       "        </tr>\n",
       "        <tr>\n",
       "            <td>1952</td> <td>8    </td>\n",
       "        </tr>\n",
       "        <tr>\n",
       "            <td>1956</td> <td>8    </td>\n",
       "        </tr>\n",
       "        <tr>\n",
       "            <td>1960</td> <td>8    </td>\n",
       "        </tr>\n",
       "        <tr>\n",
       "            <td>1964</td> <td>10   </td>\n",
       "        </tr>\n",
       "        <tr>\n",
       "            <td>1968</td> <td>10   </td>\n",
       "        </tr>\n",
       "    </tbody>\n",
       "</table>\n",
       "<p>... (12 rows omitted)</p>"
      ],
      "text/plain": [
       "Year | count\n",
       "1924 | 10\n",
       "1928 | 8\n",
       "1932 | 7\n",
       "1936 | 8\n",
       "1948 | 9\n",
       "1952 | 8\n",
       "1956 | 8\n",
       "1960 | 8\n",
       "1964 | 10\n",
       "1968 | 10\n",
       "... (12 rows omitted)"
      ]
     },
     "execution_count": 284,
     "metadata": {},
     "output_type": "execute_result"
    }
   ],
   "source": [
    "athletes.group([\"Year\",\"Sport\"]).group(\"Year\")"
   ]
  },
  {
   "cell_type": "code",
   "execution_count": null,
   "id": "a7b7070f-b1bf-4180-8fe9-607b1d2d93a6",
   "metadata": {},
   "outputs": [],
   "source": []
  },
  {
   "cell_type": "code",
   "execution_count": 287,
   "id": "652009c4-a386-4954-8bf2-6edc12f7bdae",
   "metadata": {},
   "outputs": [
    {
     "data": {
      "text/html": [
       "<table border=\"1\" class=\"dataframe\">\n",
       "    <thead>\n",
       "        <tr>\n",
       "            <th>Year</th> <th>count</th>\n",
       "        </tr>\n",
       "    </thead>\n",
       "    <tbody>\n",
       "        <tr>\n",
       "            <td>1924</td> <td>38   </td>\n",
       "        </tr>\n",
       "        <tr>\n",
       "            <td>1928</td> <td>28   </td>\n",
       "        </tr>\n",
       "        <tr>\n",
       "            <td>1932</td> <td>32   </td>\n",
       "        </tr>\n",
       "        <tr>\n",
       "            <td>1936</td> <td>37   </td>\n",
       "        </tr>\n",
       "        <tr>\n",
       "            <td>1948</td> <td>48   </td>\n",
       "        </tr>\n",
       "        <tr>\n",
       "            <td>1952</td> <td>44   </td>\n",
       "        </tr>\n",
       "        <tr>\n",
       "            <td>1956</td> <td>49   </td>\n",
       "        </tr>\n",
       "        <tr>\n",
       "            <td>1960</td> <td>48   </td>\n",
       "        </tr>\n",
       "        <tr>\n",
       "            <td>1964</td> <td>67   </td>\n",
       "        </tr>\n",
       "        <tr>\n",
       "            <td>1968</td> <td>70   </td>\n",
       "        </tr>\n",
       "    </tbody>\n",
       "</table>\n",
       "<p>... (12 rows omitted)</p>"
      ],
      "text/plain": [
       "Year | count\n",
       "1924 | 38\n",
       "1928 | 28\n",
       "1932 | 32\n",
       "1936 | 37\n",
       "1948 | 48\n",
       "1952 | 44\n",
       "1956 | 49\n",
       "1960 | 48\n",
       "1964 | 67\n",
       "1968 | 70\n",
       "... (12 rows omitted)"
      ]
     },
     "execution_count": 287,
     "metadata": {},
     "output_type": "execute_result"
    }
   ],
   "source": [
    "silver_medals = athletes.where(\"Medal\",\"Silver\").group(\"Year\")\n",
    "silver_medals\n",
    "                            "
   ]
  },
  {
   "cell_type": "code",
   "execution_count": 288,
   "id": "8e9fc0a0-5858-4099-8612-cc558b9a26b5",
   "metadata": {},
   "outputs": [
    {
     "data": {
      "text/html": [
       "<table border=\"1\" class=\"dataframe\">\n",
       "    <thead>\n",
       "        <tr>\n",
       "            <th>Year</th> <th>count</th>\n",
       "        </tr>\n",
       "    </thead>\n",
       "    <tbody>\n",
       "        <tr>\n",
       "            <td>1924</td> <td>55   </td>\n",
       "        </tr>\n",
       "        <tr>\n",
       "            <td>1928</td> <td>30   </td>\n",
       "        </tr>\n",
       "        <tr>\n",
       "            <td>1932</td> <td>32   </td>\n",
       "        </tr>\n",
       "        <tr>\n",
       "            <td>1936</td> <td>36   </td>\n",
       "        </tr>\n",
       "        <tr>\n",
       "            <td>1948</td> <td>41   </td>\n",
       "        </tr>\n",
       "        <tr>\n",
       "            <td>1952</td> <td>45   </td>\n",
       "        </tr>\n",
       "        <tr>\n",
       "            <td>1956</td> <td>51   </td>\n",
       "        </tr>\n",
       "        <tr>\n",
       "            <td>1960</td> <td>50   </td>\n",
       "        </tr>\n",
       "        <tr>\n",
       "            <td>1964</td> <td>61   </td>\n",
       "        </tr>\n",
       "        <tr>\n",
       "            <td>1968</td> <td>66   </td>\n",
       "        </tr>\n",
       "    </tbody>\n",
       "</table>\n",
       "<p>... (12 rows omitted)</p>"
      ],
      "text/plain": [
       "Year | count\n",
       "1924 | 55\n",
       "1928 | 30\n",
       "1932 | 32\n",
       "1936 | 36\n",
       "1948 | 41\n",
       "1952 | 45\n",
       "1956 | 51\n",
       "1960 | 50\n",
       "1964 | 61\n",
       "1968 | 66\n",
       "... (12 rows omitted)"
      ]
     },
     "execution_count": 288,
     "metadata": {},
     "output_type": "execute_result"
    }
   ],
   "source": [
    "gold_medals = athletes.where(\"Medal\",\"Gold\").group(\"Year\")\n",
    "gold_medals\n",
    "                            "
   ]
  },
  {
   "cell_type": "code",
   "execution_count": 291,
   "id": "b2c0c8a3-90c9-4895-9d0d-e5671be8022d",
   "metadata": {},
   "outputs": [
    {
     "data": {
      "image/png": "[encoded data removed]",
      "text/plain": [
       "<Figure size 432x288 with 1 Axes>"
      ]
     },
     "metadata": {},
     "output_type": "display_data"
    }
   ],
   "source": [
    "plt.scatter(silver_medals.column('Year'),silver_medals['count'], label = \"Silver medals\")\n",
    "plt.plot(gold_medals['Year'],gold_medals['count'], label = \"Gold medals\")\n",
    "plt.title(\"Number of Winter Olympic Medals\")\n",
    "plt.legend()\n",
    "plt.show()"
   ]
  },
  {
   "cell_type": "code",
   "execution_count": 285,
   "id": "d28c085d-9cd7-4767-a2a9-8aaeb373b003",
   "metadata": {},
   "outputs": [],
   "source": [
    "France = athletes.where(\"Team\",\"France\").group(\"Year\")"
   ]
  },
  {
   "cell_type": "code",
   "execution_count": 286,
   "id": "a6f9e065-c44b-4c32-86f9-09c96e6c1326",
   "metadata": {},
   "outputs": [],
   "source": [
    "Swiss = athletes.where(\"Team\",\"Switzerland\").group(\"Year\")"
   ]
  },
  {
   "cell_type": "code",
   "execution_count": 278,
   "id": "20771641-3284-412e-a1f8-9161a9fc9dec",
   "metadata": {},
   "outputs": [
    {
     "data": {
      "image/png": "[encoded data removed]",
      "text/plain": [
       "<Figure size 432x288 with 1 Axes>"
      ]
     },
     "metadata": {},
     "output_type": "display_data"
    }
   ],
   "source": [
    "plt.plot(Swiss['Year'],Swiss['count'], label = \"Switzerland\")\n",
    "plt.plot(France['Year'],France['count'], label = \"France\")\n",
    "plt.title(\"Number of Winter Olympic Competitors\")\n",
    "plt.legend()\n",
    "plt.show()"
   ]
  },
  {
   "cell_type": "markdown",
   "id": "2bb52a70-4f86-4a94-ac57-27a1a740d465",
   "metadata": {},
   "source": [
    "5. What are the top ten countries in number of Gold, silver, bronze medals, and total medals? You should have four sets of top ten countries for each of the scenarios. Generate the **five number summary** for each medal type for all countries.\n",
    "Hint: `.where(\"Medal\",are.not_equal_to(\"nan\"))` to get only medal winners. Consider how to create a column for the sum of the three medal categories."
   ]
  },
  {
   "cell_type": "code",
   "execution_count": 263,
   "id": "16ff02a0-6177-4e7d-a27d-ff23c0dc113e",
   "metadata": {},
   "outputs": [
    {
     "data": {
      "text/html": [
       "<table border=\"1\" class=\"dataframe\">\n",
       "    <thead>\n",
       "        <tr>\n",
       "            <th>Team</th> <th>Bronze</th> <th>Gold</th> <th>Silver</th>\n",
       "        </tr>\n",
       "    </thead>\n",
       "    <tbody>\n",
       "        <tr>\n",
       "            <td>Finland       </td> <td>215   </td> <td>66  </td> <td>145   </td>\n",
       "        </tr>\n",
       "        <tr>\n",
       "            <td>Sweden        </td> <td>177   </td> <td>125 </td> <td>126   </td>\n",
       "        </tr>\n",
       "        <tr>\n",
       "            <td>Norway        </td> <td>127   </td> <td>151 </td> <td>165   </td>\n",
       "        </tr>\n",
       "        <tr>\n",
       "            <td>United States </td> <td>121   </td> <td>141 </td> <td>271   </td>\n",
       "        </tr>\n",
       "        <tr>\n",
       "            <td>Austria       </td> <td>97    </td> <td>67  </td> <td>80    </td>\n",
       "        </tr>\n",
       "        <tr>\n",
       "            <td>Canada        </td> <td>97    </td> <td>289 </td> <td>189   </td>\n",
       "        </tr>\n",
       "        <tr>\n",
       "            <td>Switzerland   </td> <td>97    </td> <td>48  </td> <td>38    </td>\n",
       "        </tr>\n",
       "        <tr>\n",
       "            <td>Soviet Union  </td> <td>81    </td> <td>228 </td> <td>81    </td>\n",
       "        </tr>\n",
       "        <tr>\n",
       "            <td>Czechoslovakia</td> <td>75    </td> <td>2   </td> <td>81    </td>\n",
       "        </tr>\n",
       "        <tr>\n",
       "            <td>France        </td> <td>75    </td> <td>34  </td> <td>33    </td>\n",
       "        </tr>\n",
       "    </tbody>\n",
       "</table>\n",
       "<p>... (67 rows omitted)</p>"
      ],
      "text/plain": [
       "Team           | Bronze | Gold | Silver\n",
       "Finland        | 215    | 66   | 145\n",
       "Sweden         | 177    | 125  | 126\n",
       "Norway         | 127    | 151  | 165\n",
       "United States  | 121    | 141  | 271\n",
       "Austria        | 97     | 67   | 80\n",
       "Canada         | 97     | 289  | 189\n",
       "Switzerland    | 97     | 48   | 38\n",
       "Soviet Union   | 81     | 228  | 81\n",
       "Czechoslovakia | 75     | 2    | 81\n",
       "France         | 75     | 34   | 33\n",
       "... (67 rows omitted)"
      ]
     },
     "execution_count": 263,
     "metadata": {},
     "output_type": "execute_result"
    }
   ],
   "source": [
    "athletes.where(\"Medal\",are.not_equal_to(\"nan\")).pivot(\"Medal\",\"Team\").sort(\"Bronze\", descending=True)"
   ]
  },
  {
   "cell_type": "markdown",
   "id": "e7a20e7a-59ab-42b1-841b-476db93d4dd2",
   "metadata": {},
   "source": [
    "6. What are the top 5 sports in terms of number of athletes? Is this what you expected?"
   ]
  },
  {
   "cell_type": "code",
   "execution_count": 264,
   "id": "cd71d9f4-3c50-44d4-a799-37adc4bd6a51",
   "metadata": {},
   "outputs": [
    {
     "name": "stdout",
     "output_type": "stream",
     "text": [
      "mean: 24.49 \n",
      "standard deviation: 41.52 \n",
      "\n"
     ]
    },
    {
     "data": {
      "text/plain": [
       "[24.493506493506494, 41.522212292681722]"
      ]
     },
     "execution_count": 264,
     "metadata": {},
     "output_type": "execute_result"
    }
   ],
   "source": [
    "two_num_sum(athletes.where(\"Medal\",are.not_equal_to(\"nan\")).pivot(\"Medal\",\"Team\"),\"Bronze\")"
   ]
  },
  {
   "cell_type": "code",
   "execution_count": 267,
   "id": "4dd8596b-380d-4cb9-91d2-b2bee5898765",
   "metadata": {},
   "outputs": [
    {
     "data": {
      "image/png": "[encoded data removed]",
      "text/plain": [
       "<Figure size 432x288 with 1 Axes>"
      ]
     },
     "metadata": {},
     "output_type": "display_data"
    }
   ],
   "source": [
    "athletes.where(\"Medal\",are.not_equal_to(\"nan\")).pivot(\"Medal\",\"Team\").hist(\"Bronze\")"
   ]
  },
  {
   "cell_type": "markdown",
   "id": "a05f2b16-5e6c-4451-9bea-efe5e5e82e56",
   "metadata": {},
   "source": [
    "7. Which sports (top 5) awarded the most medals in Lake Placid, New York (1980,\n",
    "https://www.lakeplacid.com/do/activities/olympic-sites )."
   ]
  },
  {
   "cell_type": "code",
   "execution_count": null,
   "id": "8e01a681-1efa-4b12-a445-d227a7660ed7",
   "metadata": {},
   "outputs": [],
   "source": []
  },
  {
   "cell_type": "markdown",
   "id": "2b7be597-6619-49b9-8494-10f1a2f6c7b7",
   "metadata": {},
   "source": [
    "**Challenge Question:** Does the host country team have an advantage? To get at this you may need to create another column in the athletes Table with the team name of the host country. Use a markdown cell to create a strategy to address this question. **This is the sort of research question that can emerge during your data exploration.**"
   ]
  },
  {
   "cell_type": "code",
   "execution_count": 208,
   "id": "7326a21a-71fd-4735-a900-506cba95e56b",
   "metadata": {},
   "outputs": [
    {
     "data": {
      "text/html": [
       "<table border=\"1\" class=\"dataframe\">\n",
       "    <thead>\n",
       "        <tr>\n",
       "            <th>City</th> <th>count</th>\n",
       "        </tr>\n",
       "    </thead>\n",
       "    <tbody>\n",
       "        <tr>\n",
       "            <td>Albertville           </td> <td>3436 </td>\n",
       "        </tr>\n",
       "        <tr>\n",
       "            <td>Calgary               </td> <td>2639 </td>\n",
       "        </tr>\n",
       "        <tr>\n",
       "            <td>Chamonix              </td> <td>460  </td>\n",
       "        </tr>\n",
       "        <tr>\n",
       "            <td>Cortina d'Ampezzo     </td> <td>1307 </td>\n",
       "        </tr>\n",
       "        <tr>\n",
       "            <td>Garmisch-Partenkirchen</td> <td>895  </td>\n",
       "        </tr>\n",
       "        <tr>\n",
       "            <td>Grenoble              </td> <td>1891 </td>\n",
       "        </tr>\n",
       "        <tr>\n",
       "            <td>Innsbruck             </td> <td>3639 </td>\n",
       "        </tr>\n",
       "        <tr>\n",
       "            <td>Lake Placid           </td> <td>2098 </td>\n",
       "        </tr>\n",
       "        <tr>\n",
       "            <td>Lillehammer           </td> <td>3160 </td>\n",
       "        </tr>\n",
       "        <tr>\n",
       "            <td>Nagano                </td> <td>3605 </td>\n",
       "        </tr>\n",
       "        <tr>\n",
       "            <td>Oslo                  </td> <td>1088 </td>\n",
       "        </tr>\n",
       "        <tr>\n",
       "            <td>Salt Lake City        </td> <td>4109 </td>\n",
       "        </tr>\n",
       "        <tr>\n",
       "            <td>Sankt Moritz          </td> <td>1657 </td>\n",
       "        </tr>\n",
       "        <tr>\n",
       "            <td>Sapporo               </td> <td>1655 </td>\n",
       "        </tr>\n",
       "        <tr>\n",
       "            <td>Sarajevo              </td> <td>2134 </td>\n",
       "        </tr>\n",
       "        <tr>\n",
       "            <td>Sochi                 </td> <td>4891 </td>\n",
       "        </tr>\n",
       "        <tr>\n",
       "            <td>Squaw Valley          </td> <td>1116 </td>\n",
       "        </tr>\n",
       "        <tr>\n",
       "            <td>Torino                </td> <td>4382 </td>\n",
       "        </tr>\n",
       "        <tr>\n",
       "            <td>Vancouver             </td> <td>4402 </td>\n",
       "        </tr>\n",
       "    </tbody>\n",
       "</table>"
      ],
      "text/plain": [
       "<IPython.core.display.HTML object>"
      ]
     },
     "metadata": {},
     "output_type": "display_data"
    }
   ],
   "source": [
    "athletes.group(\"City\").show(20)"
   ]
  },
  {
   "cell_type": "code",
   "execution_count": 255,
   "id": "b084111c-7aec-4a41-880a-f8c2b2a4aa6a",
   "metadata": {},
   "outputs": [],
   "source": [
    "host_country = np.array(['France','Canada','France','Italy','Germany','France', 'Austria', \\\n",
    "                         'United States','Norway','Japan','Norway','United States','Switzerland','Japan','Yugoslavia','Russia','United States', 'Italy', 'Canada'])"
   ]
  },
  {
   "cell_type": "code",
   "execution_count": 198,
   "id": "cd638b31-16af-4acd-ad3d-3dfa45ab3e92",
   "metadata": {},
   "outputs": [
    {
     "data": {
      "text/plain": [
       "array(['France', 'Canada', 'France', 'Italy', 'Germany', 'France',\n",
       "       'Austria', 'United States', 'Norway', 'Japan', 'Norway',\n",
       "       'United States', 'Switzerland', 'Japan', 'Yugoslavia', 'Russia',\n",
       "       'United States', 'Italy', 'Canada'],\n",
       "      dtype='<U13')"
      ]
     },
     "execution_count": 198,
     "metadata": {},
     "output_type": "execute_result"
    }
   ],
   "source": [
    "host_country"
   ]
  },
  {
   "cell_type": "code",
   "execution_count": 243,
   "id": "a41b0c0a-c21d-4e0d-8c4d-ffa1b91001f5",
   "metadata": {},
   "outputs": [
    {
     "data": {
      "text/html": [
       "<table border=\"1\" class=\"dataframe\">\n",
       "    <thead>\n",
       "        <tr>\n",
       "            <th>City</th> <th>Country</th>\n",
       "        </tr>\n",
       "    </thead>\n",
       "    <tbody>\n",
       "        <tr>\n",
       "            <td>Albertville           </td> <td>France       </td>\n",
       "        </tr>\n",
       "        <tr>\n",
       "            <td>Calgary               </td> <td>Canada       </td>\n",
       "        </tr>\n",
       "        <tr>\n",
       "            <td>Chamonix              </td> <td>France       </td>\n",
       "        </tr>\n",
       "        <tr>\n",
       "            <td>Cortina d'Ampezzo     </td> <td>Italy        </td>\n",
       "        </tr>\n",
       "        <tr>\n",
       "            <td>Garmisch-Partenkirchen</td> <td>Germany      </td>\n",
       "        </tr>\n",
       "        <tr>\n",
       "            <td>Grenoble              </td> <td>France       </td>\n",
       "        </tr>\n",
       "        <tr>\n",
       "            <td>Innsbruck             </td> <td>Austria      </td>\n",
       "        </tr>\n",
       "        <tr>\n",
       "            <td>Lake Placid           </td> <td>United States</td>\n",
       "        </tr>\n",
       "        <tr>\n",
       "            <td>Lillehammer           </td> <td>Norway       </td>\n",
       "        </tr>\n",
       "        <tr>\n",
       "            <td>Nagano                </td> <td>Japan        </td>\n",
       "        </tr>\n",
       "    </tbody>\n",
       "</table>\n",
       "<p>... (9 rows omitted)</p>"
      ],
      "text/plain": [
       "City                   | Country\n",
       "Albertville            | France\n",
       "Calgary                | Canada\n",
       "Chamonix               | France\n",
       "Cortina d'Ampezzo      | Italy\n",
       "Garmisch-Partenkirchen | Germany\n",
       "Grenoble               | France\n",
       "Innsbruck              | Austria\n",
       "Lake Placid            | United States\n",
       "Lillehammer            | Norway\n",
       "Nagano                 | Japan\n",
       "... (9 rows omitted)"
      ]
     },
     "execution_count": 243,
     "metadata": {},
     "output_type": "execute_result"
    }
   ],
   "source": [
    "host = Table().with_columns(\"City\",\\\n",
    "       athletes.group(\"City\").column('City'),\"Country\",host_country)\n",
    "host"
   ]
  },
  {
   "cell_type": "code",
   "execution_count": 244,
   "id": "b9c0136e-c8b7-48bb-a5fa-1ad843e767c1",
   "metadata": {},
   "outputs": [],
   "source": [
    "athletes=athletes.join(\"City\",host)"
   ]
  },
  {
   "cell_type": "code",
   "execution_count": 246,
   "id": "8a231315-54d0-437c-ad35-2949d2ee0e5d",
   "metadata": {},
   "outputs": [
    {
     "data": {
      "text/html": [
       "<table border=\"1\" class=\"dataframe\">\n",
       "    <thead>\n",
       "        <tr>\n",
       "            <th>Team</th> <th>City</th> <th>Country</th> <th>Host</th>\n",
       "        </tr>\n",
       "    </thead>\n",
       "    <tbody>\n",
       "        <tr>\n",
       "            <td>Netherlands  </td> <td>Albertville</td> <td>France </td> <td>False</td>\n",
       "        </tr>\n",
       "        <tr>\n",
       "            <td>Netherlands  </td> <td>Albertville</td> <td>France </td> <td>False</td>\n",
       "        </tr>\n",
       "        <tr>\n",
       "            <td>United States</td> <td>Albertville</td> <td>France </td> <td>False</td>\n",
       "        </tr>\n",
       "        <tr>\n",
       "            <td>United States</td> <td>Albertville</td> <td>France </td> <td>False</td>\n",
       "        </tr>\n",
       "        <tr>\n",
       "            <td>United States</td> <td>Albertville</td> <td>France </td> <td>False</td>\n",
       "        </tr>\n",
       "        <tr>\n",
       "            <td>United States</td> <td>Albertville</td> <td>France </td> <td>False</td>\n",
       "        </tr>\n",
       "        <tr>\n",
       "            <td>United States</td> <td>Albertville</td> <td>France </td> <td>False</td>\n",
       "        </tr>\n",
       "        <tr>\n",
       "            <td>United States</td> <td>Albertville</td> <td>France </td> <td>False</td>\n",
       "        </tr>\n",
       "        <tr>\n",
       "            <td>United States</td> <td>Albertville</td> <td>France </td> <td>False</td>\n",
       "        </tr>\n",
       "        <tr>\n",
       "            <td>United States</td> <td>Albertville</td> <td>France </td> <td>False</td>\n",
       "        </tr>\n",
       "    </tbody>\n",
       "</table>\n",
       "<p>... (48554 rows omitted)</p>"
      ],
      "text/plain": [
       "Team          | City        | Country | Host\n",
       "Netherlands   | Albertville | France  | False\n",
       "Netherlands   | Albertville | France  | False\n",
       "United States | Albertville | France  | False\n",
       "United States | Albertville | France  | False\n",
       "United States | Albertville | France  | False\n",
       "United States | Albertville | France  | False\n",
       "United States | Albertville | France  | False\n",
       "United States | Albertville | France  | False\n",
       "United States | Albertville | France  | False\n",
       "United States | Albertville | France  | False\n",
       "... (48554 rows omitted)"
      ]
     },
     "execution_count": 246,
     "metadata": {},
     "output_type": "execute_result"
    }
   ],
   "source": [
    "athletes=athletes.with_columns(\"Host\",athletes['Team']==athletes['Country'])\n",
    "athletes.select(\"Team\",\"City\",\"Country\",\"Host\")"
   ]
  },
  {
   "cell_type": "markdown",
   "id": "12823ec5-e428-41d0-a547-87bb5b065a9f",
   "metadata": {},
   "source": [
    "#### Number of athletes when host country (True)\n",
    "Need intensive variable, Gold/athlete"
   ]
  },
  {
   "cell_type": "code",
   "execution_count": 203,
   "id": "f4db7357-dd4b-4702-b2b9-59a52b6372ec",
   "metadata": {},
   "outputs": [
    {
     "data": {
      "text/html": [
       "<table border=\"1\" class=\"dataframe\">\n",
       "    <thead>\n",
       "        <tr>\n",
       "            <th>Team</th> <th>False</th> <th>True</th>\n",
       "        </tr>\n",
       "    </thead>\n",
       "    <tbody>\n",
       "        <tr>\n",
       "            <td>United States</td> <td>2752 </td> <td>569 </td>\n",
       "        </tr>\n",
       "        <tr>\n",
       "            <td>Canada       </td> <td>2149 </td> <td>441 </td>\n",
       "        </tr>\n",
       "        <tr>\n",
       "            <td>Japan        </td> <td>1705 </td> <td>351 </td>\n",
       "        </tr>\n",
       "        <tr>\n",
       "            <td>Italy        </td> <td>1862 </td> <td>347 </td>\n",
       "        </tr>\n",
       "        <tr>\n",
       "            <td>France       </td> <td>1639 </td> <td>328 </td>\n",
       "        </tr>\n",
       "        <tr>\n",
       "            <td>Russia       </td> <td>1077 </td> <td>317 </td>\n",
       "        </tr>\n",
       "        <tr>\n",
       "            <td>Norway       </td> <td>2080 </td> <td>248 </td>\n",
       "        </tr>\n",
       "        <tr>\n",
       "            <td>Austria      </td> <td>1759 </td> <td>195 </td>\n",
       "        </tr>\n",
       "        <tr>\n",
       "            <td>Switzerland  </td> <td>1791 </td> <td>120 </td>\n",
       "        </tr>\n",
       "        <tr>\n",
       "            <td>Yugoslavia   </td> <td>418  </td> <td>103 </td>\n",
       "        </tr>\n",
       "    </tbody>\n",
       "</table>\n",
       "<p>... (211 rows omitted)</p>"
      ],
      "text/plain": [
       "Team          | False | True\n",
       "United States | 2752  | 569\n",
       "Canada        | 2149  | 441\n",
       "Japan         | 1705  | 351\n",
       "Italy         | 1862  | 347\n",
       "France        | 1639  | 328\n",
       "Russia        | 1077  | 317\n",
       "Norway        | 2080  | 248\n",
       "Austria       | 1759  | 195\n",
       "Switzerland   | 1791  | 120\n",
       "Yugoslavia    | 418   | 103\n",
       "... (211 rows omitted)"
      ]
     },
     "execution_count": 203,
     "metadata": {},
     "output_type": "execute_result"
    }
   ],
   "source": [
    "athletes.pivot('Host','Team').sort('True',descending=True)"
   ]
  },
  {
   "cell_type": "code",
   "execution_count": 253,
   "id": "f337bb86-641c-4987-aade-2658bff19f54",
   "metadata": {},
   "outputs": [
    {
     "data": {
      "text/html": [
       "<table border=\"1\" class=\"dataframe\">\n",
       "    <thead>\n",
       "        <tr>\n",
       "            <th>Team</th> <th>Bronze</th> <th>Gold</th> <th>Silver</th> <th>nan</th> <th>Gold Medal per athlete</th>\n",
       "        </tr>\n",
       "    </thead>\n",
       "    <tbody>\n",
       "        <tr>\n",
       "            <td>Canada       </td> <td>6     </td> <td>63  </td> <td>15    </td> <td>357 </td> <td>0.142857              </td>\n",
       "        </tr>\n",
       "        <tr>\n",
       "            <td>United States</td> <td>14    </td> <td>56  </td> <td>75    </td> <td>424 </td> <td>0.0984183             </td>\n",
       "        </tr>\n",
       "        <tr>\n",
       "            <td>Russia       </td> <td>11    </td> <td>25  </td> <td>20    </td> <td>261 </td> <td>0.0788644             </td>\n",
       "        </tr>\n",
       "        <tr>\n",
       "            <td>Norway       </td> <td>11    </td> <td>15  </td> <td>23    </td> <td>199 </td> <td>0.0604839             </td>\n",
       "        </tr>\n",
       "        <tr>\n",
       "            <td>Italy        </td> <td>10    </td> <td>11  </td> <td>0     </td> <td>326 </td> <td>0.0317003             </td>\n",
       "        </tr>\n",
       "        <tr>\n",
       "            <td>France       </td> <td>11    </td> <td>9   </td> <td>7     </td> <td>301 </td> <td>0.027439              </td>\n",
       "        </tr>\n",
       "        <tr>\n",
       "            <td>Japan        </td> <td>5     </td> <td>9   </td> <td>2     </td> <td>335 </td> <td>0.025641              </td>\n",
       "        </tr>\n",
       "        <tr>\n",
       "            <td>Austria      </td> <td>4     </td> <td>5   </td> <td>5     </td> <td>181 </td> <td>0.025641              </td>\n",
       "        </tr>\n",
       "        <tr>\n",
       "            <td>Germany      </td> <td>0     </td> <td>2   </td> <td>3     </td> <td>46  </td> <td>0.0392157             </td>\n",
       "        </tr>\n",
       "        <tr>\n",
       "            <td>Switzerland  </td> <td>31    </td> <td>2   </td> <td>3     </td> <td>84  </td> <td>0.0166667             </td>\n",
       "        </tr>\n",
       "    </tbody>\n",
       "</table>\n",
       "<p>... (1 rows omitted)</p>"
      ],
      "text/plain": [
       "Team          | Bronze | Gold | Silver | nan  | Gold Medal per athlete\n",
       "Canada        | 6      | 63   | 15     | 357  | 0.142857\n",
       "United States | 14     | 56   | 75     | 424  | 0.0984183\n",
       "Russia        | 11     | 25   | 20     | 261  | 0.0788644\n",
       "Norway        | 11     | 15   | 23     | 199  | 0.0604839\n",
       "Italy         | 10     | 11   | 0      | 326  | 0.0317003\n",
       "France        | 11     | 9    | 7      | 301  | 0.027439\n",
       "Japan         | 5      | 9    | 2      | 335  | 0.025641\n",
       "Austria       | 4      | 5    | 5      | 181  | 0.025641\n",
       "Germany       | 0      | 2    | 3      | 46   | 0.0392157\n",
       "Switzerland   | 31     | 2    | 3      | 84   | 0.0166667\n",
       "... (1 rows omitted)"
      ]
     },
     "execution_count": 253,
     "metadata": {},
     "output_type": "execute_result"
    }
   ],
   "source": [
    "team_host = athletes.where('Host',True).pivot('Medal','Team')\n",
    "team_host = team_host.with_columns('Gold Medal per athlete', \\\n",
    "                   team_host['Gold']/(team_host['Gold']+team_host['Silver']+team_host['Bronze']+team_host['nan']))\n",
    "team_host.sort('Gold',descending = True)"
   ]
  },
  {
   "cell_type": "code",
   "execution_count": 257,
   "id": "0834e64b-aa23-4b84-98e7-ed0120e58847",
   "metadata": {},
   "outputs": [
    {
     "data": {
      "text/html": [
       "<table border=\"1\" class=\"dataframe\">\n",
       "    <thead>\n",
       "        <tr>\n",
       "            <th>Team</th> <th>Bronze</th> <th>Gold</th> <th>Silver</th> <th>nan</th> <th>Gold Medal per athlete</th>\n",
       "        </tr>\n",
       "    </thead>\n",
       "    <tbody>\n",
       "        <tr>\n",
       "            <td>Soviet Union  </td> <td>81    </td> <td>228 </td> <td>81    </td> <td>561 </td> <td>0.239748              </td>\n",
       "        </tr>\n",
       "        <tr>\n",
       "            <td>Canada        </td> <td>91    </td> <td>226 </td> <td>174   </td> <td>1658</td> <td>0.105165              </td>\n",
       "        </tr>\n",
       "        <tr>\n",
       "            <td>Norway        </td> <td>116   </td> <td>136 </td> <td>142   </td> <td>1686</td> <td>0.0653846             </td>\n",
       "        </tr>\n",
       "        <tr>\n",
       "            <td>Sweden        </td> <td>177   </td> <td>125 </td> <td>126   </td> <td>1803</td> <td>0.0560287             </td>\n",
       "        </tr>\n",
       "        <tr>\n",
       "            <td>Germany       </td> <td>68    </td> <td>113 </td> <td>111   </td> <td>1605</td> <td>0.0595677             </td>\n",
       "        </tr>\n",
       "        <tr>\n",
       "            <td>United States </td> <td>107   </td> <td>85  </td> <td>196   </td> <td>2364</td> <td>0.0308866             </td>\n",
       "        </tr>\n",
       "        <tr>\n",
       "            <td>Finland       </td> <td>215   </td> <td>66  </td> <td>145   </td> <td>1483</td> <td>0.0345731             </td>\n",
       "        </tr>\n",
       "        <tr>\n",
       "            <td>Austria       </td> <td>93    </td> <td>62  </td> <td>75    </td> <td>1529</td> <td>0.0352473             </td>\n",
       "        </tr>\n",
       "        <tr>\n",
       "            <td>South Korea   </td> <td>10    </td> <td>50  </td> <td>26    </td> <td>674 </td> <td>0.0657895             </td>\n",
       "        </tr>\n",
       "        <tr>\n",
       "            <td>Russia        </td> <td>60    </td> <td>47  </td> <td>53    </td> <td>917 </td> <td>0.0436397             </td>\n",
       "        </tr>\n",
       "        <tr>\n",
       "            <td>Switzerland   </td> <td>66    </td> <td>46  </td> <td>35    </td> <td>1644</td> <td>0.025684              </td>\n",
       "        </tr>\n",
       "        <tr>\n",
       "            <td>Netherlands   </td> <td>42    </td> <td>42  </td> <td>38    </td> <td>545 </td> <td>0.0629685             </td>\n",
       "        </tr>\n",
       "        <tr>\n",
       "            <td>Great Britain </td> <td>31    </td> <td>38  </td> <td>6     </td> <td>1020</td> <td>0.0347032             </td>\n",
       "        </tr>\n",
       "        <tr>\n",
       "            <td>East Germany  </td> <td>36    </td> <td>32  </td> <td>32    </td> <td>345 </td> <td>0.0719101             </td>\n",
       "        </tr>\n",
       "        <tr>\n",
       "            <td>Italy         </td> <td>49    </td> <td>32  </td> <td>41    </td> <td>1740</td> <td>0.0171858             </td>\n",
       "        </tr>\n",
       "        <tr>\n",
       "            <td>Unified Team  </td> <td>12    </td> <td>31  </td> <td>8     </td> <td>135 </td> <td>0.166667              </td>\n",
       "        </tr>\n",
       "        <tr>\n",
       "            <td>Czech Republic</td> <td>34    </td> <td>27  </td> <td>12    </td> <td>819 </td> <td>0.0302691             </td>\n",
       "        </tr>\n",
       "        <tr>\n",
       "            <td>France        </td> <td>64    </td> <td>25  </td> <td>26    </td> <td>1524</td> <td>0.0152532             </td>\n",
       "        </tr>\n",
       "        <tr>\n",
       "            <td>Germany-1     </td> <td>18    </td> <td>24  </td> <td>18    </td> <td>59  </td> <td>0.201681              </td>\n",
       "        </tr>\n",
       "        <tr>\n",
       "            <td>East Germany-1</td> <td>8     </td> <td>22  </td> <td>10    </td> <td>6   </td> <td>0.478261              </td>\n",
       "        </tr>\n",
       "    </tbody>\n",
       "</table>\n",
       "<p>... (201 rows omitted)</p>"
      ],
      "text/plain": [
       "<IPython.core.display.HTML object>"
      ]
     },
     "metadata": {},
     "output_type": "display_data"
    }
   ],
   "source": [
    "team_nohost = athletes.where('Host',False).pivot('Medal','Team')\n",
    "team_nohost = team_nohost.with_columns('Gold Medal per athlete', \\\n",
    "                   team_nohost['Gold']/(team_nohost['Gold']+team_nohost['Silver']+team_nohost['Bronze']+team_nohost['nan']))\n",
    "team_nohost.sort('Gold',descending = True).show(20)"
   ]
  },
  {
   "cell_type": "code",
   "execution_count": null,
   "id": "c1d92bae-5a37-4c73-8f17-7e514551a210",
   "metadata": {},
   "outputs": [],
   "source": [
    "athletes = athletes.join('Team',medals_team_1)"
   ]
  },
  {
   "cell_type": "code",
   "execution_count": null,
   "id": "56164e2a-37a6-40e1-b977-b47dc67b4c2a",
   "metadata": {},
   "outputs": [],
   "source": [
    "athletes = athletes.join('Team',athletes_team_1)"
   ]
  },
  {
   "cell_type": "code",
   "execution_count": null,
   "id": "5503f39c-5726-4f2c-8abf-0af03d4c8693",
   "metadata": {},
   "outputs": [],
   "source": [
    "athletes = athletes.with_column('Gold_athlete_N',athletes['Gold_2']/athletes['count_2']*athletes['Host']).sort('Gold_athlete',descending=True)\n",
    "athletes.select('Gold_athlete_H')"
   ]
  },
  {
   "cell_type": "code",
   "execution_count": null,
   "id": "bd47eb21-4277-4549-8a79-a92c8f39a86c",
   "metadata": {},
   "outputs": [],
   "source": [
    "athletes.pivot('Host','Team','Gold_athlete_N',np.mean).sort('True',descending=True)"
   ]
  },
  {
   "cell_type": "code",
   "execution_count": null,
   "id": "b0b9d47d-10a9-48cc-83a5-9c9473a2bec1",
   "metadata": {},
   "outputs": [],
   "source": [
    "Host_1.group(\"Team\",np.mean).select(\"Team\",\"Gold_athlete mean mean\")"
   ]
  },
  {
   "cell_type": "markdown",
   "id": "5bb1915a-e77d-45fe-9c77-277267d62a0e",
   "metadata": {},
   "source": [
    "Looks like Host does have higher Gold, cleanup!"
   ]
  },
  {
   "cell_type": "code",
   "execution_count": null,
   "id": "3fe98ba2-60c2-4d6d-bdbc-688666218f38",
   "metadata": {},
   "outputs": [],
   "source": [
    "Host_1=athletes.where('Host',True).group(\"Team\", np.mean)\n",
    "Host_1.to_csv(\"Host1.csv\")\n",
    "Host_1"
   ]
  },
  {
   "cell_type": "code",
   "execution_count": null,
   "id": "bd541d0d-3077-4acf-9f5f-d313492be2be",
   "metadata": {},
   "outputs": [],
   "source": [
    "Host_0=athletes.where('Host',False).group(\"Team\", np.mean)\n",
    "Host_0.to_csv(\"Host0.csv\")\n",
    "Host_0.where(\"Team\", \"Canada\")"
   ]
  },
  {
   "cell_type": "code",
   "execution_count": null,
   "id": "926426f1-de36-4ae6-8186-a009a518515d",
   "metadata": {},
   "outputs": [],
   "source": [
    "athletes"
   ]
  },
  {
   "cell_type": "code",
   "execution_count": 237,
   "id": "3a2c5c94-e316-4838-885b-f2caf971c98f",
   "metadata": {},
   "outputs": [
    {
     "data": {
      "text/plain": [
       "False"
      ]
     },
     "execution_count": 237,
     "metadata": {},
     "output_type": "execute_result"
    }
   ],
   "source": [
    "3 == 4"
   ]
  },
  {
   "cell_type": "code",
   "execution_count": 238,
   "id": "c837f093-8657-4fb4-a452-9161cc0d614a",
   "metadata": {},
   "outputs": [
    {
     "data": {
      "text/plain": [
       "True"
      ]
     },
     "execution_count": 238,
     "metadata": {},
     "output_type": "execute_result"
    }
   ],
   "source": [
    "11 == 11"
   ]
  },
  {
   "cell_type": "code",
   "execution_count": 239,
   "id": "ca251ef6-ef92-4871-91e2-7003f00ca7ac",
   "metadata": {},
   "outputs": [
    {
     "data": {
      "text/plain": [
       "True"
      ]
     },
     "execution_count": 239,
     "metadata": {},
     "output_type": "execute_result"
    }
   ],
   "source": [
    "11 <= 12"
   ]
  },
  {
   "cell_type": "markdown",
   "id": "9e5f6255-b477-4991-b8f8-480812e53c02",
   "metadata": {},
   "source": [
    "Back to Olympics: need to see when a team is hosting"
   ]
  },
  {
   "cell_type": "code",
   "execution_count": null,
   "id": "8a533a5c-6960-4132-a85c-12b0f1b368a1",
   "metadata": {},
   "outputs": [],
   "source": []
  },
  {
   "cell_type": "markdown",
   "id": "b2e65dff-35f8-478e-be52-57ef75940295",
   "metadata": {},
   "source": [
    "#### Time Trends"
   ]
  },
  {
   "cell_type": "markdown",
   "id": "058f2625-98ca-41d7-bc24-31dbec48fb42",
   "metadata": {},
   "source": [
    "9. Plot the trend in number of athletes per year. What is the trend?\n",
    "<br>Hint: `athletes.group(\"Year\").plot(\"Year\",\"count\")`"
   ]
  },
  {
   "cell_type": "code",
   "execution_count": null,
   "id": "a8a3e4bd-4b87-42b4-86b3-69df53a2d98d",
   "metadata": {},
   "outputs": [],
   "source": []
  },
  {
   "cell_type": "markdown",
   "id": "843cf4eb-f4e7-4a02-8a9b-ad356bfc37bd",
   "metadata": {},
   "source": [
    "10. Plot the number of medals per year. What is the trend? How does this trend compare to that of the medals?"
   ]
  },
  {
   "cell_type": "code",
   "execution_count": null,
   "id": "3f358233-382a-49de-a021-620e9a90aa57",
   "metadata": {},
   "outputs": [],
   "source": []
  },
  {
   "cell_type": "markdown",
   "id": "85a8fb5a-8c9d-4a0e-b081-d4cfda739e49",
   "metadata": {},
   "source": [
    "11. Team sports award everyone the same medal. Plot the gold medal trend excluding “Ice Hockey”, why hockey?"
   ]
  },
  {
   "cell_type": "code",
   "execution_count": null,
   "id": "8a75b973-8bec-4108-8298-3a3ffa97939a",
   "metadata": {},
   "outputs": [],
   "source": []
  },
  {
   "cell_type": "markdown",
   "id": "0d5ad5a0-0843-4e70-83fc-c98b28f3a16b",
   "metadata": {},
   "source": [
    "12. Plot the yearly trend in number of sports. Think of a strategy to code this. What is the trend? "
   ]
  },
  {
   "cell_type": "code",
   "execution_count": 258,
   "id": "4da96416-5abf-45d3-9520-bdc8b6958e51",
   "metadata": {},
   "outputs": [
    {
     "data": {
      "text/html": [
       "<table border=\"1\" class=\"dataframe\">\n",
       "    <thead>\n",
       "        <tr>\n",
       "            <th>Year</th> <th>Event</th> <th>count</th>\n",
       "        </tr>\n",
       "    </thead>\n",
       "    <tbody>\n",
       "        <tr>\n",
       "            <td>1924</td> <td>Alpinism Mixed Alpinism                      </td> <td>21   </td>\n",
       "        </tr>\n",
       "        <tr>\n",
       "            <td>1924</td> <td>Bobsleigh Men's Four/Five                    </td> <td>39   </td>\n",
       "        </tr>\n",
       "        <tr>\n",
       "            <td>1924</td> <td>Cross Country Skiing Men's 18 kilometres     </td> <td>41   </td>\n",
       "        </tr>\n",
       "        <tr>\n",
       "            <td>1924</td> <td>Cross Country Skiing Men's 50 kilometres     </td> <td>33   </td>\n",
       "        </tr>\n",
       "        <tr>\n",
       "            <td>1924</td> <td>Curling Men's Curling                        </td> <td>16   </td>\n",
       "        </tr>\n",
       "        <tr>\n",
       "            <td>1924</td> <td>Figure Skating Men's Singles                 </td> <td>11   </td>\n",
       "        </tr>\n",
       "        <tr>\n",
       "            <td>1924</td> <td>Figure Skating Mixed Pairs                   </td> <td>18   </td>\n",
       "        </tr>\n",
       "        <tr>\n",
       "            <td>1924</td> <td>Figure Skating Women's Singles               </td> <td>8    </td>\n",
       "        </tr>\n",
       "        <tr>\n",
       "            <td>1924</td> <td>Ice Hockey Men's Ice Hockey                  </td> <td>82   </td>\n",
       "        </tr>\n",
       "        <tr>\n",
       "            <td>1924</td> <td>Military Ski Patrol Men's Military Ski Patrol</td> <td>24   </td>\n",
       "        </tr>\n",
       "    </tbody>\n",
       "</table>\n",
       "<p>... (943 rows omitted)</p>"
      ],
      "text/plain": [
       "Year | Event                                         | count\n",
       "1924 | Alpinism Mixed Alpinism                       | 21\n",
       "1924 | Bobsleigh Men's Four/Five                     | 39\n",
       "1924 | Cross Country Skiing Men's 18 kilometres      | 41\n",
       "1924 | Cross Country Skiing Men's 50 kilometres      | 33\n",
       "1924 | Curling Men's Curling                         | 16\n",
       "1924 | Figure Skating Men's Singles                  | 11\n",
       "1924 | Figure Skating Mixed Pairs                    | 18\n",
       "1924 | Figure Skating Women's Singles                | 8\n",
       "1924 | Ice Hockey Men's Ice Hockey                   | 82\n",
       "1924 | Military Ski Patrol Men's Military Ski Patrol | 24\n",
       "... (943 rows omitted)"
      ]
     },
     "execution_count": 258,
     "metadata": {},
     "output_type": "execute_result"
    }
   ],
   "source": [
    "athletes.group([\"Year\",\"Event\"])"
   ]
  },
  {
   "cell_type": "code",
   "execution_count": 258,
   "id": "bb828963-e8cf-41ae-b494-5a55feb6c92e",
   "metadata": {},
   "outputs": [
    {
     "data": {
      "text/html": [
       "<table border=\"1\" class=\"dataframe\">\n",
       "    <thead>\n",
       "        <tr>\n",
       "            <th>Year</th> <th>Event</th> <th>count</th>\n",
       "        </tr>\n",
       "    </thead>\n",
       "    <tbody>\n",
       "        <tr>\n",
       "            <td>1924</td> <td>Alpinism Mixed Alpinism                      </td> <td>21   </td>\n",
       "        </tr>\n",
       "        <tr>\n",
       "            <td>1924</td> <td>Bobsleigh Men's Four/Five                    </td> <td>39   </td>\n",
       "        </tr>\n",
       "        <tr>\n",
       "            <td>1924</td> <td>Cross Country Skiing Men's 18 kilometres     </td> <td>41   </td>\n",
       "        </tr>\n",
       "        <tr>\n",
       "            <td>1924</td> <td>Cross Country Skiing Men's 50 kilometres     </td> <td>33   </td>\n",
       "        </tr>\n",
       "        <tr>\n",
       "            <td>1924</td> <td>Curling Men's Curling                        </td> <td>16   </td>\n",
       "        </tr>\n",
       "        <tr>\n",
       "            <td>1924</td> <td>Figure Skating Men's Singles                 </td> <td>11   </td>\n",
       "        </tr>\n",
       "        <tr>\n",
       "            <td>1924</td> <td>Figure Skating Mixed Pairs                   </td> <td>18   </td>\n",
       "        </tr>\n",
       "        <tr>\n",
       "            <td>1924</td> <td>Figure Skating Women's Singles               </td> <td>8    </td>\n",
       "        </tr>\n",
       "        <tr>\n",
       "            <td>1924</td> <td>Ice Hockey Men's Ice Hockey                  </td> <td>82   </td>\n",
       "        </tr>\n",
       "        <tr>\n",
       "            <td>1924</td> <td>Military Ski Patrol Men's Military Ski Patrol</td> <td>24   </td>\n",
       "        </tr>\n",
       "    </tbody>\n",
       "</table>\n",
       "<p>... (943 rows omitted)</p>"
      ],
      "text/plain": [
       "Year | Event                                         | count\n",
       "1924 | Alpinism Mixed Alpinism                       | 21\n",
       "1924 | Bobsleigh Men's Four/Five                     | 39\n",
       "1924 | Cross Country Skiing Men's 18 kilometres      | 41\n",
       "1924 | Cross Country Skiing Men's 50 kilometres      | 33\n",
       "1924 | Curling Men's Curling                         | 16\n",
       "1924 | Figure Skating Men's Singles                  | 11\n",
       "1924 | Figure Skating Mixed Pairs                    | 18\n",
       "1924 | Figure Skating Women's Singles                | 8\n",
       "1924 | Ice Hockey Men's Ice Hockey                   | 82\n",
       "1924 | Military Ski Patrol Men's Military Ski Patrol | 24\n",
       "... (943 rows omitted)"
      ]
     },
     "execution_count": 258,
     "metadata": {},
     "output_type": "execute_result"
    }
   ],
   "source": [
    "athletes.group([\"Year\",\"Event\"])"
   ]
  },
  {
   "cell_type": "code",
   "execution_count": 182,
   "id": "9e9bad8d-d01f-4ca4-99a0-85c46c482442",
   "metadata": {},
   "outputs": [
    {
     "data": {
      "text/html": [
       "<table border=\"1\" class=\"dataframe\">\n",
       "    <thead>\n",
       "        <tr>\n",
       "            <th>Year</th> <th>Sport</th> <th>count</th>\n",
       "        </tr>\n",
       "    </thead>\n",
       "    <tbody>\n",
       "        <tr>\n",
       "            <td>1924</td> <td>Alpinism            </td> <td>21   </td>\n",
       "        </tr>\n",
       "        <tr>\n",
       "            <td>1924</td> <td>Bobsleigh           </td> <td>39   </td>\n",
       "        </tr>\n",
       "        <tr>\n",
       "            <td>1924</td> <td>Cross Country Skiing</td> <td>74   </td>\n",
       "        </tr>\n",
       "        <tr>\n",
       "            <td>1924</td> <td>Curling             </td> <td>16   </td>\n",
       "        </tr>\n",
       "        <tr>\n",
       "            <td>1924</td> <td>Figure Skating      </td> <td>37   </td>\n",
       "        </tr>\n",
       "        <tr>\n",
       "            <td>1924</td> <td>Ice Hockey          </td> <td>82   </td>\n",
       "        </tr>\n",
       "        <tr>\n",
       "            <td>1924</td> <td>Military Ski Patrol </td> <td>24   </td>\n",
       "        </tr>\n",
       "        <tr>\n",
       "            <td>1924</td> <td>Nordic Combined     </td> <td>30   </td>\n",
       "        </tr>\n",
       "        <tr>\n",
       "            <td>1924</td> <td>Ski Jumping         </td> <td>27   </td>\n",
       "        </tr>\n",
       "        <tr>\n",
       "            <td>1924</td> <td>Speed Skating       </td> <td>110  </td>\n",
       "        </tr>\n",
       "    </tbody>\n",
       "</table>\n",
       "<p>... (224 rows omitted)</p>"
      ],
      "text/plain": [
       "Year | Sport                | count\n",
       "1924 | Alpinism             | 21\n",
       "1924 | Bobsleigh            | 39\n",
       "1924 | Cross Country Skiing | 74\n",
       "1924 | Curling              | 16\n",
       "1924 | Figure Skating       | 37\n",
       "1924 | Ice Hockey           | 82\n",
       "1924 | Military Ski Patrol  | 24\n",
       "1924 | Nordic Combined      | 30\n",
       "1924 | Ski Jumping          | 27\n",
       "1924 | Speed Skating        | 110\n",
       "... (224 rows omitted)"
      ]
     },
     "execution_count": 182,
     "metadata": {},
     "output_type": "execute_result"
    }
   ],
   "source": [
    "athletes.group([\"Year\",\"Sport\"])"
   ]
  },
  {
   "cell_type": "code",
   "execution_count": 181,
   "id": "28f8103c-6c84-4dc1-ad25-ca7051c7e854",
   "metadata": {},
   "outputs": [
    {
     "data": {
      "text/html": [
       "<table border=\"1\" class=\"dataframe\">\n",
       "    <thead>\n",
       "        <tr>\n",
       "            <th>Year</th> <th>count</th>\n",
       "        </tr>\n",
       "    </thead>\n",
       "    <tbody>\n",
       "        <tr>\n",
       "            <td>1924</td> <td>10   </td>\n",
       "        </tr>\n",
       "        <tr>\n",
       "            <td>1928</td> <td>8    </td>\n",
       "        </tr>\n",
       "        <tr>\n",
       "            <td>1932</td> <td>7    </td>\n",
       "        </tr>\n",
       "        <tr>\n",
       "            <td>1936</td> <td>8    </td>\n",
       "        </tr>\n",
       "        <tr>\n",
       "            <td>1948</td> <td>9    </td>\n",
       "        </tr>\n",
       "        <tr>\n",
       "            <td>1952</td> <td>8    </td>\n",
       "        </tr>\n",
       "        <tr>\n",
       "            <td>1956</td> <td>8    </td>\n",
       "        </tr>\n",
       "        <tr>\n",
       "            <td>1960</td> <td>8    </td>\n",
       "        </tr>\n",
       "        <tr>\n",
       "            <td>1964</td> <td>10   </td>\n",
       "        </tr>\n",
       "        <tr>\n",
       "            <td>1968</td> <td>10   </td>\n",
       "        </tr>\n",
       "    </tbody>\n",
       "</table>\n",
       "<p>... (12 rows omitted)</p>"
      ],
      "text/plain": [
       "Year | count\n",
       "1924 | 10\n",
       "1928 | 8\n",
       "1932 | 7\n",
       "1936 | 8\n",
       "1948 | 9\n",
       "1952 | 8\n",
       "1956 | 8\n",
       "1960 | 8\n",
       "1964 | 10\n",
       "1968 | 10\n",
       "... (12 rows omitted)"
      ]
     },
     "execution_count": 181,
     "metadata": {},
     "output_type": "execute_result"
    }
   ],
   "source": [
    "athletes.group([\"Year\",\"Sport\"]).group('Year')"
   ]
  },
  {
   "cell_type": "code",
   "execution_count": 194,
   "id": "f3bf4556-4703-4ef6-bef2-db43893801c6",
   "metadata": {},
   "outputs": [
    {
     "data": {
      "image/png": "[encoded data removed]",
      "text/plain": [
       "<Figure size 432x432 with 1 Axes>"
      ]
     },
     "metadata": {},
     "output_type": "display_data"
    }
   ],
   "source": [
    "athletes.group([\"Year\",\"Sport\"]).group('Year').plot(\"Year\",\"count\", alpha=0.5)"
   ]
  },
  {
   "cell_type": "code",
   "execution_count": 195,
   "id": "db0f4e15-26ff-4d6d-9013-790a89103e7e",
   "metadata": {},
   "outputs": [
    {
     "data": {
      "text/plain": [
       "Text(0.5, 1.0, 'Number of Winter Olympic Sports')"
      ]
     },
     "execution_count": 195,
     "metadata": {},
     "output_type": "execute_result"
    },
    {
     "data": {
      "image/png": "[encoded data removed]",
      "text/plain": [
       "<Figure size 360x360 with 1 Axes>"
      ]
     },
     "metadata": {},
     "output_type": "display_data"
    }
   ],
   "source": [
    "athletes.group([\"Year\",\"Sport\"]).group('Year').scatter(\"Year\",\"count\", color='green', s=100)\n",
    "plt.title(\"Number of Winter Olympic Sports\")"
   ]
  },
  {
   "cell_type": "markdown",
   "id": "39920491-9f3d-43ea-a109-0914dde9992a",
   "metadata": {},
   "source": [
    "13. Plot an overlay of gold, silver, and bronze medals as a function of year on the same plot excluding hockey. What is the trend? Are the medals awarded at a similar rate?"
   ]
  },
  {
   "cell_type": "code",
   "execution_count": null,
   "id": "040ae45a-f5cf-42e3-9a01-b5095604864e",
   "metadata": {},
   "outputs": [],
   "source": []
  },
  {
   "cell_type": "markdown",
   "id": "778fa0b0-5492-4f3f-962f-06251b52f2d3",
   "metadata": {},
   "source": [
    "14. Compare the US and Norway medal counts as a function of year by overlaying their counts. Hint: You could create separate tables for the US and Norway using an appropriate .where method. Now these tables can be combined using the Table .append method which merges two tables for instance, `NORUSA = US.append(Norway)`. "
   ]
  },
  {
   "cell_type": "code",
   "execution_count": null,
   "id": "270c89f4-3a31-48ac-ab8c-282d65da30df",
   "metadata": {},
   "outputs": [],
   "source": []
  },
  {
   "cell_type": "markdown",
   "id": "98f2fdd0-3b34-45c3-9d6e-e1303f45f6e9",
   "metadata": {},
   "source": [
    "15. Now use a scatter plot (` .scatter()` ) to look at the number of athletes per year for the US versus that for Norway. What trends do you see?"
   ]
  },
  {
   "cell_type": "code",
   "execution_count": null,
   "id": "b7587c55-ae4c-48ed-9295-19f390cccc49",
   "metadata": {},
   "outputs": [],
   "source": []
  },
  {
   "cell_type": "markdown",
   "id": "cb1967f1-e961-4447-bb19-b43976a06171",
   "metadata": {},
   "source": [
    "#### Ideas for future exploration"
   ]
  },
  {
   "cell_type": "markdown",
   "id": "be664149-c14e-4af9-a679-5b40a29b3a0c",
   "metadata": {},
   "source": [
    "Data sets are available in this folder for average annual temperature by country, country population, and the highest peak in each country. <br>Furthermore, global warming is exerting pressure on winter sports.  Insert a markdown cell to describe a question you could study <br>in the future (not as part of this mini project). For instance, which countries are likely to have medal winning athletes based on characteristics or the future of winter sports given climate change."
   ]
  },
  {
   "cell_type": "markdown",
   "id": "fe94acf7-8d06-4979-a0af-e6430d81fa39",
   "metadata": {
    "editable": true,
    "slideshow": {
     "slide_type": ""
    },
    "tags": []
   },
   "source": []
  },
  {
   "cell_type": "markdown",
   "id": "887722cb-751e-44e5-8ea8-28811f82b04a",
   "metadata": {},
   "source": [
    "### <font color=blue> **Feedback** </font>\n",
    "\n",
    "Please include a reflection. \n",
    "* How did this mini-project go? \n",
    "* Was it difficult to write code without a template?\n",
    "* Did you seek help from any of the instructors or class assistants?\n",
    "* Were there questions you found especially challenging you would like your instructor to review in class? \n",
    "* How long did the project take you to complete?\n",
    "  \n",
    "Share your feedback so we can continue to improve this class!\n",
    "\n",
    "**Insert a markdown cell below this one and write your reflection on this lab.**"
   ]
  },
  {
   "cell_type": "code",
   "execution_count": null,
   "id": "a04dfbe8-44d1-4921-8a4f-8f688bd98a67",
   "metadata": {
    "tags": []
   },
   "outputs": [],
   "source": [
    "print(\"Nice work \", name, user)\n",
    "import time;\n",
    "localtime = time.asctime( time.localtime(time.time()) )\n",
    "print(\"Submitted @ \", localtime)"
   ]
  }
 ],
 "metadata": {
  "kernelspec": {
   "display_name": "Python 3 (ipykernel)",
   "language": "python",
   "name": "python3"
  },
  "language_info": {
   "codemirror_mode": {
    "name": "ipython",
    "version": 3
   },
   "file_extension": ".py",
   "mimetype": "text/x-python",
   "name": "python",
   "nbconvert_exporter": "python",
   "pygments_lexer": "ipython3",
   "version": "3.9.12"
  }
 },
 "nbformat": 4,
 "nbformat_minor": 5
}
