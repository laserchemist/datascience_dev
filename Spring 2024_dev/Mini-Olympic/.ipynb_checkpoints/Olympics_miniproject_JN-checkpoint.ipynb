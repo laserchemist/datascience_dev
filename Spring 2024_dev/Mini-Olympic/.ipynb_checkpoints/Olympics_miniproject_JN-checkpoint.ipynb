{
 "cells": [
  {
   "cell_type": "markdown",
   "id": "57267dbe-29a4-4afd-8deb-dc8fca11d2a3",
   "metadata": {},
   "source": [
    "# What is a mini-project?"
   ]
  },
  {
   "cell_type": "markdown",
   "id": "13427c65-e245-4735-a230-c05d178843ad",
   "metadata": {},
   "source": [
    "A mini-project is where you will begin to develop code and analysis to explore a data set and address questions. The format differs from a weekly lab in that you will develop your own notebook below.  **There will be no automatic test of your answers.** As a budding data scientist you need to develop the habit of checking your own work.\n",
    "\n",
    "You will create all the notebook code and **use extensive markdown to document** the process and your observations. This can be challenging at first but it is the way to trully understand the code development process and build confidence using code to analysis data."
   ]
  },
  {
   "cell_type": "markdown",
   "id": "df2b5b2d-4c07-4730-bd6f-39d78815bba8",
   "metadata": {},
   "source": [
    "# Olympics Data mini-project\n",
    "## Overview\n",
    "In celebration of the Olympic spirit we will analyze trends in a data set which spans the from the 1896 Athens games to Rio in 2016. With this data we will explore trends in medals awarded, sports, and countries, as well as any host country advantage. The dataset is from Kaggle (https://www.kaggle.com ), a data science dataset, coding, and competition site. The mini-project represents your first chance to try out your coding and data skills to address specific questions without template code. Look to your previous labs and our work in class for ideas.\n",
    "\n",
    "(Data source:\n",
    "[Kaggle dataset](https://www.kaggle.com/heesoo37/120-years-of-olympic-history-athletes-and-results))\n",
    "\n",
    "Background Resources:\n",
    "- Data Tables (Inferential Thinking 6.1-6.4) \n",
    "- Visualization (Inferential Thinking 7.1, 7.2)\n",
    "- Cross-classifying (Inferential Thinking 8.3)"
   ]
  },
  {
   "cell_type": "markdown",
   "id": "1d8d5c53-41ba-459a-8e85-cb9e3499fdb7",
   "metadata": {},
   "source": [
    "## Data Set\n",
    "Athletes: Olympic_Data/athlete_events.csv\n",
    "Source: Kaggle https://www.kaggle.com/heesoo37/120-years-of-olympic-history-athletes-and-results\n",
    "\n",
    "The dataset contains the following columns:\n",
    "### Data Fields\n",
    "1. ID - Unique number for each athlete\n",
    "2. Name - Athlete's name\n",
    "3. Sex-MorF\n",
    "4. Age - Integer\n",
    "5. Height - In centimeters\n",
    "6. Weight - In kilograms\n",
    "7. Team - Team name\n",
    "8. NOC - National Olympic Committee 3-letter code\n",
    "9. Games - Year and season\n",
    "10. Year - Integer\n",
    "11. Season - Summer or Winter\n",
    "12. City - Host city\n",
    "13. Sport - Sport\n",
    "14. Event - Event\n",
    "15. Medal - Gold, Silver, Bronze, or nan"
   ]
  },
  {
   "cell_type": "markdown",
   "id": "4bdcd8c7-0092-4493-9bd5-f74b57436cfa",
   "metadata": {},
   "source": [
    "## Initialization"
   ]
  },
  {
   "cell_type": "code",
   "execution_count": 1,
   "id": "742e0e08-c659-4fc2-b690-2a7a21c57206",
   "metadata": {},
   "outputs": [],
   "source": [
    "# Extra Python functionality to import\n",
    "from datascience import *  # datascience Table \n",
    "import EDS\n",
    "import numpy as np\n",
    "import pandas as pd\n",
    "%matplotlib inline\n",
    "import matplotlib.pyplot as plt\n",
    "plt.style.use('ggplot')\n",
    "import os\n",
    "user = os.getenv('JUPYTERHUB_USER')"
   ]
  },
  {
   "cell_type": "code",
   "execution_count": null,
   "id": "0669759c-539d-418e-9b4a-bb4308f6f47f",
   "metadata": {},
   "outputs": [],
   "source": [
    "# Enter your name as a string\n",
    "name = ..."
   ]
  },
  {
   "cell_type": "markdown",
   "id": "620c261b-d780-4f8b-b678-f0846e8d40d5",
   "metadata": {},
   "source": [
    "We will limit our project to data from the Winter Olympics by using the where method [.where(\"Season\",\"Winter\") ] which leaves us with 18,923 individual athletes and 48,564 athlete/event datapoints (Many athletes compete in multiple events and/or over multiple Olympics).  "
   ]
  },
  {
   "cell_type": "code",
   "execution_count": null,
   "id": "51ec1d19-eac2-4cf7-979a-f2088537248d",
   "metadata": {},
   "outputs": [],
   "source": [
    "datafile = \"Olympic_Data/winter_athletes.csv\"\n",
    "athletes = Table.read_table(datafile).sort(\"Year\",descending=True).where(\"Season\",\"Winter\")\n",
    "athletes"
   ]
  },
  {
   "cell_type": "markdown",
   "id": "eccd67c7-7a4d-4ac3-9347-2905a9717c65",
   "metadata": {},
   "source": [
    "### Considerations\n",
    "- Each observation is an athlete's performance in a particular event for a particular year.\n",
    "- `.group()` is a very useful Table method to group by Team, Year, Age, etc.\n",
    "- Athletes can perform in multiple events and over multiple years\n",
    "- `athletes.group(\"Name\", np.unique)` Can provide unique athlete names and combine their efforts in a list. This can be a challenge for analysis of specific performances but givene a good count of total athletes, `athletes.group(\"Name\", np.unique).num_rows`"
   ]
  },
  {
   "cell_type": "code",
   "execution_count": null,
   "id": "d5c54863-bb8c-4c01-9f6d-5bc25a9542b1",
   "metadata": {
    "tags": []
   },
   "outputs": [],
   "source": [
    "athletes.group(\"Name\", np.unique).num_rows"
   ]
  },
  {
   "cell_type": "code",
   "execution_count": null,
   "id": "c5e43080-63bb-4f90-a12c-0263cb0b90e1",
   "metadata": {
    "tags": []
   },
   "outputs": [],
   "source": [
    "athletes.num_rows"
   ]
  },
  {
   "cell_type": "markdown",
   "id": "0585b622-e1ed-4752-b9f6-b99de9e9d1d3",
   "metadata": {},
   "source": [
    "## Mini-Project Questions to address\n",
    "Now develop your project to address the questions below. For each task a few blank code cells have been added, but you will be adding lines of code and markdown as needed below. Feel free to expand the project to explore ideas of interest.\n",
    "\n",
    "**You typically begin exploration of a data set by computing a few basic statistics and by plotting the data distribution.**"
   ]
  },
  {
   "cell_type": "markdown",
   "id": "5d864ddf-913d-435e-97fa-daf76e3d609d",
   "metadata": {},
   "source": [
    "1. What is the earliest year for a Winter Olympics in this dataset? Check this value [(https://olympics.com/en/olympic-games/olympic-results )](https://olympics.com/en/olympic-games/olympic-results ), does it fit the data?\n"
   ]
  },
  {
   "cell_type": "code",
   "execution_count": null,
   "id": "c2359b84-34d2-4954-8ecc-babcfb3d8577",
   "metadata": {},
   "outputs": [],
   "source": []
  },
  {
   "cell_type": "markdown",
   "id": "6daacef3-a4b8-4680-a52b-f587f9294b93",
   "metadata": {},
   "source": [
    "2. Examine the distribution of the age of all Olympians with a histogram. What do you find? A better way to get a view of the distribution of ages is a five number summary which includes the min, max, median, mean, and standard deviation. To get the five number summary (min, max, median, mean, and standard deviation) using np.min, np.max, np.median, np.mean, and np.std respectively on the corresponding column array or better yet create a function to compute and display this given arguments of table name and column label. Since a given athlete can appear in multiple events, a better way to examine the age distribution of athletes is to group the data by name using a function such as np.average. i.e. `athletes.group(\"Name\", np.average)`"
   ]
  },
  {
   "cell_type": "code",
   "execution_count": null,
   "id": "c7a96b71-91e4-48c6-a900-d4ac280bac0f",
   "metadata": {},
   "outputs": [],
   "source": []
  },
  {
   "cell_type": "markdown",
   "id": "6466b985-551c-46f4-863d-a6046de3695f",
   "metadata": {},
   "source": [
    "3. Examine the distribution of the age of all Olympians with a histogram. What do you find? A better way to get a view of the distribution of ages is a five number summary which includes the min, max, median, mean, and standard deviation. To get the five number summary (min, max, median, mean, and standard deviation) using np.min, np.max, np.median, np.mean, and np.std respectively on the corresponding column array or better yet create a function to compute and display this given arguments of table name and column label. Since a given athlete can appear in multiple events, a better way to examine the age distribution of athletes is to group the data by name using a function such as np.average."
   ]
  },
  {
   "cell_type": "code",
   "execution_count": null,
   "id": "ac5d667e-34ea-408b-b787-cc405e2bf9c1",
   "metadata": {},
   "outputs": [],
   "source": []
  },
  {
   "cell_type": "markdown",
   "id": "b5d37c89-8352-44a4-8a30-5aefafcc43df",
   "metadata": {},
   "source": [
    "4. Examine the distribution of the age of all Olympians with a histogram. What do you find? A better way to get a view of the distribution of ages is a five number summary which includes the min, max, median, mean, and standard deviation. To get the five number summary (min, max, median, mean, and standard deviation) using np.min, np.max, np.median, np.mean, and np.std respectively on the corresponding column array or better yet create a function to compute and display this given arguments of table name and column label. Since a given athlete can appear in multiple events, a better way to examine the age distribution of athletes is to group the data by name using a function such as np.average."
   ]
  },
  {
   "cell_type": "code",
   "execution_count": null,
   "id": "37c29c23-2c5e-477d-ab71-e7c29980dc42",
   "metadata": {},
   "outputs": [],
   "source": []
  },
  {
   "cell_type": "markdown",
   "id": "2bb52a70-4f86-4a94-ac57-27a1a740d465",
   "metadata": {},
   "source": [
    "5. What are the top ten countries in number of Gold, silver, bronze medals, and total medals? You should have four sets of top ten countries for each of the scenarios. Again, get the five number summary (min, max, median, mean, and standard deviation) for each medal type for all countries.\n",
    "Hint: `.where(\"Medal\",are.not_equal_to(\"nan\"))` to get only medal winners. Consider how to create a column for the sum of the three medal categories."
   ]
  },
  {
   "cell_type": "code",
   "execution_count": null,
   "id": "35534530-2a24-45e0-b088-cd3064c2024f",
   "metadata": {},
   "outputs": [],
   "source": []
  },
  {
   "cell_type": "markdown",
   "id": "e7a20e7a-59ab-42b1-841b-476db93d4dd2",
   "metadata": {},
   "source": [
    "6. What are the top 5 sports in terms of number of athletes?"
   ]
  },
  {
   "cell_type": "code",
   "execution_count": null,
   "id": "bf71e1dd-e610-4bbf-8919-4ac52bd6a8df",
   "metadata": {},
   "outputs": [],
   "source": []
  },
  {
   "cell_type": "markdown",
   "id": "a05f2b16-5e6c-4451-9bea-efe5e5e82e56",
   "metadata": {},
   "source": [
    "7. Which sports (top 5) awarded the most medals in Lake Placid, New York (1980,\n",
    "https://www.lakeplacid.com/do/activities/olympic-sites )."
   ]
  },
  {
   "cell_type": "code",
   "execution_count": null,
   "id": "fd83e5ad-9c2e-4826-ab5f-6aad12cc04c3",
   "metadata": {},
   "outputs": [],
   "source": []
  },
  {
   "cell_type": "markdown",
   "id": "2b7be597-6619-49b9-8494-10f1a2f6c7b7",
   "metadata": {},
   "source": [
    "**Challenge Question:** Does the host country team have an advantage? To get at this you may need to create another column in the athletes Table with the team name of the host country. Use a markdown cell to create a strategy to address this question. **This is the sort of research question that can emerge during your data exploration.**"
   ]
  },
  {
   "cell_type": "code",
   "execution_count": null,
   "id": "ebbee633-e005-47cd-bdb2-a5f0dec334c8",
   "metadata": {},
   "outputs": [],
   "source": []
  },
  {
   "cell_type": "markdown",
   "id": "b2e65dff-35f8-478e-be52-57ef75940295",
   "metadata": {},
   "source": [
    "#### Time Trends"
   ]
  },
  {
   "cell_type": "markdown",
   "id": "058f2625-98ca-41d7-bc24-31dbec48fb42",
   "metadata": {},
   "source": [
    "9. Plot the trend in number of athletes per year. What is the trend?\n",
    "<br>Hint: `athletes.group(\"Year\").plot(\"Year\",\"count\")`"
   ]
  },
  {
   "cell_type": "code",
   "execution_count": null,
   "id": "8fb07c44-037e-40d3-b695-6cfa22410987",
   "metadata": {},
   "outputs": [],
   "source": []
  },
  {
   "cell_type": "markdown",
   "id": "843cf4eb-f4e7-4a02-8a9b-ad356bfc37bd",
   "metadata": {},
   "source": [
    "10. Plot the number of medals per year. What is the trend? How does this trend compare to that of the medals?"
   ]
  },
  {
   "cell_type": "code",
   "execution_count": null,
   "id": "7c8b2e5f-b09a-4e6b-a231-26a1c1425686",
   "metadata": {},
   "outputs": [],
   "source": []
  },
  {
   "cell_type": "markdown",
   "id": "85a8fb5a-8c9d-4a0e-b081-d4cfda739e49",
   "metadata": {},
   "source": [
    "11. Team sports award everyone the same medal. Plot the gold medal trend excluding “Ice Hockey”, why hockey?"
   ]
  },
  {
   "cell_type": "code",
   "execution_count": null,
   "id": "23fe3970-52ec-4fb1-9fbe-ba3a5883f62b",
   "metadata": {},
   "outputs": [],
   "source": []
  },
  {
   "cell_type": "markdown",
   "id": "0d5ad5a0-0843-4e70-83fc-c98b28f3a16b",
   "metadata": {},
   "source": [
    "12. Plot the yearly trend in number of sports. Think of a strategy to code this. What is the trend? "
   ]
  },
  {
   "cell_type": "code",
   "execution_count": null,
   "id": "9e41294f-75cf-4825-ba4a-773a480f72ef",
   "metadata": {},
   "outputs": [],
   "source": []
  },
  {
   "cell_type": "markdown",
   "id": "39920491-9f3d-43ea-a109-0914dde9992a",
   "metadata": {},
   "source": [
    "13. Plot an overlay of gold, silver, and bronze medals as a function of year on the same plot excluding hockey. What is the trend? Are the medals awarded at a similar rate?"
   ]
  },
  {
   "cell_type": "code",
   "execution_count": null,
   "id": "dc5f4919-91da-4cc9-80cf-a2142ec2afc1",
   "metadata": {},
   "outputs": [],
   "source": []
  },
  {
   "cell_type": "markdown",
   "id": "778fa0b0-5492-4f3f-962f-06251b52f2d3",
   "metadata": {},
   "source": [
    "14. Compare the US and Norway medal counts as a function of year by overlaying their counts. Hint: You could create separate tables for the US and Norway using an appropriate .where method. Now these tables can be combined using the Table .append method which merges two tables for instance, `NORUSA = US.append(Norway)`. "
   ]
  },
  {
   "cell_type": "code",
   "execution_count": null,
   "id": "44f148a9-7048-450f-8dfc-b075739bafc4",
   "metadata": {},
   "outputs": [],
   "source": []
  },
  {
   "cell_type": "markdown",
   "id": "98f2fdd0-3b34-45c3-9d6e-e1303f45f6e9",
   "metadata": {},
   "source": [
    "15. Now use a scatter plot (` .scatter()` ) to look at the number of athletes per year for the US versus that for Norway. What trends do you see?"
   ]
  },
  {
   "cell_type": "code",
   "execution_count": null,
   "id": "b449b7db-bb3f-47bf-9e73-1adbbce5ab75",
   "metadata": {},
   "outputs": [],
   "source": []
  },
  {
   "cell_type": "markdown",
   "id": "cb1967f1-e961-4447-bb19-b43976a06171",
   "metadata": {},
   "source": [
    "#### Ideas for future exploration"
   ]
  },
  {
   "cell_type": "markdown",
   "id": "be664149-c14e-4af9-a679-5b40a29b3a0c",
   "metadata": {},
   "source": [
    "Data sets are available in this folder for average annual temperature by country, country population, and the highest peak in each country. How might you use these data to look come up with further insights into which countries have more athletes and medals? Furthermore, global warming is exerting pressure on winter sports. How might we examine this impact?"
   ]
  },
  {
   "cell_type": "markdown",
   "id": "3d8c01af-e71c-4018-ab81-291ed6960b8f",
   "metadata": {},
   "source": []
  },
  {
   "cell_type": "markdown",
   "id": "2561fc9d-58cb-4923-8e1f-439e0a1b0c71",
   "metadata": {},
   "source": [
    "### <font color=blue> **Feedback** </font>\n",
    "\n",
    "Please include a reflection. \n",
    "* How did this mini-project go? \n",
    "* Was it difficult to write code without a template?\n",
    "* Did you seek help from any of the instructors or class assistants?\n",
    "* Were there questions you found especially challenging you would like your instructor to review in class? \n",
    "* How long did the project take you to complete?\n",
    "  \n",
    "Share your feedback so we can continue to improve this class!\n",
    "\n",
    "**Insert a markdown cell below this one and write your reflection on this lab.**"
   ]
  },
  {
   "cell_type": "markdown",
   "id": "cac81eee-2ef2-40ef-8578-e464cd9e18bd",
   "metadata": {},
   "source": [
    "### <font color=blue> **Before you submit:** </font>\n",
    "* Check that you answered all of the questions.\n",
    "* Check that you used markdown cells to document your process (even if you couldn't get the answer) and conclusions.\n",
    "* Check that all notebook cells have been executed from top to bottom."
   ]
  },
  {
   "cell_type": "code",
   "execution_count": null,
   "id": "a04dfbe8-44d1-4921-8a4f-8f688bd98a67",
   "metadata": {
    "tags": []
   },
   "outputs": [],
   "source": [
    "print(\"Nice work \", user)\n",
    "import time;\n",
    "localtime = time.asctime( time.localtime(time.time()) )\n",
    "print(\"Submitted @ \", localtime)"
   ]
  }
 ],
 "metadata": {
  "kernelspec": {
   "display_name": "Python 3 (ipykernel)",
   "language": "python",
   "name": "python3"
  },
  "language_info": {
   "codemirror_mode": {
    "name": "ipython",
    "version": 3
   },
   "file_extension": ".py",
   "mimetype": "text/x-python",
   "name": "python",
   "nbconvert_exporter": "python",
   "pygments_lexer": "ipython3",
   "version": "3.10.13"
  }
 },
 "nbformat": 4,
 "nbformat_minor": 5
}
