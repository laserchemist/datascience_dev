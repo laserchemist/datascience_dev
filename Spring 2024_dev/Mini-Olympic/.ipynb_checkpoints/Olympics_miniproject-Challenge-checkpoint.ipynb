{
 "cells": [
  {
   "cell_type": "markdown",
   "id": "57267dbe-29a4-4afd-8deb-dc8fca11d2a3",
   "metadata": {},
   "source": [
    "# Mini Project I"
   ]
  },
  {
   "cell_type": "markdown",
   "id": "13427c65-e245-4735-a230-c05d178843ad",
   "metadata": {},
   "source": [
    "A mini-project is where you will begin to develop code and analysis to explore a data set and address questions. The format differs from a weekly lab in that you will develop your own notebook below.  **There will be no automatic test of your answers.** As a budding data scientist you need to develop the habit of checking your own work.\n",
    "\n",
    "You will create all the notebook code and **use extensive markdown to document** the process and your observations. This can be challenging at first but it is the way to trully understand the code development process and build confidence using code to analysis data.\n"
   ]
  },
  {
   "cell_type": "markdown",
   "id": "df2b5b2d-4c07-4730-bd6f-39d78815bba8",
   "metadata": {},
   "source": [
    "# Olympics Data mini-project\n",
    "## Overview\n",
    "In celebration of the Olympic spirit we will analyze trends in a data set which spans the from the 1896 Athens games to Rio in 2016. With this data we will explore trends in medals awarded, sports, and countries, as well as any host country advantage. The dataset is from Kaggle (https://www.kaggle.com ), a data science dataset, coding, and competition site. The mini-project represents your first chance to try out your coding and data skills to address specific questions without template code. Look to your previous labs and our work in class for ideas.\n",
    "\n",
    "(Data source:\n",
    "[Kaggle dataset](https://www.kaggle.com/heesoo37/120-years-of-olympic-history-athletes-and-results))\n",
    "\n",
    "Background Resources:\n",
    "- Data Tables (Inferential Thinking 6.1-6.4) \n",
    "- Visualization (Inferential Thinking 7.1, 7.2)\n",
    "- Cross-classifying (Inferential Thinking 8.3)"
   ]
  },
  {
   "cell_type": "markdown",
   "id": "4bdcd8c7-0092-4493-9bd5-f74b57436cfa",
   "metadata": {},
   "source": [
    "### Initialization"
   ]
  },
  {
   "cell_type": "code",
   "execution_count": null,
   "id": "0669759c-539d-418e-9b4a-bb4308f6f47f",
   "metadata": {},
   "outputs": [],
   "source": [
    "# Enter your name as a string\n",
    "name = ..."
   ]
  },
  {
   "cell_type": "code",
   "execution_count": 1,
   "id": "742e0e08-c659-4fc2-b690-2a7a21c57206",
   "metadata": {},
   "outputs": [],
   "source": [
    "# Extra Python functionality to import\n",
    "from datascience import *  # datascience Table \n",
    "import EDS\n",
    "import numpy as np\n",
    "import pandas as pd\n",
    "%matplotlib inline\n",
    "import matplotlib.pyplot as plt\n",
    "plt.style.use('ggplot')\n",
    "import os\n",
    "user = os.getenv('JUPYTERHUB_USER')"
   ]
  },
  {
   "cell_type": "markdown",
   "id": "1d8d5c53-41ba-459a-8e85-cb9e3499fdb7",
   "metadata": {},
   "source": [
    "### Data Set\n",
    "Athletes: Olympic_Data/athlete_events.csv\n",
    "Source: Kaggle https://www.kaggle.com/heesoo37/120-years-of-olympic-history-athletes-and-results\n",
    "#### Data Fields\n",
    "1. ID - Unique number for each athlete\n",
    "2. Name - Athlete's name\n",
    "3. Sex-MorF\n",
    "4. Age - Integer\n",
    "5. Height - In centimeters\n",
    "6. Weight - In kilograms\n",
    "7. Team - Team name\n",
    "8. NOC - National Olympic Committee 3-letter code\n",
    "9. Games - Year and season\n",
    "10. Year - Integer\n",
    "11. Season - Summer or Winter\n",
    "12. City - Host city\n",
    "13. Sport - Sport\n",
    "14. Event - Event\n",
    "15. Medal - Gold, Silver, Bronze, or nan"
   ]
  },
  {
   "cell_type": "markdown",
   "id": "95887195-f96a-4580-ab61-6c2861c9f0f2",
   "metadata": {},
   "source": [
    "We will limit our project to data from the Winter Olympics by using the where method [.where(\"Season\",\"Winter\") ] which leaves us with 18,923 individual athletes and 48,564 athlete/event datapoints (Many athletes compete in multiple events and/or over multiple Olympics).  "
   ]
  },
  {
   "cell_type": "code",
   "execution_count": 2,
   "id": "51ec1d19-eac2-4cf7-979a-f2088537248d",
   "metadata": {},
   "outputs": [
    {
     "data": {
      "text/html": [
       "<table border=\"1\" class=\"dataframe\">\n",
       "    <thead>\n",
       "        <tr>\n",
       "            <th>ID</th> <th>Name</th> <th>Sex</th> <th>Age</th> <th>Height</th> <th>Weight</th> <th>Team</th> <th>NOC</th> <th>Games</th> <th>Year</th> <th>Season</th> <th>City</th> <th>Sport</th> <th>Event</th> <th>Medal</th>\n",
       "        </tr>\n",
       "    </thead>\n",
       "    <tbody>\n",
       "        <tr>\n",
       "            <td>16  </td> <td>Juhamatti Tapio Aaltonen          </td> <td>M   </td> <td>28  </td> <td>184   </td> <td>85    </td> <td>Finland      </td> <td>FIN </td> <td>2014 Winter</td> <td>2014</td> <td>Winter</td> <td>Sochi</td> <td>Ice Hockey      </td> <td>Ice Hockey Men's Ice Hockey       </td> <td>Bronze</td>\n",
       "        </tr>\n",
       "        <tr>\n",
       "            <td>126 </td> <td>Forough Abbasi                    </td> <td>F   </td> <td>20  </td> <td>164   </td> <td>58    </td> <td>Iran         </td> <td>IRI </td> <td>2014 Winter</td> <td>2014</td> <td>Winter</td> <td>Sochi</td> <td>Alpine Skiing   </td> <td>Alpine Skiing Women's Slalom      </td> <td>nan   </td>\n",
       "        </tr>\n",
       "        <tr>\n",
       "            <td>145 </td> <td>Jeremy Abbott                     </td> <td>M   </td> <td>28  </td> <td>175   </td> <td>70    </td> <td>United States</td> <td>USA </td> <td>2014 Winter</td> <td>2014</td> <td>Winter</td> <td>Sochi</td> <td>Figure Skating  </td> <td>Figure Skating Men's Singles      </td> <td>nan   </td>\n",
       "        </tr>\n",
       "        <tr>\n",
       "            <td>145 </td> <td>Jeremy Abbott                     </td> <td>M   </td> <td>28  </td> <td>175   </td> <td>70    </td> <td>United States</td> <td>USA </td> <td>2014 Winter</td> <td>2014</td> <td>Winter</td> <td>Sochi</td> <td>Figure Skating  </td> <td>Figure Skating Mixed Team         </td> <td>Bronze</td>\n",
       "        </tr>\n",
       "        <tr>\n",
       "            <td>463 </td> <td>Agnese boltia                     </td> <td>F   </td> <td>17  </td> <td>166   </td> <td>60    </td> <td>Latvia       </td> <td>LAT </td> <td>2014 Winter</td> <td>2014</td> <td>Winter</td> <td>Sochi</td> <td>Alpine Skiing   </td> <td>Alpine Skiing Women's Super G     </td> <td>nan   </td>\n",
       "        </tr>\n",
       "        <tr>\n",
       "            <td>463 </td> <td>Agnese boltia                     </td> <td>F   </td> <td>17  </td> <td>166   </td> <td>60    </td> <td>Latvia       </td> <td>LAT </td> <td>2014 Winter</td> <td>2014</td> <td>Winter</td> <td>Sochi</td> <td>Alpine Skiing   </td> <td>Alpine Skiing Women's Giant Slalom</td> <td>nan   </td>\n",
       "        </tr>\n",
       "        <tr>\n",
       "            <td>463 </td> <td>Agnese boltia                     </td> <td>F   </td> <td>17  </td> <td>166   </td> <td>60    </td> <td>Latvia       </td> <td>LAT </td> <td>2014 Winter</td> <td>2014</td> <td>Winter</td> <td>Sochi</td> <td>Alpine Skiing   </td> <td>Alpine Skiing Women's Slalom      </td> <td>nan   </td>\n",
       "        </tr>\n",
       "        <tr>\n",
       "            <td>532 </td> <td>Iason Abramashvili                </td> <td>M   </td> <td>25  </td> <td>176   </td> <td>82    </td> <td>Georgia      </td> <td>GEO </td> <td>2014 Winter</td> <td>2014</td> <td>Winter</td> <td>Sochi</td> <td>Alpine Skiing   </td> <td>Alpine Skiing Men's Giant Slalom  </td> <td>nan   </td>\n",
       "        </tr>\n",
       "        <tr>\n",
       "            <td>532 </td> <td>Iason Abramashvili                </td> <td>M   </td> <td>25  </td> <td>176   </td> <td>82    </td> <td>Georgia      </td> <td>GEO </td> <td>2014 Winter</td> <td>2014</td> <td>Winter</td> <td>Sochi</td> <td>Alpine Skiing   </td> <td>Alpine Skiing Men's Slalom        </td> <td>nan   </td>\n",
       "        </tr>\n",
       "        <tr>\n",
       "            <td>534 </td> <td>Oleksandr Volodymyrovych Abramenko</td> <td>M   </td> <td>25  </td> <td>180   </td> <td>82    </td> <td>Ukraine      </td> <td>UKR </td> <td>2014 Winter</td> <td>2014</td> <td>Winter</td> <td>Sochi</td> <td>Freestyle Skiing</td> <td>Freestyle Skiing Men's Aerials    </td> <td>nan   </td>\n",
       "        </tr>\n",
       "    </tbody>\n",
       "</table>\n",
       "<p>... (48554 rows omitted)</p>"
      ],
      "text/plain": [
       "ID   | Name                               | Sex  | Age  | Height | Weight | Team          | NOC  | Games       | Year | Season | City  | Sport            | Event                              | Medal\n",
       "16   | Juhamatti Tapio Aaltonen           | M    | 28   | 184    | 85     | Finland       | FIN  | 2014 Winter | 2014 | Winter | Sochi | Ice Hockey       | Ice Hockey Men's Ice Hockey        | Bronze\n",
       "126  | Forough Abbasi                     | F    | 20   | 164    | 58     | Iran          | IRI  | 2014 Winter | 2014 | Winter | Sochi | Alpine Skiing    | Alpine Skiing Women's Slalom       | nan\n",
       "145  | Jeremy Abbott                      | M    | 28   | 175    | 70     | United States | USA  | 2014 Winter | 2014 | Winter | Sochi | Figure Skating   | Figure Skating Men's Singles       | nan\n",
       "145  | Jeremy Abbott                      | M    | 28   | 175    | 70     | United States | USA  | 2014 Winter | 2014 | Winter | Sochi | Figure Skating   | Figure Skating Mixed Team          | Bronze\n",
       "463  | Agnese boltia                      | F    | 17   | 166    | 60     | Latvia        | LAT  | 2014 Winter | 2014 | Winter | Sochi | Alpine Skiing    | Alpine Skiing Women's Super G      | nan\n",
       "463  | Agnese boltia                      | F    | 17   | 166    | 60     | Latvia        | LAT  | 2014 Winter | 2014 | Winter | Sochi | Alpine Skiing    | Alpine Skiing Women's Giant Slalom | nan\n",
       "463  | Agnese boltia                      | F    | 17   | 166    | 60     | Latvia        | LAT  | 2014 Winter | 2014 | Winter | Sochi | Alpine Skiing    | Alpine Skiing Women's Slalom       | nan\n",
       "532  | Iason Abramashvili                 | M    | 25   | 176    | 82     | Georgia       | GEO  | 2014 Winter | 2014 | Winter | Sochi | Alpine Skiing    | Alpine Skiing Men's Giant Slalom   | nan\n",
       "532  | Iason Abramashvili                 | M    | 25   | 176    | 82     | Georgia       | GEO  | 2014 Winter | 2014 | Winter | Sochi | Alpine Skiing    | Alpine Skiing Men's Slalom         | nan\n",
       "534  | Oleksandr Volodymyrovych Abramenko | M    | 25   | 180    | 82     | Ukraine       | UKR  | 2014 Winter | 2014 | Winter | Sochi | Freestyle Skiing | Freestyle Skiing Men's Aerials     | nan\n",
       "... (48554 rows omitted)"
      ]
     },
     "execution_count": 2,
     "metadata": {},
     "output_type": "execute_result"
    }
   ],
   "source": [
    "datafile = \"Olympic_Data/winter_athletes.csv\"\n",
    "athletes = Table.read_table(datafile).sort(\"Year\",descending=True).where(\"Season\",\"Winter\")\n",
    "athletes"
   ]
  },
  {
   "cell_type": "markdown",
   "id": "eccd67c7-7a4d-4ac3-9347-2905a9717c65",
   "metadata": {},
   "source": [
    "#### Considerations\n",
    "- Each observation is an athletes performance in a particular event for a particular year.\n",
    "- `.group()` is a very useful Table method to group by Team, Year, Age, etc.\n",
    "- Athletes can perform in multiple events and over multiple years\n",
    "- `athletes.group(\"Name\", np.unique)` Can provide unique athlete names and combine their efforts in a list. This can be a challenge for analysis of specific performances but givene a good count of total athletes, `athletes.group(\"Name\", np.unique).num_rows`"
   ]
  },
  {
   "cell_type": "code",
   "execution_count": 3,
   "id": "d5c54863-bb8c-4c01-9f6d-5bc25a9542b1",
   "metadata": {
    "tags": []
   },
   "outputs": [
    {
     "data": {
      "text/plain": [
       "18923"
      ]
     },
     "execution_count": 3,
     "metadata": {},
     "output_type": "execute_result"
    }
   ],
   "source": [
    "athletes.group(\"Name\", np.unique).num_rows"
   ]
  },
  {
   "cell_type": "code",
   "execution_count": 4,
   "id": "c5e43080-63bb-4f90-a12c-0263cb0b90e1",
   "metadata": {
    "tags": []
   },
   "outputs": [
    {
     "data": {
      "text/plain": [
       "48564"
      ]
     },
     "execution_count": 4,
     "metadata": {},
     "output_type": "execute_result"
    }
   ],
   "source": [
    "athletes.num_rows"
   ]
  },
  {
   "cell_type": "markdown",
   "id": "ada12c97-04f1-4ea0-8a86-6f411a3ef0be",
   "metadata": {},
   "source": [
    "Some athletes do not have an age listed do for analysis of age we will only use those with a reported and reasonable age."
   ]
  },
  {
   "cell_type": "code",
   "execution_count": 5,
   "id": "0cc7d404-e617-4b59-8712-10b6ede880cc",
   "metadata": {},
   "outputs": [],
   "source": [
    "age_athletes = athletes.where(\"Age\",are.below(99)).where(\"Age\",are.above(0))"
   ]
  },
  {
   "cell_type": "markdown",
   "id": "0585b622-e1ed-4752-b9f6-b99de9e9d1d3",
   "metadata": {},
   "source": [
    "## Mini-Project Questions to address\n",
    "Now develop your project to address the questions below. You will be adding lines of code and markdown as needed below. Feel free to expand the project to explore ideas of interest."
   ]
  },
  {
   "cell_type": "markdown",
   "id": "5d864ddf-913d-435e-97fa-daf76e3d609d",
   "metadata": {},
   "source": [
    "1. What is the earliest year for a Winter Olympics in this dataset? Check this value [(https://olympics.com/en/olympic-games/olympic-results )](https://olympics.com/en/olympic-games/olympic-results ), does it fit the data?\n"
   ]
  },
  {
   "cell_type": "code",
   "execution_count": null,
   "id": "86bd880d-ede1-408c-9427-05022d43b13d",
   "metadata": {},
   "outputs": [],
   "source": []
  },
  {
   "cell_type": "markdown",
   "id": "6daacef3-a4b8-4680-a52b-f587f9294b93",
   "metadata": {},
   "source": [
    "2. Examine the distribution of the age of all Olympians with a histogram. What do you find? "
   ]
  },
  {
   "cell_type": "code",
   "execution_count": null,
   "id": "4d7c529c-d3b5-4673-baf1-b9ef8c60367d",
   "metadata": {},
   "outputs": [],
   "source": []
  },
  {
   "cell_type": "markdown",
   "id": "f59f0534-8d7e-445f-9a59-3a6a4e45fbc2",
   "metadata": {},
   "source": [
    "3. Another way to get a view of this distribution of Olympian ages is a **five number summary** which includes the min, max, median, mean, and standard deviation. To get the **five number summary** (min, max, median, mean, and standard deviation) using np.min, np.max, np.median, np.mean, and np.std respectively on the corresponding column array. Below create a function to compute and display the five number summary given an argument of table name and column label.\n",
    "   | Statistic| Description||\n",
    "   |---|---|---|\n",
    "   |**Measures of the central tendency of data**|\n",
    "   |mean|sum of values divided by number of values, $\\bar{x}$ | `np.array([1, 3, 6, 7, 8]).mean()` <br> $\\bar{x}=$ 5|\n",
    "   |median|middle value of set of data | median of `np.array([1, 3, 6, 7, 8])`  is 6|\n",
    "   |**Measures of variability of data**|\n",
    "   |variance| average difference <br>between data and the mean, $\\sigma^2$|$\\sigma^2 = \\frac{\\sum_i(x_i - \\bar{x})^2}{n-1} $ <br>for population where $n$ is number of data points|\n",
    "   |standard deviation|square root of variance|$\\sigma$|"
   ]
  },
  {
   "cell_type": "code",
   "execution_count": null,
   "id": "747a3e81-a2b1-4d7c-a046-86d27e6cc6d2",
   "metadata": {},
   "outputs": [],
   "source": [
    "def five_num_sum(table,column):\n",
    "    nums=[]\n",
    "    array = table.column(column)\n",
    "    nums.append(np.min(array))\n",
    "    ...\n",
    "    ...\n",
    "    ...\n",
    "    nums.append(round(np.std(array),2)\n",
    "    return nums"
   ]
  },
  {
   "cell_type": "code",
   "execution_count": null,
   "id": "c440ee17-9b12-4f3d-9d61-ec48c5b60a72",
   "metadata": {},
   "outputs": [],
   "source": []
  },
  {
   "cell_type": "markdown",
   "id": "b82c8206-1b56-48a2-81ae-9abd96bd1fe0",
   "metadata": {},
   "source": [
    "#### Group\n",
    "In the next questions it will be very helpful to utilize the `.group` Table method. See [Inferential Thinking 8.3](https://inferentialthinking.com/chapters/08/3/Cross-Classifying_by_More_than_One_Variable.html)<br>Follow the example below."
   ]
  },
  {
   "cell_type": "code",
   "execution_count": null,
   "id": "7526bebd-0521-480b-b7d0-5d8e59525541",
   "metadata": {
    "tags": []
   },
   "outputs": [],
   "source": [
    "IC_data = Table.read_table('Olympic_data/BenJerryData.csv')\n",
    "IC_data"
   ]
  },
  {
   "cell_type": "markdown",
   "id": "438069c6-035d-4d74-8824-e4a285984857",
   "metadata": {},
   "source": [
    "#### .group"
   ]
  },
  {
   "cell_type": "markdown",
   "id": "bc223516-1323-46af-a558-c7417d36ecc8",
   "metadata": {},
   "source": [
    "Look at base ice creams"
   ]
  },
  {
   "cell_type": "code",
   "execution_count": null,
   "id": "d84781fc-4d2b-4a07-b641-d76035640f43",
   "metadata": {
    "tags": []
   },
   "outputs": [],
   "source": [
    "IC_data.group('base ice cream')"
   ]
  },
  {
   "cell_type": "markdown",
   "id": "51657ffd-6d25-4052-9623-4d689220df36",
   "metadata": {},
   "source": [
    "#### .pivot"
   ]
  },
  {
   "cell_type": "code",
   "execution_count": null,
   "id": "900f87c4-cd63-4db5-b760-27f37b1e6c3e",
   "metadata": {},
   "outputs": [],
   "source": [
    "IC_data.pivot('Flavor','fat (g)')"
   ]
  },
  {
   "cell_type": "markdown",
   "id": "25175e52-d08c-4bb1-ae98-03aebf2ca50c",
   "metadata": {},
   "source": [
    "4. Since a given athlete can appear in multiple events, a better way to examine the age distribution of athletes is to group the data by name using a function such as np.average. i.e. `athletes.group(\"Name\", np.average)`"
   ]
  },
  {
   "cell_type": "code",
   "execution_count": null,
   "id": "eddf20fd-b5d8-4037-9c32-63588d17d12e",
   "metadata": {},
   "outputs": [],
   "source": []
  },
  {
   "cell_type": "markdown",
   "id": "2bb52a70-4f86-4a94-ac57-27a1a740d465",
   "metadata": {},
   "source": [
    "5. What are the top ten countries in number of Gold, silver, bronze medals, and total medals? You should have four sets of top ten countries for each of the scenarios. Generate the **five number summary** for each medal type for all countries.\n",
    "Hint: `.where(\"Medal\",are.not_equal_to(\"nan\"))` to get only medal winners. Consider how to create a column for the sum of the three medal categories."
   ]
  },
  {
   "cell_type": "code",
   "execution_count": null,
   "id": "16ff02a0-6177-4e7d-a27d-ff23c0dc113e",
   "metadata": {},
   "outputs": [],
   "source": []
  },
  {
   "cell_type": "markdown",
   "id": "e7a20e7a-59ab-42b1-841b-476db93d4dd2",
   "metadata": {},
   "source": [
    "6. What are the top 5 sports in terms of number of athletes? Is this what you expected?"
   ]
  },
  {
   "cell_type": "code",
   "execution_count": null,
   "id": "4dd8596b-380d-4cb9-91d2-b2bee5898765",
   "metadata": {},
   "outputs": [],
   "source": []
  },
  {
   "cell_type": "markdown",
   "id": "a05f2b16-5e6c-4451-9bea-efe5e5e82e56",
   "metadata": {},
   "source": [
    "7. Which sports (top 5) awarded the most medals in Lake Placid, New York (1980,\n",
    "https://www.lakeplacid.com/do/activities/olympic-sites )."
   ]
  },
  {
   "cell_type": "code",
   "execution_count": null,
   "id": "8e01a681-1efa-4b12-a445-d227a7660ed7",
   "metadata": {},
   "outputs": [],
   "source": []
  },
  {
   "cell_type": "markdown",
   "id": "2b7be597-6619-49b9-8494-10f1a2f6c7b7",
   "metadata": {},
   "source": [
    "**Challenge Question:** Does the host country team have an advantage? To get at this you may need to create another column in the athletes Table with the team name of the host country. Use a markdown cell to create a strategy to address this question. **This is the sort of research question that can emerge during your data exploration.**"
   ]
  },
  {
   "cell_type": "code",
   "execution_count": 7,
   "id": "7326a21a-71fd-4735-a900-506cba95e56b",
   "metadata": {},
   "outputs": [
    {
     "data": {
      "text/html": [
       "<table border=\"1\" class=\"dataframe\">\n",
       "    <thead>\n",
       "        <tr>\n",
       "            <th>City</th> <th>count</th>\n",
       "        </tr>\n",
       "    </thead>\n",
       "    <tbody>\n",
       "        <tr>\n",
       "            <td>Albertville           </td> <td>3436 </td>\n",
       "        </tr>\n",
       "        <tr>\n",
       "            <td>Calgary               </td> <td>2639 </td>\n",
       "        </tr>\n",
       "        <tr>\n",
       "            <td>Chamonix              </td> <td>460  </td>\n",
       "        </tr>\n",
       "        <tr>\n",
       "            <td>Cortina d'Ampezzo     </td> <td>1307 </td>\n",
       "        </tr>\n",
       "        <tr>\n",
       "            <td>Garmisch-Partenkirchen</td> <td>895  </td>\n",
       "        </tr>\n",
       "        <tr>\n",
       "            <td>Grenoble              </td> <td>1891 </td>\n",
       "        </tr>\n",
       "        <tr>\n",
       "            <td>Innsbruck             </td> <td>3639 </td>\n",
       "        </tr>\n",
       "        <tr>\n",
       "            <td>Lake Placid           </td> <td>2098 </td>\n",
       "        </tr>\n",
       "        <tr>\n",
       "            <td>Lillehammer           </td> <td>3160 </td>\n",
       "        </tr>\n",
       "        <tr>\n",
       "            <td>Nagano                </td> <td>3605 </td>\n",
       "        </tr>\n",
       "        <tr>\n",
       "            <td>Oslo                  </td> <td>1088 </td>\n",
       "        </tr>\n",
       "        <tr>\n",
       "            <td>Salt Lake City        </td> <td>4109 </td>\n",
       "        </tr>\n",
       "        <tr>\n",
       "            <td>Sankt Moritz          </td> <td>1657 </td>\n",
       "        </tr>\n",
       "        <tr>\n",
       "            <td>Sapporo               </td> <td>1655 </td>\n",
       "        </tr>\n",
       "        <tr>\n",
       "            <td>Sarajevo              </td> <td>2134 </td>\n",
       "        </tr>\n",
       "        <tr>\n",
       "            <td>Sochi                 </td> <td>4891 </td>\n",
       "        </tr>\n",
       "        <tr>\n",
       "            <td>Squaw Valley          </td> <td>1116 </td>\n",
       "        </tr>\n",
       "        <tr>\n",
       "            <td>Torino                </td> <td>4382 </td>\n",
       "        </tr>\n",
       "        <tr>\n",
       "            <td>Vancouver             </td> <td>4402 </td>\n",
       "        </tr>\n",
       "    </tbody>\n",
       "</table>"
      ],
      "text/plain": [
       "<IPython.core.display.HTML object>"
      ]
     },
     "metadata": {},
     "output_type": "display_data"
    }
   ],
   "source": [
    "athletes.group(\"City\").show(20)"
   ]
  },
  {
   "cell_type": "code",
   "execution_count": 29,
   "id": "b084111c-7aec-4a41-880a-f8c2b2a4aa6a",
   "metadata": {},
   "outputs": [],
   "source": [
    "host_country = np.array(['France','Canada','France','Italy','Germany','France', 'Austria', 'United States','Norway','Japan','Norway','United States','Switzerland','Japan','Yugoslavia','Russia','United States', 'Italy', 'Canada'])"
   ]
  },
  {
   "cell_type": "code",
   "execution_count": 30,
   "id": "cd638b31-16af-4acd-ad3d-3dfa45ab3e92",
   "metadata": {},
   "outputs": [
    {
     "data": {
      "text/plain": [
       "19"
      ]
     },
     "execution_count": 30,
     "metadata": {},
     "output_type": "execute_result"
    }
   ],
   "source": [
    "len(host_country)"
   ]
  },
  {
   "cell_type": "code",
   "execution_count": 31,
   "id": "a41b0c0a-c21d-4e0d-8c4d-ffa1b91001f5",
   "metadata": {},
   "outputs": [
    {
     "data": {
      "text/html": [
       "<table border=\"1\" class=\"dataframe\">\n",
       "    <thead>\n",
       "        <tr>\n",
       "            <th>City</th> <th>Country</th>\n",
       "        </tr>\n",
       "    </thead>\n",
       "    <tbody>\n",
       "        <tr>\n",
       "            <td>Albertville           </td> <td>France       </td>\n",
       "        </tr>\n",
       "        <tr>\n",
       "            <td>Calgary               </td> <td>Canada       </td>\n",
       "        </tr>\n",
       "        <tr>\n",
       "            <td>Chamonix              </td> <td>France       </td>\n",
       "        </tr>\n",
       "        <tr>\n",
       "            <td>Cortina d'Ampezzo     </td> <td>Italy        </td>\n",
       "        </tr>\n",
       "        <tr>\n",
       "            <td>Garmisch-Partenkirchen</td> <td>Germany      </td>\n",
       "        </tr>\n",
       "        <tr>\n",
       "            <td>Grenoble              </td> <td>France       </td>\n",
       "        </tr>\n",
       "        <tr>\n",
       "            <td>Innsbruck             </td> <td>Austria      </td>\n",
       "        </tr>\n",
       "        <tr>\n",
       "            <td>Lake Placid           </td> <td>United States</td>\n",
       "        </tr>\n",
       "        <tr>\n",
       "            <td>Lillehammer           </td> <td>Norway       </td>\n",
       "        </tr>\n",
       "        <tr>\n",
       "            <td>Nagano                </td> <td>Japan        </td>\n",
       "        </tr>\n",
       "        <tr>\n",
       "            <td>Oslo                  </td> <td>Norway       </td>\n",
       "        </tr>\n",
       "        <tr>\n",
       "            <td>Salt Lake City        </td> <td>United States</td>\n",
       "        </tr>\n",
       "        <tr>\n",
       "            <td>Sankt Moritz          </td> <td>Switzerland  </td>\n",
       "        </tr>\n",
       "        <tr>\n",
       "            <td>Sapporo               </td> <td>Japan        </td>\n",
       "        </tr>\n",
       "        <tr>\n",
       "            <td>Sarajevo              </td> <td>Yugoslavia   </td>\n",
       "        </tr>\n",
       "        <tr>\n",
       "            <td>Sochi                 </td> <td>Russia       </td>\n",
       "        </tr>\n",
       "        <tr>\n",
       "            <td>Squaw Valley          </td> <td>United States</td>\n",
       "        </tr>\n",
       "        <tr>\n",
       "            <td>Torino                </td> <td>Italy        </td>\n",
       "        </tr>\n",
       "        <tr>\n",
       "            <td>Vancouver             </td> <td>Canada       </td>\n",
       "        </tr>\n",
       "    </tbody>\n",
       "</table>"
      ],
      "text/plain": [
       "<IPython.core.display.HTML object>"
      ]
     },
     "metadata": {},
     "output_type": "display_data"
    }
   ],
   "source": [
    "host = Table().with_columns(\"City\",athletes.group(\"City\").column('City'),\"Country\",host_country)\n",
    "host.show(20)"
   ]
  },
  {
   "cell_type": "code",
   "execution_count": 32,
   "id": "b9c0136e-c8b7-48bb-a5fa-1ad843e767c1",
   "metadata": {},
   "outputs": [],
   "source": [
    "athletes=athletes.join(\"City\",host)"
   ]
  },
  {
   "cell_type": "code",
   "execution_count": 33,
   "id": "8a231315-54d0-437c-ad35-2949d2ee0e5d",
   "metadata": {},
   "outputs": [
    {
     "data": {
      "text/html": [
       "<table border=\"1\" class=\"dataframe\">\n",
       "    <thead>\n",
       "        <tr>\n",
       "            <th>City</th> <th>ID</th> <th>Name</th> <th>Sex</th> <th>Age</th> <th>Height</th> <th>Weight</th> <th>Team</th> <th>NOC</th> <th>Games</th> <th>Year</th> <th>Season</th> <th>Sport</th> <th>Event</th> <th>Medal</th> <th>Country</th> <th>Host</th> <th>Country_2</th>\n",
       "        </tr>\n",
       "    </thead>\n",
       "    <tbody>\n",
       "        <tr>\n",
       "            <td>Albertville</td> <td>5   </td> <td>Christine Jacoba Aaftink</td> <td>F   </td> <td>25  </td> <td>185   </td> <td>82    </td> <td>Netherlands  </td> <td>NED </td> <td>1992 Winter</td> <td>1992</td> <td>Winter</td> <td>Speed Skating       </td> <td>Speed Skating Women's 500 metres                   </td> <td>nan  </td> <td>France </td> <td>False</td> <td>France   </td>\n",
       "        </tr>\n",
       "        <tr>\n",
       "            <td>Albertville</td> <td>5   </td> <td>Christine Jacoba Aaftink</td> <td>F   </td> <td>25  </td> <td>185   </td> <td>82    </td> <td>Netherlands  </td> <td>NED </td> <td>1992 Winter</td> <td>1992</td> <td>Winter</td> <td>Speed Skating       </td> <td>Speed Skating Women's 1,000 metres                 </td> <td>nan  </td> <td>France </td> <td>False</td> <td>France   </td>\n",
       "        </tr>\n",
       "        <tr>\n",
       "            <td>Albertville</td> <td>6   </td> <td>Per Knut Aaland         </td> <td>M   </td> <td>31  </td> <td>188   </td> <td>75    </td> <td>United States</td> <td>USA </td> <td>1992 Winter</td> <td>1992</td> <td>Winter</td> <td>Cross Country Skiing</td> <td>Cross Country Skiing Men's 10 kilometres           </td> <td>nan  </td> <td>France </td> <td>False</td> <td>France   </td>\n",
       "        </tr>\n",
       "        <tr>\n",
       "            <td>Albertville</td> <td>6   </td> <td>Per Knut Aaland         </td> <td>M   </td> <td>31  </td> <td>188   </td> <td>75    </td> <td>United States</td> <td>USA </td> <td>1992 Winter</td> <td>1992</td> <td>Winter</td> <td>Cross Country Skiing</td> <td>Cross Country Skiing Men's 50 kilometres           </td> <td>nan  </td> <td>France </td> <td>False</td> <td>France   </td>\n",
       "        </tr>\n",
       "        <tr>\n",
       "            <td>Albertville</td> <td>6   </td> <td>Per Knut Aaland         </td> <td>M   </td> <td>31  </td> <td>188   </td> <td>75    </td> <td>United States</td> <td>USA </td> <td>1992 Winter</td> <td>1992</td> <td>Winter</td> <td>Cross Country Skiing</td> <td>Cross Country Skiing Men's 10/15 kilometres Pursuit</td> <td>nan  </td> <td>France </td> <td>False</td> <td>France   </td>\n",
       "        </tr>\n",
       "        <tr>\n",
       "            <td>Albertville</td> <td>6   </td> <td>Per Knut Aaland         </td> <td>M   </td> <td>31  </td> <td>188   </td> <td>75    </td> <td>United States</td> <td>USA </td> <td>1992 Winter</td> <td>1992</td> <td>Winter</td> <td>Cross Country Skiing</td> <td>Cross Country Skiing Men's 4 x 10 kilometres Relay </td> <td>nan  </td> <td>France </td> <td>False</td> <td>France   </td>\n",
       "        </tr>\n",
       "        <tr>\n",
       "            <td>Albertville</td> <td>7   </td> <td>John Aalberg            </td> <td>M   </td> <td>31  </td> <td>183   </td> <td>72    </td> <td>United States</td> <td>USA </td> <td>1992 Winter</td> <td>1992</td> <td>Winter</td> <td>Cross Country Skiing</td> <td>Cross Country Skiing Men's 10 kilometres           </td> <td>nan  </td> <td>France </td> <td>False</td> <td>France   </td>\n",
       "        </tr>\n",
       "        <tr>\n",
       "            <td>Albertville</td> <td>7   </td> <td>John Aalberg            </td> <td>M   </td> <td>31  </td> <td>183   </td> <td>72    </td> <td>United States</td> <td>USA </td> <td>1992 Winter</td> <td>1992</td> <td>Winter</td> <td>Cross Country Skiing</td> <td>Cross Country Skiing Men's 50 kilometres           </td> <td>nan  </td> <td>France </td> <td>False</td> <td>France   </td>\n",
       "        </tr>\n",
       "        <tr>\n",
       "            <td>Albertville</td> <td>7   </td> <td>John Aalberg            </td> <td>M   </td> <td>31  </td> <td>183   </td> <td>72    </td> <td>United States</td> <td>USA </td> <td>1992 Winter</td> <td>1992</td> <td>Winter</td> <td>Cross Country Skiing</td> <td>Cross Country Skiing Men's 10/15 kilometres Pursuit</td> <td>nan  </td> <td>France </td> <td>False</td> <td>France   </td>\n",
       "        </tr>\n",
       "        <tr>\n",
       "            <td>Albertville</td> <td>7   </td> <td>John Aalberg            </td> <td>M   </td> <td>31  </td> <td>183   </td> <td>72    </td> <td>United States</td> <td>USA </td> <td>1992 Winter</td> <td>1992</td> <td>Winter</td> <td>Cross Country Skiing</td> <td>Cross Country Skiing Men's 4 x 10 kilometres Relay </td> <td>nan  </td> <td>France </td> <td>False</td> <td>France   </td>\n",
       "        </tr>\n",
       "    </tbody>\n",
       "</table>\n",
       "<p>... (48554 rows omitted)</p>"
      ],
      "text/plain": [
       "City        | ID   | Name                     | Sex  | Age  | Height | Weight | Team          | NOC  | Games       | Year | Season | Sport                | Event                                               | Medal | Country | Host  | Country_2\n",
       "Albertville | 5    | Christine Jacoba Aaftink | F    | 25   | 185    | 82     | Netherlands   | NED  | 1992 Winter | 1992 | Winter | Speed Skating        | Speed Skating Women's 500 metres                    | nan   | France  | False | France\n",
       "Albertville | 5    | Christine Jacoba Aaftink | F    | 25   | 185    | 82     | Netherlands   | NED  | 1992 Winter | 1992 | Winter | Speed Skating        | Speed Skating Women's 1,000 metres                  | nan   | France  | False | France\n",
       "Albertville | 6    | Per Knut Aaland          | M    | 31   | 188    | 75     | United States | USA  | 1992 Winter | 1992 | Winter | Cross Country Skiing | Cross Country Skiing Men's 10 kilometres            | nan   | France  | False | France\n",
       "Albertville | 6    | Per Knut Aaland          | M    | 31   | 188    | 75     | United States | USA  | 1992 Winter | 1992 | Winter | Cross Country Skiing | Cross Country Skiing Men's 50 kilometres            | nan   | France  | False | France\n",
       "Albertville | 6    | Per Knut Aaland          | M    | 31   | 188    | 75     | United States | USA  | 1992 Winter | 1992 | Winter | Cross Country Skiing | Cross Country Skiing Men's 10/15 kilometres Pursuit | nan   | France  | False | France\n",
       "Albertville | 6    | Per Knut Aaland          | M    | 31   | 188    | 75     | United States | USA  | 1992 Winter | 1992 | Winter | Cross Country Skiing | Cross Country Skiing Men's 4 x 10 kilometres Relay  | nan   | France  | False | France\n",
       "Albertville | 7    | John Aalberg             | M    | 31   | 183    | 72     | United States | USA  | 1992 Winter | 1992 | Winter | Cross Country Skiing | Cross Country Skiing Men's 10 kilometres            | nan   | France  | False | France\n",
       "Albertville | 7    | John Aalberg             | M    | 31   | 183    | 72     | United States | USA  | 1992 Winter | 1992 | Winter | Cross Country Skiing | Cross Country Skiing Men's 50 kilometres            | nan   | France  | False | France\n",
       "Albertville | 7    | John Aalberg             | M    | 31   | 183    | 72     | United States | USA  | 1992 Winter | 1992 | Winter | Cross Country Skiing | Cross Country Skiing Men's 10/15 kilometres Pursuit | nan   | France  | False | France\n",
       "Albertville | 7    | John Aalberg             | M    | 31   | 183    | 72     | United States | USA  | 1992 Winter | 1992 | Winter | Cross Country Skiing | Cross Country Skiing Men's 4 x 10 kilometres Relay  | nan   | France  | False | France\n",
       "... (48554 rows omitted)"
      ]
     },
     "execution_count": 33,
     "metadata": {},
     "output_type": "execute_result"
    }
   ],
   "source": [
    "athletes=athletes.with_columns(\"Host\",athletes['Team']==athletes['Country'])\n",
    "athletes"
   ]
  },
  {
   "cell_type": "markdown",
   "id": "12823ec5-e428-41d0-a547-87bb5b065a9f",
   "metadata": {},
   "source": [
    "#### Number of athletes when host country (True)\n",
    "Need intensive variable, Gold/athlete"
   ]
  },
  {
   "cell_type": "code",
   "execution_count": 27,
   "id": "f4db7357-dd4b-4702-b2b9-59a52b6372ec",
   "metadata": {},
   "outputs": [
    {
     "data": {
      "text/html": [
       "<table border=\"1\" class=\"dataframe\">\n",
       "    <thead>\n",
       "        <tr>\n",
       "            <th>Team</th> <th>False</th> <th>True</th>\n",
       "        </tr>\n",
       "    </thead>\n",
       "    <tbody>\n",
       "        <tr>\n",
       "            <td>United States</td> <td>2752 </td> <td>569 </td>\n",
       "        </tr>\n",
       "        <tr>\n",
       "            <td>Canada       </td> <td>2149 </td> <td>441 </td>\n",
       "        </tr>\n",
       "        <tr>\n",
       "            <td>Japan        </td> <td>1705 </td> <td>351 </td>\n",
       "        </tr>\n",
       "        <tr>\n",
       "            <td>Italy        </td> <td>1862 </td> <td>347 </td>\n",
       "        </tr>\n",
       "        <tr>\n",
       "            <td>Russia       </td> <td>1077 </td> <td>317 </td>\n",
       "        </tr>\n",
       "        <tr>\n",
       "            <td>France       </td> <td>1695 </td> <td>272 </td>\n",
       "        </tr>\n",
       "        <tr>\n",
       "            <td>Austria      </td> <td>1703 </td> <td>251 </td>\n",
       "        </tr>\n",
       "        <tr>\n",
       "            <td>Norway       </td> <td>2080 </td> <td>248 </td>\n",
       "        </tr>\n",
       "        <tr>\n",
       "            <td>Switzerland  </td> <td>1760 </td> <td>151 </td>\n",
       "        </tr>\n",
       "        <tr>\n",
       "            <td>Yugoslavia   </td> <td>418  </td> <td>103 </td>\n",
       "        </tr>\n",
       "    </tbody>\n",
       "</table>\n",
       "<p>... (211 rows omitted)</p>"
      ],
      "text/plain": [
       "Team          | False | True\n",
       "United States | 2752  | 569\n",
       "Canada        | 2149  | 441\n",
       "Japan         | 1705  | 351\n",
       "Italy         | 1862  | 347\n",
       "Russia        | 1077  | 317\n",
       "France        | 1695  | 272\n",
       "Austria       | 1703  | 251\n",
       "Norway        | 2080  | 248\n",
       "Switzerland   | 1760  | 151\n",
       "Yugoslavia    | 418   | 103\n",
       "... (211 rows omitted)"
      ]
     },
     "execution_count": 27,
     "metadata": {},
     "output_type": "execute_result"
    }
   ],
   "source": [
    "athletes.pivot('Host','Team').sort('True',descending=True)"
   ]
  },
  {
   "cell_type": "code",
   "execution_count": 38,
   "id": "3b32a054-e4b2-47e6-a694-6811de52f624",
   "metadata": {},
   "outputs": [
    {
     "data": {
      "text/html": [
       "<table border=\"1\" class=\"dataframe\">\n",
       "    <thead>\n",
       "        <tr>\n",
       "            <th>Team</th> <th>count</th>\n",
       "        </tr>\n",
       "    </thead>\n",
       "    <tbody>\n",
       "        <tr>\n",
       "            <td>Albania       </td> <td>7    </td>\n",
       "        </tr>\n",
       "        <tr>\n",
       "            <td>Algeria       </td> <td>12   </td>\n",
       "        </tr>\n",
       "        <tr>\n",
       "            <td>American Samoa</td> <td>2    </td>\n",
       "        </tr>\n",
       "        <tr>\n",
       "            <td>Andorra       </td> <td>116  </td>\n",
       "        </tr>\n",
       "        <tr>\n",
       "            <td>Argentina     </td> <td>370  </td>\n",
       "        </tr>\n",
       "        <tr>\n",
       "            <td>Argentina-1   </td> <td>7    </td>\n",
       "        </tr>\n",
       "        <tr>\n",
       "            <td>Argentina-2   </td> <td>7    </td>\n",
       "        </tr>\n",
       "        <tr>\n",
       "            <td>Armenia       </td> <td>47   </td>\n",
       "        </tr>\n",
       "        <tr>\n",
       "            <td>Australia     </td> <td>537  </td>\n",
       "        </tr>\n",
       "        <tr>\n",
       "            <td>Australia-1   </td> <td>5    </td>\n",
       "        </tr>\n",
       "    </tbody>\n",
       "</table>\n",
       "<p>... (211 rows omitted)</p>"
      ],
      "text/plain": [
       "Team           | count\n",
       "Albania        | 7\n",
       "Algeria        | 12\n",
       "American Samoa | 2\n",
       "Andorra        | 116\n",
       "Argentina      | 370\n",
       "Argentina-1    | 7\n",
       "Argentina-2    | 7\n",
       "Armenia        | 47\n",
       "Australia      | 537\n",
       "Australia-1    | 5\n",
       "... (211 rows omitted)"
      ]
     },
     "execution_count": 38,
     "metadata": {},
     "output_type": "execute_result"
    }
   ],
   "source": [
    "athletes_team = athletes.group('Team')\n",
    "athletes_team"
   ]
  },
  {
   "cell_type": "code",
   "execution_count": 35,
   "id": "f337bb86-641c-4987-aade-2658bff19f54",
   "metadata": {},
   "outputs": [
    {
     "data": {
      "text/html": [
       "<table border=\"1\" class=\"dataframe\">\n",
       "    <thead>\n",
       "        <tr>\n",
       "            <th>Team</th> <th>Bronze</th> <th>Gold</th> <th>Silver</th> <th>nan</th>\n",
       "        </tr>\n",
       "    </thead>\n",
       "    <tbody>\n",
       "        <tr>\n",
       "            <td>Albania       </td> <td>0     </td> <td>0   </td> <td>0     </td> <td>7   </td>\n",
       "        </tr>\n",
       "        <tr>\n",
       "            <td>Algeria       </td> <td>0     </td> <td>0   </td> <td>0     </td> <td>12  </td>\n",
       "        </tr>\n",
       "        <tr>\n",
       "            <td>American Samoa</td> <td>0     </td> <td>0   </td> <td>0     </td> <td>2   </td>\n",
       "        </tr>\n",
       "        <tr>\n",
       "            <td>Andorra       </td> <td>0     </td> <td>0   </td> <td>0     </td> <td>116 </td>\n",
       "        </tr>\n",
       "        <tr>\n",
       "            <td>Argentina     </td> <td>0     </td> <td>0   </td> <td>0     </td> <td>370 </td>\n",
       "        </tr>\n",
       "        <tr>\n",
       "            <td>Argentina-1   </td> <td>0     </td> <td>0   </td> <td>0     </td> <td>7   </td>\n",
       "        </tr>\n",
       "        <tr>\n",
       "            <td>Argentina-2   </td> <td>0     </td> <td>0   </td> <td>0     </td> <td>7   </td>\n",
       "        </tr>\n",
       "        <tr>\n",
       "            <td>Armenia       </td> <td>0     </td> <td>0   </td> <td>0     </td> <td>47  </td>\n",
       "        </tr>\n",
       "        <tr>\n",
       "            <td>Australia     </td> <td>7     </td> <td>6   </td> <td>3     </td> <td>521 </td>\n",
       "        </tr>\n",
       "        <tr>\n",
       "            <td>Australia-1   </td> <td>0     </td> <td>0   </td> <td>0     </td> <td>5   </td>\n",
       "        </tr>\n",
       "    </tbody>\n",
       "</table>\n",
       "<p>... (211 rows omitted)</p>"
      ],
      "text/plain": [
       "Team           | Bronze | Gold | Silver | nan\n",
       "Albania        | 0      | 0    | 0      | 7\n",
       "Algeria        | 0      | 0    | 0      | 12\n",
       "American Samoa | 0      | 0    | 0      | 2\n",
       "Andorra        | 0      | 0    | 0      | 116\n",
       "Argentina      | 0      | 0    | 0      | 370\n",
       "Argentina-1    | 0      | 0    | 0      | 7\n",
       "Argentina-2    | 0      | 0    | 0      | 7\n",
       "Armenia        | 0      | 0    | 0      | 47\n",
       "Australia      | 7      | 6    | 3      | 521\n",
       "Australia-1    | 0      | 0    | 0      | 5\n",
       "... (211 rows omitted)"
      ]
     },
     "execution_count": 35,
     "metadata": {},
     "output_type": "execute_result"
    }
   ],
   "source": [
    "medals_team = athletes.pivot('Medal','Team')\n",
    "medals_team"
   ]
  },
  {
   "cell_type": "code",
   "execution_count": 40,
   "id": "c1d92bae-5a37-4c73-8f17-7e514551a210",
   "metadata": {},
   "outputs": [],
   "source": [
    "athletes = athletes.join('Team',medals_team)"
   ]
  },
  {
   "cell_type": "code",
   "execution_count": 41,
   "id": "56164e2a-37a6-40e1-b977-b47dc67b4c2a",
   "metadata": {},
   "outputs": [],
   "source": [
    "athletes = athletes.join('Team',athletes_team)"
   ]
  },
  {
   "cell_type": "code",
   "execution_count": 53,
   "id": "5503f39c-5726-4f2c-8abf-0af03d4c8693",
   "metadata": {},
   "outputs": [
    {
     "data": {
      "text/html": [
       "<table border=\"1\" class=\"dataframe\">\n",
       "    <thead>\n",
       "        <tr>\n",
       "            <th>Gold_athlete_H</th>\n",
       "        </tr>\n",
       "    </thead>\n",
       "    <tbody>\n",
       "        <tr>\n",
       "            <td>0             </td>\n",
       "        </tr>\n",
       "        <tr>\n",
       "            <td>0             </td>\n",
       "        </tr>\n",
       "        <tr>\n",
       "            <td>0             </td>\n",
       "        </tr>\n",
       "        <tr>\n",
       "            <td>0             </td>\n",
       "        </tr>\n",
       "        <tr>\n",
       "            <td>0             </td>\n",
       "        </tr>\n",
       "        <tr>\n",
       "            <td>0             </td>\n",
       "        </tr>\n",
       "        <tr>\n",
       "            <td>0             </td>\n",
       "        </tr>\n",
       "        <tr>\n",
       "            <td>0             </td>\n",
       "        </tr>\n",
       "        <tr>\n",
       "            <td>0             </td>\n",
       "        </tr>\n",
       "        <tr>\n",
       "            <td>0             </td>\n",
       "        </tr>\n",
       "    </tbody>\n",
       "</table>\n",
       "<p>... (48554 rows omitted)</p>"
      ],
      "text/plain": [
       "Gold_athlete_H\n",
       "0\n",
       "0\n",
       "0\n",
       "0\n",
       "0\n",
       "0\n",
       "0\n",
       "0\n",
       "0\n",
       "0\n",
       "... (48554 rows omitted)"
      ]
     },
     "execution_count": 53,
     "metadata": {},
     "output_type": "execute_result"
    }
   ],
   "source": [
    "athletes = athletes.with_column('Gold_athlete_N',athletes['Gold']/athletes['count']*athletes['Host']).sort('Gold_athlete',descending=True)\n",
    "athletes.select('Gold_athlete_H')"
   ]
  },
  {
   "cell_type": "code",
   "execution_count": 54,
   "id": "bd47eb21-4277-4549-8a79-a92c8f39a86c",
   "metadata": {},
   "outputs": [
    {
     "data": {
      "text/html": [
       "<table border=\"1\" class=\"dataframe\">\n",
       "    <thead>\n",
       "        <tr>\n",
       "            <th>Team</th> <th>False</th> <th>True</th>\n",
       "        </tr>\n",
       "    </thead>\n",
       "    <tbody>\n",
       "        <tr>\n",
       "            <td>Canada       </td> <td>0    </td> <td>0.111583  </td>\n",
       "        </tr>\n",
       "        <tr>\n",
       "            <td>Norway       </td> <td>0    </td> <td>0.0648625 </td>\n",
       "        </tr>\n",
       "        <tr>\n",
       "            <td>Russia       </td> <td>0    </td> <td>0.0516499 </td>\n",
       "        </tr>\n",
       "        <tr>\n",
       "            <td>United States</td> <td>0    </td> <td>0.0424571 </td>\n",
       "        </tr>\n",
       "        <tr>\n",
       "            <td>Austria      </td> <td>0    </td> <td>0.0342886 </td>\n",
       "        </tr>\n",
       "        <tr>\n",
       "            <td>Switzerland  </td> <td>0    </td> <td>0.0251177 </td>\n",
       "        </tr>\n",
       "        <tr>\n",
       "            <td>Italy        </td> <td>0    </td> <td>0.0194658 </td>\n",
       "        </tr>\n",
       "        <tr>\n",
       "            <td>France       </td> <td>0    </td> <td>0.0172852 </td>\n",
       "        </tr>\n",
       "        <tr>\n",
       "            <td>Japan        </td> <td>0    </td> <td>0.00826848</td>\n",
       "        </tr>\n",
       "        <tr>\n",
       "            <td>Albania      </td> <td>0    </td> <td>0         </td>\n",
       "        </tr>\n",
       "    </tbody>\n",
       "</table>\n",
       "<p>... (211 rows omitted)</p>"
      ],
      "text/plain": [
       "Team          | False | True\n",
       "Canada        | 0     | 0.111583\n",
       "Norway        | 0     | 0.0648625\n",
       "Russia        | 0     | 0.0516499\n",
       "United States | 0     | 0.0424571\n",
       "Austria       | 0     | 0.0342886\n",
       "Switzerland   | 0     | 0.0251177\n",
       "Italy         | 0     | 0.0194658\n",
       "France        | 0     | 0.0172852\n",
       "Japan         | 0     | 0.00826848\n",
       "Albania       | 0     | 0\n",
       "... (211 rows omitted)"
      ]
     },
     "execution_count": 54,
     "metadata": {},
     "output_type": "execute_result"
    }
   ],
   "source": [
    "athletes.pivot('Host','Team','Gold_athlete_H',np.mean).sort('True',descending=True)"
   ]
  },
  {
   "cell_type": "code",
   "execution_count": 55,
   "id": "3fe98ba2-60c2-4d6d-bdbc-688666218f38",
   "metadata": {},
   "outputs": [
    {
     "data": {
      "text/html": [
       "<table border=\"1\" class=\"dataframe\">\n",
       "    <thead>\n",
       "        <tr>\n",
       "            <th>Team</th> <th>False</th> <th>True</th>\n",
       "        </tr>\n",
       "    </thead>\n",
       "    <tbody>\n",
       "        <tr>\n",
       "            <td>Canada       </td> <td>0.111583  </td> <td>0.111583  </td>\n",
       "        </tr>\n",
       "        <tr>\n",
       "            <td>Norway       </td> <td>0.0648625 </td> <td>0.0648625 </td>\n",
       "        </tr>\n",
       "        <tr>\n",
       "            <td>Russia       </td> <td>0.0516499 </td> <td>0.0516499 </td>\n",
       "        </tr>\n",
       "        <tr>\n",
       "            <td>United States</td> <td>0.0424571 </td> <td>0.0424571 </td>\n",
       "        </tr>\n",
       "        <tr>\n",
       "            <td>Austria      </td> <td>0.0342886 </td> <td>0.0342886 </td>\n",
       "        </tr>\n",
       "        <tr>\n",
       "            <td>Switzerland  </td> <td>0.0251177 </td> <td>0.0251177 </td>\n",
       "        </tr>\n",
       "        <tr>\n",
       "            <td>Italy        </td> <td>0.0194658 </td> <td>0.0194658 </td>\n",
       "        </tr>\n",
       "        <tr>\n",
       "            <td>France       </td> <td>0.0172852 </td> <td>0.0172852 </td>\n",
       "        </tr>\n",
       "        <tr>\n",
       "            <td>Japan        </td> <td>0.00826848</td> <td>0.00826848</td>\n",
       "        </tr>\n",
       "        <tr>\n",
       "            <td>Albania      </td> <td>0         </td> <td>0         </td>\n",
       "        </tr>\n",
       "    </tbody>\n",
       "</table>\n",
       "<p>... (211 rows omitted)</p>"
      ],
      "text/plain": [
       "Team          | False      | True\n",
       "Canada        | 0.111583   | 0.111583\n",
       "Norway        | 0.0648625  | 0.0648625\n",
       "Russia        | 0.0516499  | 0.0516499\n",
       "United States | 0.0424571  | 0.0424571\n",
       "Austria       | 0.0342886  | 0.0342886\n",
       "Switzerland   | 0.0251177  | 0.0251177\n",
       "Italy         | 0.0194658  | 0.0194658\n",
       "France        | 0.0172852  | 0.0172852\n",
       "Japan         | 0.00826848 | 0.00826848\n",
       "Albania       | 0          | 0\n",
       "... (211 rows omitted)"
      ]
     },
     "execution_count": 55,
     "metadata": {},
     "output_type": "execute_result"
    }
   ],
   "source": [
    "athletes.pivot('Host','Team','Gold_athlete',np.mean).sort('True',descending=True)"
   ]
  },
  {
   "cell_type": "markdown",
   "id": "b2e65dff-35f8-478e-be52-57ef75940295",
   "metadata": {},
   "source": [
    "#### Time Trends"
   ]
  },
  {
   "cell_type": "markdown",
   "id": "058f2625-98ca-41d7-bc24-31dbec48fb42",
   "metadata": {},
   "source": [
    "9. Plot the trend in number of athletes per year. What is the trend?\n",
    "<br>Hint: `athletes.group(\"Year\").plot(\"Year\",\"count\")`"
   ]
  },
  {
   "cell_type": "code",
   "execution_count": null,
   "id": "a8a3e4bd-4b87-42b4-86b3-69df53a2d98d",
   "metadata": {},
   "outputs": [],
   "source": []
  },
  {
   "cell_type": "markdown",
   "id": "843cf4eb-f4e7-4a02-8a9b-ad356bfc37bd",
   "metadata": {},
   "source": [
    "10. Plot the number of medals per year. What is the trend? How does this trend compare to that of the medals?"
   ]
  },
  {
   "cell_type": "code",
   "execution_count": null,
   "id": "3f358233-382a-49de-a021-620e9a90aa57",
   "metadata": {},
   "outputs": [],
   "source": []
  },
  {
   "cell_type": "markdown",
   "id": "85a8fb5a-8c9d-4a0e-b081-d4cfda739e49",
   "metadata": {},
   "source": [
    "11. Team sports award everyone the same medal. Plot the gold medal trend excluding “Ice Hockey”, why hockey?"
   ]
  },
  {
   "cell_type": "code",
   "execution_count": null,
   "id": "8a75b973-8bec-4108-8298-3a3ffa97939a",
   "metadata": {},
   "outputs": [],
   "source": []
  },
  {
   "cell_type": "markdown",
   "id": "0d5ad5a0-0843-4e70-83fc-c98b28f3a16b",
   "metadata": {},
   "source": [
    "12. Plot the yearly trend in number of sports. Think of a strategy to code this. What is the trend? "
   ]
  },
  {
   "cell_type": "code",
   "execution_count": null,
   "id": "9e9bad8d-d01f-4ca4-99a0-85c46c482442",
   "metadata": {},
   "outputs": [],
   "source": []
  },
  {
   "cell_type": "markdown",
   "id": "39920491-9f3d-43ea-a109-0914dde9992a",
   "metadata": {},
   "source": [
    "13. Plot an overlay of gold, silver, and bronze medals as a function of year on the same plot excluding hockey. What is the trend? Are the medals awarded at a similar rate?"
   ]
  },
  {
   "cell_type": "code",
   "execution_count": null,
   "id": "040ae45a-f5cf-42e3-9a01-b5095604864e",
   "metadata": {},
   "outputs": [],
   "source": []
  },
  {
   "cell_type": "markdown",
   "id": "778fa0b0-5492-4f3f-962f-06251b52f2d3",
   "metadata": {},
   "source": [
    "14. Compare the US and Norway medal counts as a function of year by overlaying their counts. Hint: You could create separate tables for the US and Norway using an appropriate .where method. Now these tables can be combined using the Table .append method which merges two tables for instance, `NORUSA = US.append(Norway)`. "
   ]
  },
  {
   "cell_type": "code",
   "execution_count": null,
   "id": "270c89f4-3a31-48ac-ab8c-282d65da30df",
   "metadata": {},
   "outputs": [],
   "source": []
  },
  {
   "cell_type": "markdown",
   "id": "98f2fdd0-3b34-45c3-9d6e-e1303f45f6e9",
   "metadata": {},
   "source": [
    "15. Now use a scatter plot (` .scatter()` ) to look at the number of athletes per year for the US versus that for Norway. What trends do you see?"
   ]
  },
  {
   "cell_type": "code",
   "execution_count": null,
   "id": "b7587c55-ae4c-48ed-9295-19f390cccc49",
   "metadata": {},
   "outputs": [],
   "source": []
  },
  {
   "cell_type": "markdown",
   "id": "cb1967f1-e961-4447-bb19-b43976a06171",
   "metadata": {},
   "source": [
    "#### Ideas for future exploration"
   ]
  },
  {
   "cell_type": "markdown",
   "id": "be664149-c14e-4af9-a679-5b40a29b3a0c",
   "metadata": {},
   "source": [
    "Data sets are available in this folder for average annual temperature by country, country population, and the highest peak in each country. Furthermore, global warming is exerting pressure on winter sports.  Insert a markdown cell to describe a question you could study in the future (not as part of this mini project). For instance, which countries are likely to have medal winning athletes or the future of winter sports given climate change."
   ]
  },
  {
   "cell_type": "markdown",
   "id": "fe94acf7-8d06-4979-a0af-e6430d81fa39",
   "metadata": {
    "editable": true,
    "slideshow": {
     "slide_type": ""
    },
    "tags": []
   },
   "source": []
  },
  {
   "cell_type": "markdown",
   "id": "887722cb-751e-44e5-8ea8-28811f82b04a",
   "metadata": {},
   "source": [
    "### <font color=blue> **Feedback** </font>\n",
    "\n",
    "Please include a reflection. \n",
    "* How did this mini-project go? \n",
    "* Was it difficult to write code without a template?\n",
    "* Did you seek help from any of the instructors or class assistants?\n",
    "* Were there questions you found especially challenging you would like your instructor to review in class? \n",
    "* How long did the project take you to complete?\n",
    "  \n",
    "Share your feedback so we can continue to improve this class!\n",
    "\n",
    "**Insert a markdown cell below this one and write your reflection on this lab.**"
   ]
  },
  {
   "cell_type": "code",
   "execution_count": null,
   "id": "a04dfbe8-44d1-4921-8a4f-8f688bd98a67",
   "metadata": {
    "tags": []
   },
   "outputs": [],
   "source": [
    "print(\"Nice work \", name, user)\n",
    "import time;\n",
    "localtime = time.asctime( time.localtime(time.time()) )\n",
    "print(\"Submitted @ \", localtime)"
   ]
  }
 ],
 "metadata": {
  "kernelspec": {
   "display_name": "Python 3 (ipykernel)",
   "language": "python",
   "name": "python3"
  },
  "language_info": {
   "codemirror_mode": {
    "name": "ipython",
    "version": 3
   },
   "file_extension": ".py",
   "mimetype": "text/x-python",
   "name": "python",
   "nbconvert_exporter": "python",
   "pygments_lexer": "ipython3",
   "version": "3.9.12"
  }
 },
 "nbformat": 4,
 "nbformat_minor": 5
}
