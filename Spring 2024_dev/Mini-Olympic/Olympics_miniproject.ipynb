{
 "cells": [
  {
   "cell_type": "markdown",
   "id": "57267dbe-29a4-4afd-8deb-dc8fca11d2a3",
   "metadata": {},
   "source": [
    "# Mini Project I"
   ]
  },
  {
   "cell_type": "markdown",
   "id": "13427c65-e245-4735-a230-c05d178843ad",
   "metadata": {},
   "source": [
    "A mini-project is where you will begin to develop code and analysis to explore a data set and address questions. The format differs from a weekly lab in that you will develop your own notebook below. You will create all the notebook code and use extensive markdown to document the process and your observations. This can be challenging at first but it is the way to trully understand the code development process and build confidence using code to analysis data."
   ]
  },
  {
   "cell_type": "markdown",
   "id": "7582dd01-fb4a-4b83-b913-c3141eb74aab",
   "metadata": {},
   "source": [
    "## Olympics Data mini-project\n",
    "*Temple Elements of Data Science*<br>\n",
    "In this mini-project you will draw on your new found skills from Module 1 of the course, Have Fun!\n",
    "The description of the mini-project and it's goals is given [here](Olympic_Lab_Mini_project.pdf)"
   ]
  },
  {
   "cell_type": "markdown",
   "id": "df2b5b2d-4c07-4730-bd6f-39d78815bba8",
   "metadata": {},
   "source": [
    "### Overview\n",
    "In celebration of the Olympic spirit we will analyze trends in a data set which spans the from the 1896 Athens games to Rio in 2016. With this data we will explore trends in medals awarded, sports, and countries, as well as any host country advantage. The dataset is from Kaggle (https://www.kaggle.com ), a Data science dataset, coding, and competition site. The mini- project represents your first chance to try out your coding and data skills to address specific questions without template code. Look to your previous labs and our work in class for ideas.\n",
    "We will limit our project to data from the Winter Olympics by using the where method [.where(\"Season\",\"Winter\") ] which leaves us with 18,923 individual athletes and 48,564 athlete/event datapoints (Many athletes compete in multiple events and/or over multiple Olympics). The dataset contains the following columns (Data source:\n",
    "[Kaggle dataset](https://www.kaggle.com/heesoo37/120-years-of-olympic-history-athletes-and-results))\n",
    "\n",
    "Background Resources:\n",
    "- Data Tables (Inferential Thinking 6.1-6.4) \n",
    "- Visualization (Inferential Thinking 7.1, 7.2)\n",
    "- Cross-classifying (Inferential Thinking 8.3)"
   ]
  },
  {
   "cell_type": "markdown",
   "id": "4bdcd8c7-0092-4493-9bd5-f74b57436cfa",
   "metadata": {},
   "source": [
    "### Initialization"
   ]
  },
  {
   "cell_type": "code",
   "execution_count": null,
   "id": "0669759c-539d-418e-9b4a-bb4308f6f47f",
   "metadata": {},
   "outputs": [],
   "source": [
    "# Enter your name as a string\n",
    "name = ..."
   ]
  },
  {
   "cell_type": "code",
   "execution_count": 3,
   "id": "742e0e08-c659-4fc2-b690-2a7a21c57206",
   "metadata": {},
   "outputs": [],
   "source": [
    "# Extra Python functionality to import\n",
    "from datascience import *  # datascience Table \n",
    "import EDS\n",
    "import numpy as np\n",
    "import pandas as pd\n",
    "%matplotlib inline\n",
    "import matplotlib.pyplot as plt\n",
    "plt.style.use('ggplot')\n",
    "import os\n",
    "user = os.getenv('JUPYTERHUB_USER')"
   ]
  },
  {
   "cell_type": "markdown",
   "id": "1d8d5c53-41ba-459a-8e85-cb9e3499fdb7",
   "metadata": {},
   "source": [
    "### Data Set\n",
    "Athletes: Olympic_Data/athlete_events.csv\n",
    "Source: Kaggle https://www.kaggle.com/heesoo37/120-years-of-olympic-history-athletes-and-results\n",
    "#### Data Fields\n",
    "1. ID - Unique number for each athlete\n",
    "2. Name - Athlete's name\n",
    "3. Sex-MorF\n",
    "4. Age - Integer\n",
    "5. Height - In centimeters\n",
    "6. Weight - In kilograms\n",
    "7. Team - Team name\n",
    "8. NOC - National Olympic Committee 3-letter code\n",
    "9. Games - Year and season\n",
    "10. Year - Integer\n",
    "11. Season - Summer or Winter\n",
    "12. City - Host city\n",
    "13. Sport - Sport\n",
    "14. Event - Event\n",
    "15. Medal - Gold, Silver, Bronze, or nan"
   ]
  },
  {
   "cell_type": "code",
   "execution_count": 4,
   "id": "51ec1d19-eac2-4cf7-979a-f2088537248d",
   "metadata": {},
   "outputs": [
    {
     "data": {
      "text/html": [
       "<table border=\"1\" class=\"dataframe\">\n",
       "    <thead>\n",
       "        <tr>\n",
       "            <th>ID</th> <th>Name</th> <th>Sex</th> <th>Age</th> <th>Height</th> <th>Weight</th> <th>Team</th> <th>NOC</th> <th>Games</th> <th>Year</th> <th>Season</th> <th>City</th> <th>Sport</th> <th>Event</th> <th>Medal</th>\n",
       "        </tr>\n",
       "    </thead>\n",
       "    <tbody>\n",
       "        <tr>\n",
       "            <td>16  </td> <td>Juhamatti Tapio Aaltonen          </td> <td>M   </td> <td>28  </td> <td>184   </td> <td>85    </td> <td>Finland      </td> <td>FIN </td> <td>2014 Winter</td> <td>2014</td> <td>Winter</td> <td>Sochi</td> <td>Ice Hockey      </td> <td>Ice Hockey Men's Ice Hockey       </td> <td>Bronze</td>\n",
       "        </tr>\n",
       "        <tr>\n",
       "            <td>126 </td> <td>Forough Abbasi                    </td> <td>F   </td> <td>20  </td> <td>164   </td> <td>58    </td> <td>Iran         </td> <td>IRI </td> <td>2014 Winter</td> <td>2014</td> <td>Winter</td> <td>Sochi</td> <td>Alpine Skiing   </td> <td>Alpine Skiing Women's Slalom      </td> <td>nan   </td>\n",
       "        </tr>\n",
       "        <tr>\n",
       "            <td>145 </td> <td>Jeremy Abbott                     </td> <td>M   </td> <td>28  </td> <td>175   </td> <td>70    </td> <td>United States</td> <td>USA </td> <td>2014 Winter</td> <td>2014</td> <td>Winter</td> <td>Sochi</td> <td>Figure Skating  </td> <td>Figure Skating Men's Singles      </td> <td>nan   </td>\n",
       "        </tr>\n",
       "        <tr>\n",
       "            <td>145 </td> <td>Jeremy Abbott                     </td> <td>M   </td> <td>28  </td> <td>175   </td> <td>70    </td> <td>United States</td> <td>USA </td> <td>2014 Winter</td> <td>2014</td> <td>Winter</td> <td>Sochi</td> <td>Figure Skating  </td> <td>Figure Skating Mixed Team         </td> <td>Bronze</td>\n",
       "        </tr>\n",
       "        <tr>\n",
       "            <td>463 </td> <td>Agnese boltia                     </td> <td>F   </td> <td>17  </td> <td>166   </td> <td>60    </td> <td>Latvia       </td> <td>LAT </td> <td>2014 Winter</td> <td>2014</td> <td>Winter</td> <td>Sochi</td> <td>Alpine Skiing   </td> <td>Alpine Skiing Women's Super G     </td> <td>nan   </td>\n",
       "        </tr>\n",
       "        <tr>\n",
       "            <td>463 </td> <td>Agnese boltia                     </td> <td>F   </td> <td>17  </td> <td>166   </td> <td>60    </td> <td>Latvia       </td> <td>LAT </td> <td>2014 Winter</td> <td>2014</td> <td>Winter</td> <td>Sochi</td> <td>Alpine Skiing   </td> <td>Alpine Skiing Women's Giant Slalom</td> <td>nan   </td>\n",
       "        </tr>\n",
       "        <tr>\n",
       "            <td>463 </td> <td>Agnese boltia                     </td> <td>F   </td> <td>17  </td> <td>166   </td> <td>60    </td> <td>Latvia       </td> <td>LAT </td> <td>2014 Winter</td> <td>2014</td> <td>Winter</td> <td>Sochi</td> <td>Alpine Skiing   </td> <td>Alpine Skiing Women's Slalom      </td> <td>nan   </td>\n",
       "        </tr>\n",
       "        <tr>\n",
       "            <td>532 </td> <td>Iason Abramashvili                </td> <td>M   </td> <td>25  </td> <td>176   </td> <td>82    </td> <td>Georgia      </td> <td>GEO </td> <td>2014 Winter</td> <td>2014</td> <td>Winter</td> <td>Sochi</td> <td>Alpine Skiing   </td> <td>Alpine Skiing Men's Giant Slalom  </td> <td>nan   </td>\n",
       "        </tr>\n",
       "        <tr>\n",
       "            <td>532 </td> <td>Iason Abramashvili                </td> <td>M   </td> <td>25  </td> <td>176   </td> <td>82    </td> <td>Georgia      </td> <td>GEO </td> <td>2014 Winter</td> <td>2014</td> <td>Winter</td> <td>Sochi</td> <td>Alpine Skiing   </td> <td>Alpine Skiing Men's Slalom        </td> <td>nan   </td>\n",
       "        </tr>\n",
       "        <tr>\n",
       "            <td>534 </td> <td>Oleksandr Volodymyrovych Abramenko</td> <td>M   </td> <td>25  </td> <td>180   </td> <td>82    </td> <td>Ukraine      </td> <td>UKR </td> <td>2014 Winter</td> <td>2014</td> <td>Winter</td> <td>Sochi</td> <td>Freestyle Skiing</td> <td>Freestyle Skiing Men's Aerials    </td> <td>nan   </td>\n",
       "        </tr>\n",
       "    </tbody>\n",
       "</table>\n",
       "<p>... (48554 rows omitted)</p>"
      ],
      "text/plain": [
       "ID   | Name                               | Sex  | Age  | Height | Weight | Team          | NOC  | Games       | Year | Season | City  | Sport            | Event                              | Medal\n",
       "16   | Juhamatti Tapio Aaltonen           | M    | 28   | 184    | 85     | Finland       | FIN  | 2014 Winter | 2014 | Winter | Sochi | Ice Hockey       | Ice Hockey Men's Ice Hockey        | Bronze\n",
       "126  | Forough Abbasi                     | F    | 20   | 164    | 58     | Iran          | IRI  | 2014 Winter | 2014 | Winter | Sochi | Alpine Skiing    | Alpine Skiing Women's Slalom       | nan\n",
       "145  | Jeremy Abbott                      | M    | 28   | 175    | 70     | United States | USA  | 2014 Winter | 2014 | Winter | Sochi | Figure Skating   | Figure Skating Men's Singles       | nan\n",
       "145  | Jeremy Abbott                      | M    | 28   | 175    | 70     | United States | USA  | 2014 Winter | 2014 | Winter | Sochi | Figure Skating   | Figure Skating Mixed Team          | Bronze\n",
       "463  | Agnese boltia                      | F    | 17   | 166    | 60     | Latvia        | LAT  | 2014 Winter | 2014 | Winter | Sochi | Alpine Skiing    | Alpine Skiing Women's Super G      | nan\n",
       "463  | Agnese boltia                      | F    | 17   | 166    | 60     | Latvia        | LAT  | 2014 Winter | 2014 | Winter | Sochi | Alpine Skiing    | Alpine Skiing Women's Giant Slalom | nan\n",
       "463  | Agnese boltia                      | F    | 17   | 166    | 60     | Latvia        | LAT  | 2014 Winter | 2014 | Winter | Sochi | Alpine Skiing    | Alpine Skiing Women's Slalom       | nan\n",
       "532  | Iason Abramashvili                 | M    | 25   | 176    | 82     | Georgia       | GEO  | 2014 Winter | 2014 | Winter | Sochi | Alpine Skiing    | Alpine Skiing Men's Giant Slalom   | nan\n",
       "532  | Iason Abramashvili                 | M    | 25   | 176    | 82     | Georgia       | GEO  | 2014 Winter | 2014 | Winter | Sochi | Alpine Skiing    | Alpine Skiing Men's Slalom         | nan\n",
       "534  | Oleksandr Volodymyrovych Abramenko | M    | 25   | 180    | 82     | Ukraine       | UKR  | 2014 Winter | 2014 | Winter | Sochi | Freestyle Skiing | Freestyle Skiing Men's Aerials     | nan\n",
       "... (48554 rows omitted)"
      ]
     },
     "execution_count": 4,
     "metadata": {},
     "output_type": "execute_result"
    }
   ],
   "source": [
    "datafile = \"Olympic_Data/winter_athletes.csv\"\n",
    "athletes = Table.read_table(datafile).sort(\"Year\",descending=True).where(\"Season\",\"Winter\")\n",
    "athletes"
   ]
  },
  {
   "cell_type": "markdown",
   "id": "eccd67c7-7a4d-4ac3-9347-2905a9717c65",
   "metadata": {},
   "source": [
    "#### Considerations\n",
    "- Each observation is an athletes performance in a particular event for a particular year.\n",
    "- `.group()` is a very useful Table method to group by Team, Year, Age, etc.\n",
    "- Athletes can perform in multiple events and over multiple years\n",
    "- `athletes.group(\"Name\", np.unique)` Can provide unique athlete names and combine their efforts in a list. This can be a challenge for analysis of specific performances but givene a good count of total athletes, `athletes.group(\"Name\", np.unique).num_rows`"
   ]
  },
  {
   "cell_type": "code",
   "execution_count": 7,
   "id": "d5c54863-bb8c-4c01-9f6d-5bc25a9542b1",
   "metadata": {
    "tags": []
   },
   "outputs": [
    {
     "data": {
      "text/plain": [
       "18923"
      ]
     },
     "execution_count": 7,
     "metadata": {},
     "output_type": "execute_result"
    }
   ],
   "source": [
    "athletes.group(\"Name\", np.unique).num_rows"
   ]
  },
  {
   "cell_type": "code",
   "execution_count": 4,
   "id": "c5e43080-63bb-4f90-a12c-0263cb0b90e1",
   "metadata": {
    "tags": []
   },
   "outputs": [
    {
     "data": {
      "text/plain": [
       "48564"
      ]
     },
     "execution_count": 4,
     "metadata": {},
     "output_type": "execute_result"
    }
   ],
   "source": [
    "athletes.num_rows"
   ]
  },
  {
   "cell_type": "markdown",
   "id": "0585b622-e1ed-4752-b9f6-b99de9e9d1d3",
   "metadata": {},
   "source": [
    "## Mini-Project Questions to address\n",
    "Now develop your project to address the questions below. You will be adding lines of code and markdown as needed below. Feel free to expand the project to explore ideas of interest."
   ]
  },
  {
   "cell_type": "markdown",
   "id": "5d864ddf-913d-435e-97fa-daf76e3d609d",
   "metadata": {},
   "source": [
    "1. What is the earliest year for a Winter Olympics in this dataset? Check this value [(https://olympics.com/en/olympic-games/olympic-results )](https://olympics.com/en/olympic-games/olympic-results ), does it fit the data?\n"
   ]
  },
  {
   "cell_type": "markdown",
   "id": "6daacef3-a4b8-4680-a52b-f587f9294b93",
   "metadata": {},
   "source": [
    "2. Examine the distribution of the age of all Olympians with a histogram. What do you find? A better way to get a view of the distribution of ages is a five number summary which includes the min, max, median, mean, and standard deviation. To get the five number summary (min, max, median, mean, and standard deviation) using np.min, np.max, np.median, np.mean, and np.std respectively on the corresponding column array or better yet create a function to compute and display this given arguments of table name and column label. Since a given athlete can appear in multiple events, a better way to examine the age distribution of athletes is to group the data by name using a function such as np.average. i.e. `athletes.group(\"Name\", np.average)`"
   ]
  },
  {
   "cell_type": "markdown",
   "id": "6466b985-551c-46f4-863d-a6046de3695f",
   "metadata": {},
   "source": [
    "3. Examine the distribution of the age of all Olympians with a histogram. What do you find? A better way to get a view of the distribution of ages is a five number summary which includes the min, max, median, mean, and standard deviation. To get the five number summary (min, max, median, mean, and standard deviation) using np.min, np.max, np.median, np.mean, and np.std respectively on the corresponding column array or better yet create a function to compute and display this given arguments of table name and column label. Since a given athlete can appear in multiple events, a better way to examine the age distribution of athletes is to group the data by name using a function such as np.average."
   ]
  },
  {
   "cell_type": "markdown",
   "id": "b5d37c89-8352-44a4-8a30-5aefafcc43df",
   "metadata": {},
   "source": [
    "4. Examine the distribution of the age of all Olympians with a histogram. What do you find? A better way to get a view of the distribution of ages is a five number summary which includes the min, max, median, mean, and standard deviation. To get the five number summary (min, max, median, mean, and standard deviation) using np.min, np.max, np.median, np.mean, and np.std respectively on the corresponding column array or better yet create a function to compute and display this given arguments of table name and column label. Since a given athlete can appear in multiple events, a better way to examine the age distribution of athletes is to group the data by name using a function such as np.average."
   ]
  },
  {
   "cell_type": "markdown",
   "id": "2bb52a70-4f86-4a94-ac57-27a1a740d465",
   "metadata": {},
   "source": [
    "5. What are the top ten countries in number of Gold, silver, bronze medals, and total medals? You should have four sets of top ten countries for each of the scenarios. Again, get the five number summary (min, max, median, mean, and standard deviation) for each medal type for all countries.\n",
    "Hint: `.where(\"Medal\",are.not_equal_to(\"nan\"))` to get only medal winners. Consider how to create a column for the sum of the three medal categories."
   ]
  },
  {
   "cell_type": "markdown",
   "id": "e7a20e7a-59ab-42b1-841b-476db93d4dd2",
   "metadata": {},
   "source": [
    "6. What are the top 5 sports in terms of number of athletes?"
   ]
  },
  {
   "cell_type": "markdown",
   "id": "a05f2b16-5e6c-4451-9bea-efe5e5e82e56",
   "metadata": {},
   "source": [
    "7. Which sports (top 5) awarded the most medals in Lake Placid, New York (1980,\n",
    "https://www.lakeplacid.com/do/activities/olympic-sites )."
   ]
  },
  {
   "cell_type": "markdown",
   "id": "2b7be597-6619-49b9-8494-10f1a2f6c7b7",
   "metadata": {},
   "source": [
    "8. Challenge Question: Does the host country team have an advantage? To get at this you may need to create another column in the athletes Table with the team name of the host country. Use a markdown to create a strategy to address this question."
   ]
  },
  {
   "cell_type": "markdown",
   "id": "b2e65dff-35f8-478e-be52-57ef75940295",
   "metadata": {},
   "source": [
    "#### Time Trends"
   ]
  },
  {
   "cell_type": "markdown",
   "id": "058f2625-98ca-41d7-bc24-31dbec48fb42",
   "metadata": {},
   "source": [
    "9. Plot the trend in number of athletes per year.\n",
    "Hint: `athletes.group(\"Year\").plot(\"Year\",\"count\")`"
   ]
  },
  {
   "cell_type": "code",
   "execution_count": null,
   "id": "a04dfbe8-44d1-4921-8a4f-8f688bd98a67",
   "metadata": {
    "tags": []
   },
   "outputs": [],
   "source": [
    "print(\"Nice work \", user)\n",
    "import time;\n",
    "localtime = time.asctime( time.localtime(time.time()) )\n",
    "print(\"Submitted @ \", localtime)"
   ]
  }
 ],
 "metadata": {
  "kernelspec": {
   "display_name": "Python 3 (ipykernel)",
   "language": "python",
   "name": "python3"
  },
  "language_info": {
   "codemirror_mode": {
    "name": "ipython",
    "version": 3
   },
   "file_extension": ".py",
   "mimetype": "text/x-python",
   "name": "python",
   "nbconvert_exporter": "python",
   "pygments_lexer": "ipython3",
   "version": "3.9.12"
  }
 },
 "nbformat": 4,
 "nbformat_minor": 5
}
