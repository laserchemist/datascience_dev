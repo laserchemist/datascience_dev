{
 "cells": [
  {
   "cell_type": "markdown",
   "id": "0f401d01-274f-4e5c-acf3-9fd31db0f24a",
   "metadata": {},
   "source": [
    "# Nearest Neighbor"
   ]
  },
  {
   "cell_type": "markdown",
   "id": "8fc2b8ee-6f4f-49f1-9be8-b8d85012e186",
   "metadata": {},
   "source": [
    "### Nearest neighbor concept\n",
    "The training examines the characteristics of *k* nearest neighbors to the data point for which a prediction will be made. Nearness is measured using several different [metrics](https://www.nhm.uio.no/english/research/infrastructure/past/help/similarity.html) with Euclidean distance being a common one for numerical attributes.  \n",
    "Euclidean distance:   \n",
    "1-D $$ d(p,q) = \\sqrt{(p-q)^{2}} $$   \n",
    " 2-D $$ d(p,q) = \\sqrt{(p_1-q_1)^{2}+(p_2-q_2)^{2}} $$\n",
    " \n",
    " For multiple points (rows):\n",
    " 2-D $$ d(p,q) = \\sum{{\\sqrt{((p_1-q_1)^{2}+(p_2-q_2)^{2}}}} $$"
   ]
  },
  {
   "cell_type": "markdown",
   "id": "ee4c6ecd-c7a0-4959-8221-13e5700c8adc",
   "metadata": {},
   "source": [
    "import numpy as np\n",
    "from datascience import *\n",
    "import pandas as pd\n",
    "import matplotlib\n",
    "%matplotlib inline\n",
    "import matplotlib.pyplot as plt\n",
    "plt.style.use('ggplot')\n",
    "import warnings\n",
    "warnings.simplefilter('ignore', UserWarning)\n",
    "#from IPython.display import Image\n",
    "from matplotlib.colors import ListedColormap\n",
    "from sklearn import neighbors, datasets\n",
    "from jupyterquiz import display_quiz\n",
    "import json\n",
    "from IPython.core.display import HTML"
   ]
  },
  {
   "cell_type": "code",
   "execution_count": 4,
   "id": "1f65a115-740a-4777-893e-7e354ecdc055",
   "metadata": {},
   "outputs": [],
   "source": [
    "import numpy as np\n",
    "from datascience import *\n",
    "import pandas as pd\n",
    "import matplotlib\n",
    "%matplotlib inline\n",
    "import matplotlib.pyplot as plt\n",
    "plt.style.use('ggplot')\n",
    "import warnings\n",
    "warnings.simplefilter('ignore', UserWarning)\n",
    "#from IPython.display import Image\n",
    "from matplotlib.colors import ListedColormap\n",
    "from sklearn import neighbors, datasets\n",
    "from jupyterquiz import display_quiz\n",
    "import json\n",
    "from IPython.core.display import HTML"
   ]
  },
  {
   "cell_type": "markdown",
   "id": "abd157bd-c0bc-45e6-9dad-24dc5f2076dd",
   "metadata": {},
   "source": [
    "### An example in 2-D Cartesian coordinates"
   ]
  },
  {
   "cell_type": "code",
   "execution_count": 39,
   "id": "306e75aa-999a-4bf5-a849-704ba1aaa0f2",
   "metadata": {},
   "outputs": [
    {
     "data": {
      "image/png": "[encoded data removed]",
      "text/plain": [
       "<Figure size 432x288 with 1 Axes>"
      ]
     },
     "metadata": {},
     "output_type": "display_data"
    }
   ],
   "source": [
    "x = np.array([3, 8, 5, 6, 1, 9, 8])\n",
    "y = np.array([4, 5, 7, 4, 6, 9, 4])\n",
    "testx = np.array([4])\n",
    "testy = np.array([8])\n",
    "n = list(np.arange(1,8))\n",
    "color = \"red\"\n",
    "plt.scatter(x, y, c = color, s=30,label = 'training points')\n",
    "plt.scatter(testx, testy, c = 'blue', s=100, label = 'test point')\n",
    "for i, txt in enumerate(n):\n",
    "    plt.annotate(txt, (x[i]+.1, y[i]+.1))\n",
    "plt.legend()\n",
    "plt.show()"
   ]
  },
  {
   "cell_type": "markdown",
   "id": "750ee702-0738-4b85-9bbe-a49277071222",
   "metadata": {},
   "source": [
    "### Compute Euclidean distances\n",
    "$ d(x,y) = \\sqrt{(x_{test}-x_{train})^{2}+(y_{test}-y_{train})^{2}} $"
   ]
  },
  {
   "cell_type": "code",
   "execution_count": 40,
   "id": "cdfcc645-5a23-4290-806e-a45b6e070d6d",
   "metadata": {},
   "outputs": [],
   "source": [
    "distance = np.sqrt((testx - x)**2 + (testy - y)**2)"
   ]
  },
  {
   "cell_type": "code",
   "execution_count": 41,
   "id": "e2acea60-b65a-4df9-b1a7-3170fe3c1725",
   "metadata": {
    "scrolled": true
   },
   "outputs": [
    {
     "name": "stdout",
     "output_type": "stream",
     "text": [
      "training point\t distance\n",
      "1  \t\t 4.12\n",
      "2  \t\t 5.00\n",
      "3  \t\t 1.41\n",
      "4  \t\t 4.47\n",
      "5  \t\t 3.61\n",
      "6  \t\t 5.10\n",
      "7  \t\t 5.66\n"
     ]
    }
   ],
   "source": [
    "print(\"training point\\t distance\")\n",
    "for i, txt in enumerate(n):\n",
    "    print(f'{txt:d}  \\t\\t {distance[i]:.2f}')"
   ]
  },
  {
   "cell_type": "code",
   "execution_count": 42,
   "id": "61767dbe-3d57-4ecc-8c6c-bd28106290bd",
   "metadata": {
    "jupyter": {
     "source_hidden": true
    }
   },
   "outputs": [
    {
     "name": "stdout",
     "output_type": "stream",
     "text": [
      "training point\t distance\n",
      "3   \t\t 1.41\n",
      "5   \t\t 3.61\n",
      "1   \t\t 4.12\n",
      "4   \t\t 4.47\n",
      "2   \t\t 5.00\n",
      "6   \t\t 5.10\n",
      "7   \t\t 5.66\n"
     ]
    }
   ],
   "source": [
    "print(\"training point\\t distance\")\n",
    "for i, dist in zip(np.argsort(distance)+1, np.sort(distance)) :\n",
    "    print(f'{i:d}   \\t\\t {dist:.2f}')"
   ]
  },
  {
   "cell_type": "markdown",
   "id": "ec523292-69e3-40e8-94bd-4882dab87e58",
   "metadata": {},
   "source": [
    "**Training point 3 is the nearest neighbor**"
   ]
  },
  {
   "cell_type": "code",
   "execution_count": null,
   "id": "0215607e-68b7-4b63-8102-969e445766d6",
   "metadata": {},
   "outputs": [],
   "source": []
  }
 ],
 "metadata": {
  "kernelspec": {
   "display_name": "Python 3 (ipykernel)",
   "language": "python",
   "name": "python3"
  },
  "language_info": {
   "codemirror_mode": {
    "name": "ipython",
    "version": 3
   },
   "file_extension": ".py",
   "mimetype": "text/x-python",
   "name": "python",
   "nbconvert_exporter": "python",
   "pygments_lexer": "ipython3",
   "version": "3.9.12"
  }
 },
 "nbformat": 4,
 "nbformat_minor": 5
}
