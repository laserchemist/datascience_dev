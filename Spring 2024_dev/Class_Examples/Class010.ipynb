{
 "cells": [
  {
   "cell_type": "markdown",
   "id": "a3ed0f12-60c0-4d84-a32b-43e830e446a0",
   "metadata": {},
   "source": [
    "# table group and pivot methods\n",
    "These methods are a powerful way to summarize a data set along chosen dimensions"
   ]
  },
  {
   "cell_type": "code",
   "execution_count": 1,
   "id": "c08a3204-7e0b-467d-add2-3467ee247a32",
   "metadata": {},
   "outputs": [],
   "source": [
    "from datascience import *\n",
    "\n",
    "import numpy as np\n",
    "%matplotlib inline\n",
    "import matplotlib.pyplot as plt\n",
    "plt.style.use('ggplot')"
   ]
  },
  {
   "cell_type": "markdown",
   "id": "2f83fc23-13c8-45a9-9c23-67ce4b32e7be",
   "metadata": {},
   "source": [
    "## Example\n",
    "[See Inferential Thinking](https://inferentialthinking.com/chapters/07/1/Visualizing_Categorical_Distributions.html?highlight=group)\n",
    "\n",
    "[Ben & Jerry data visualization](https://benjerry.heshlindsdataviz.com)"
   ]
  },
  {
   "cell_type": "code",
   "execution_count": 3,
   "id": "97054005-9d0b-4b5f-949a-2a40db03365f",
   "metadata": {
    "tags": []
   },
   "outputs": [
    {
     "data": {
      "text/html": [
       "<table border=\"1\" class=\"dataframe\">\n",
       "    <thead>\n",
       "        <tr>\n",
       "            <th>Flavor</th> <th>Calories (kcal)</th> <th>fat (g)</th> <th>sodium (mg)</th> <th>carbohydrates (g)</th> <th>protein (g)</th> <th>base ice cream</th>\n",
       "        </tr>\n",
       "    </thead>\n",
       "    <tbody>\n",
       "        <tr>\n",
       "            <td>Peanut Butter Cup         </td> <td>470            </td> <td>33     </td> <td>180        </td> <td>36               </td> <td>9          </td> <td>peanut butter </td>\n",
       "        </tr>\n",
       "        <tr>\n",
       "            <td>Chubby Hubby              </td> <td>460            </td> <td>28     </td> <td>220        </td> <td>35               </td> <td>10         </td> <td>vanilla       </td>\n",
       "        </tr>\n",
       "        <tr>\n",
       "            <td>Peanut Butter World       </td> <td>460            </td> <td>32     </td> <td>190        </td> <td>37               </td> <td>7          </td> <td>chocolate     </td>\n",
       "        </tr>\n",
       "        <tr>\n",
       "            <td>Oat of This Swirled       </td> <td>420            </td> <td>26     </td> <td>150        </td> <td>41               </td> <td>5          </td> <td>vanilla       </td>\n",
       "        </tr>\n",
       "        <tr>\n",
       "            <td>Everything But The...     </td> <td>420            </td> <td>26     </td> <td>90         </td> <td>40               </td> <td>7          </td> <td>chocolate     </td>\n",
       "        </tr>\n",
       "        <tr>\n",
       "            <td>Gimmie S'more             </td> <td>410            </td> <td>24     </td> <td>180        </td> <td>45               </td> <td>6          </td> <td>vanilla       </td>\n",
       "        </tr>\n",
       "        <tr>\n",
       "            <td>New York Super Fudge Chunk</td> <td>410            </td> <td>26     </td> <td>70         </td> <td>39               </td> <td>7          </td> <td>chocolate     </td>\n",
       "        </tr>\n",
       "        <tr>\n",
       "            <td>Chunky Monkey             </td> <td>400            </td> <td>25     </td> <td>50         </td> <td>41               </td> <td>6          </td> <td>vanilla       </td>\n",
       "        </tr>\n",
       "        <tr>\n",
       "            <td>The Tonight Dough         </td> <td>400            </td> <td>22     </td> <td>135        </td> <td>47               </td> <td>6          </td> <td>vanilla       </td>\n",
       "        </tr>\n",
       "        <tr>\n",
       "            <td>Urban Bourbon             </td> <td>400            </td> <td>22     </td> <td>95         </td> <td>44               </td> <td>7          </td> <td>caramal       </td>\n",
       "        </tr>\n",
       "    </tbody>\n",
       "</table>"
      ],
      "text/plain": [
       "Flavor                     | Calories (kcal) | fat (g) | sodium (mg) | carbohydrates (g) | protein (g) | base ice cream\n",
       "Peanut Butter Cup          | 470             | 33      | 180         | 36                | 9           | peanut butter\n",
       "Chubby Hubby               | 460             | 28      | 220         | 35                | 10          | vanilla\n",
       "Peanut Butter World        | 460             | 32      | 190         | 37                | 7           | chocolate\n",
       "Oat of This Swirled        | 420             | 26      | 150         | 41                | 5           | vanilla\n",
       "Everything But The...      | 420             | 26      | 90          | 40                | 7           | chocolate\n",
       "Gimmie S'more              | 410             | 24      | 180         | 45                | 6           | vanilla\n",
       "New York Super Fudge Chunk | 410             | 26      | 70          | 39                | 7           | chocolate\n",
       "Chunky Monkey              | 400             | 25      | 50          | 41                | 6           | vanilla\n",
       "The Tonight Dough          | 400             | 22      | 135         | 47                | 6           | vanilla\n",
       "Urban Bourbon              | 400             | 22      | 95          | 44                | 7           | caramal"
      ]
     },
     "execution_count": 3,
     "metadata": {},
     "output_type": "execute_result"
    }
   ],
   "source": [
    "IC_data = Table.read_table('data/BenJerryData.csv')\n",
    "IC_data"
   ]
  },
  {
   "cell_type": "markdown",
   "id": "ed9403fb-96fa-48c7-8f0b-2eed61d3988b",
   "metadata": {},
   "source": [
    "### .group"
   ]
  },
  {
   "cell_type": "markdown",
   "id": "d8b1dcf5-af8e-4a24-9f92-1806ab02b3da",
   "metadata": {},
   "source": [
    "Look at base ice creams"
   ]
  },
  {
   "cell_type": "code",
   "execution_count": 4,
   "id": "7fa67889-4f98-44d6-abff-c9941a75a22c",
   "metadata": {
    "tags": []
   },
   "outputs": [
    {
     "data": {
      "text/html": [
       "<table border=\"1\" class=\"dataframe\">\n",
       "    <thead>\n",
       "        <tr>\n",
       "            <th>base ice cream</th> <th>count</th>\n",
       "        </tr>\n",
       "    </thead>\n",
       "    <tbody>\n",
       "        <tr>\n",
       "            <td>caramal       </td> <td>1    </td>\n",
       "        </tr>\n",
       "        <tr>\n",
       "            <td>chocolate     </td> <td>3    </td>\n",
       "        </tr>\n",
       "        <tr>\n",
       "            <td>peanut butter </td> <td>1    </td>\n",
       "        </tr>\n",
       "        <tr>\n",
       "            <td>vanilla       </td> <td>5    </td>\n",
       "        </tr>\n",
       "    </tbody>\n",
       "</table>"
      ],
      "text/plain": [
       "base ice cream | count\n",
       "caramal        | 1\n",
       "chocolate      | 3\n",
       "peanut butter  | 1\n",
       "vanilla        | 5"
      ]
     },
     "execution_count": 4,
     "metadata": {},
     "output_type": "execute_result"
    }
   ],
   "source": [
    "IC_data.group('base ice cream')"
   ]
  },
  {
   "cell_type": "code",
   "execution_count": null,
   "id": "b6b14dab-22fa-47ba-9292-62ee65e0513d",
   "metadata": {
    "tags": []
   },
   "outputs": [],
   "source": [
    "IC_data.group('base ice cream').sort('count', descending=True).barh('base ice cream')"
   ]
  },
  {
   "cell_type": "code",
   "execution_count": 15,
   "id": "c289af72-c71a-4dbb-ba36-99d378f48b1e",
   "metadata": {
    "tags": []
   },
   "outputs": [
    {
     "data": {
      "text/html": [
       "<table border=\"1\" class=\"dataframe\">\n",
       "    <thead>\n",
       "        <tr>\n",
       "            <th>fat (g)</th> <th>Chubby Hubby</th> <th>Chunky Monkey</th> <th>Everything But The...</th> <th>Gimmie S'more</th> <th>New York Super Fudge Chunk</th> <th>Oat of This Swirled</th> <th>Peanut Butter Cup</th> <th>Peanut Butter World</th> <th>The Tonight Dough</th> <th>Urban Bourbon</th>\n",
       "        </tr>\n",
       "    </thead>\n",
       "    <tbody>\n",
       "        <tr>\n",
       "            <td>22     </td> <td>0           </td> <td>0            </td> <td>0                    </td> <td>0            </td> <td>0                         </td> <td>0                  </td> <td>0                </td> <td>0                  </td> <td>1                </td> <td>1            </td>\n",
       "        </tr>\n",
       "        <tr>\n",
       "            <td>24     </td> <td>0           </td> <td>0            </td> <td>0                    </td> <td>1            </td> <td>0                         </td> <td>0                  </td> <td>0                </td> <td>0                  </td> <td>0                </td> <td>0            </td>\n",
       "        </tr>\n",
       "        <tr>\n",
       "            <td>25     </td> <td>0           </td> <td>1            </td> <td>0                    </td> <td>0            </td> <td>0                         </td> <td>0                  </td> <td>0                </td> <td>0                  </td> <td>0                </td> <td>0            </td>\n",
       "        </tr>\n",
       "        <tr>\n",
       "            <td>26     </td> <td>0           </td> <td>0            </td> <td>1                    </td> <td>0            </td> <td>1                         </td> <td>1                  </td> <td>0                </td> <td>0                  </td> <td>0                </td> <td>0            </td>\n",
       "        </tr>\n",
       "        <tr>\n",
       "            <td>28     </td> <td>1           </td> <td>0            </td> <td>0                    </td> <td>0            </td> <td>0                         </td> <td>0                  </td> <td>0                </td> <td>0                  </td> <td>0                </td> <td>0            </td>\n",
       "        </tr>\n",
       "        <tr>\n",
       "            <td>32     </td> <td>0           </td> <td>0            </td> <td>0                    </td> <td>0            </td> <td>0                         </td> <td>0                  </td> <td>0                </td> <td>1                  </td> <td>0                </td> <td>0            </td>\n",
       "        </tr>\n",
       "        <tr>\n",
       "            <td>33     </td> <td>0           </td> <td>0            </td> <td>0                    </td> <td>0            </td> <td>0                         </td> <td>0                  </td> <td>1                </td> <td>0                  </td> <td>0                </td> <td>0            </td>\n",
       "        </tr>\n",
       "    </tbody>\n",
       "</table>"
      ],
      "text/plain": [
       "fat (g) | Chubby Hubby | Chunky Monkey | Everything But The... | Gimmie S'more | New York Super Fudge Chunk | Oat of This Swirled | Peanut Butter Cup | Peanut Butter World | The Tonight Dough | Urban Bourbon\n",
       "22      | 0            | 0             | 0                     | 0             | 0                          | 0                   | 0                 | 0                   | 1                 | 1\n",
       "24      | 0            | 0             | 0                     | 1             | 0                          | 0                   | 0                 | 0                   | 0                 | 0\n",
       "25      | 0            | 1             | 0                     | 0             | 0                          | 0                   | 0                 | 0                   | 0                 | 0\n",
       "26      | 0            | 0             | 1                     | 0             | 1                          | 1                   | 0                 | 0                   | 0                 | 0\n",
       "28      | 1            | 0             | 0                     | 0             | 0                          | 0                   | 0                 | 0                   | 0                 | 0\n",
       "32      | 0            | 0             | 0                     | 0             | 0                          | 0                   | 0                 | 1                   | 0                 | 0\n",
       "33      | 0            | 0             | 0                     | 0             | 0                          | 0                   | 1                 | 0                   | 0                 | 0"
      ]
     },
     "execution_count": 15,
     "metadata": {},
     "output_type": "execute_result"
    }
   ],
   "source": [
    "IC_data.pivot('Flavor','fat (g)')"
   ]
  },
  {
   "cell_type": "markdown",
   "id": "29f39b3a-23dc-45ec-bfe2-e1c9b8228a33",
   "metadata": {},
   "source": [
    "### Another example"
   ]
  },
  {
   "cell_type": "code",
   "execution_count": 5,
   "id": "2b7a272f-939d-4a62-bb4f-233568256a0e",
   "metadata": {},
   "outputs": [
    {
     "data": {
      "text/html": [
       "<table border=\"1\" class=\"dataframe\">\n",
       "    <thead>\n",
       "        <tr>\n",
       "            <th>Flavor</th> <th>Color</th> <th>Price</th>\n",
       "        </tr>\n",
       "    </thead>\n",
       "    <tbody>\n",
       "        <tr>\n",
       "            <td>strawberry</td> <td>pink       </td> <td>3.55 </td>\n",
       "        </tr>\n",
       "        <tr>\n",
       "            <td>chocolate </td> <td>light brown</td> <td>4.75 </td>\n",
       "        </tr>\n",
       "        <tr>\n",
       "            <td>chocolate </td> <td>dark brown </td> <td>5.25 </td>\n",
       "        </tr>\n",
       "        <tr>\n",
       "            <td>strawberry</td> <td>pink       </td> <td>5.25 </td>\n",
       "        </tr>\n",
       "        <tr>\n",
       "            <td>chocolate </td> <td>dark brown </td> <td>5.25 </td>\n",
       "        </tr>\n",
       "        <tr>\n",
       "            <td>bubblegum </td> <td>pink       </td> <td>4.75 </td>\n",
       "        </tr>\n",
       "    </tbody>\n",
       "</table>"
      ],
      "text/plain": [
       "Flavor     | Color       | Price\n",
       "strawberry | pink        | 3.55\n",
       "chocolate  | light brown | 4.75\n",
       "chocolate  | dark brown  | 5.25\n",
       "strawberry | pink        | 5.25\n",
       "chocolate  | dark brown  | 5.25\n",
       "bubblegum  | pink        | 4.75"
      ]
     },
     "execution_count": 5,
     "metadata": {},
     "output_type": "execute_result"
    }
   ],
   "source": [
    "more_cones = Table().with_columns(\n",
    "    'Flavor', make_array('strawberry', 'chocolate', 'chocolate', 'strawberry', 'chocolate', 'bubblegum'),\n",
    "    'Color', make_array('pink', 'light brown', 'dark brown', 'pink', 'dark brown', 'pink'),\n",
    "    'Price', make_array(3.55, 4.75, 5.25, 5.25, 5.25, 4.75)\n",
    ")\n",
    "\n",
    "more_cones"
   ]
  },
  {
   "cell_type": "markdown",
   "id": "4138ad1a-7819-490e-822c-9717518115bb",
   "metadata": {},
   "source": [
    "### .group"
   ]
  },
  {
   "cell_type": "code",
   "execution_count": 6,
   "id": "24e8ce72-26c4-41c0-8dc5-148639a4ed23",
   "metadata": {},
   "outputs": [
    {
     "data": {
      "text/html": [
       "<table border=\"1\" class=\"dataframe\">\n",
       "    <thead>\n",
       "        <tr>\n",
       "            <th>Price</th> <th>count</th>\n",
       "        </tr>\n",
       "    </thead>\n",
       "    <tbody>\n",
       "        <tr>\n",
       "            <td>5.25 </td> <td>3    </td>\n",
       "        </tr>\n",
       "        <tr>\n",
       "            <td>4.75 </td> <td>2    </td>\n",
       "        </tr>\n",
       "        <tr>\n",
       "            <td>3.55 </td> <td>1    </td>\n",
       "        </tr>\n",
       "    </tbody>\n",
       "</table>"
      ],
      "text/plain": [
       "Price | count\n",
       "5.25  | 3\n",
       "4.75  | 2\n",
       "3.55  | 1"
      ]
     },
     "execution_count": 6,
     "metadata": {},
     "output_type": "execute_result"
    }
   ],
   "source": [
    "counts = more_cones.group('Price').sort('count', descending=True)\n",
    "counts"
   ]
  },
  {
   "cell_type": "code",
   "execution_count": 7,
   "id": "e2697b84-a5ed-4f32-b048-56edf1a09e5d",
   "metadata": {},
   "outputs": [],
   "source": [
    "import numpy as np\n",
    "%matplotlib inline\n",
    "import matplotlib.pyplot as plt\n",
    "plt.style.use('ggplot')"
   ]
  },
  {
   "cell_type": "code",
   "execution_count": 8,
   "id": "07d0edff-2f6b-447c-b9b1-42168fba26a6",
   "metadata": {},
   "outputs": [
    {
     "data": {
      "image/png": "[encoded data removed]",
      "text/plain": [
       "<Figure size 432x288 with 1 Axes>"
      ]
     },
     "metadata": {},
     "output_type": "display_data"
    }
   ],
   "source": [
    "more_cones.group('Flavor').sort('count', descending=True).barh('Flavor')"
   ]
  },
  {
   "cell_type": "code",
   "execution_count": 9,
   "id": "fe86c5a7-720f-4563-bcd6-4631b558affb",
   "metadata": {},
   "outputs": [
    {
     "data": {
      "text/html": [
       "<table border=\"1\" class=\"dataframe\">\n",
       "    <thead>\n",
       "        <tr>\n",
       "            <th>Flavor</th> <th>Color</th> <th>count</th>\n",
       "        </tr>\n",
       "    </thead>\n",
       "    <tbody>\n",
       "        <tr>\n",
       "            <td>bubblegum </td> <td>pink       </td> <td>1    </td>\n",
       "        </tr>\n",
       "        <tr>\n",
       "            <td>chocolate </td> <td>dark brown </td> <td>2    </td>\n",
       "        </tr>\n",
       "        <tr>\n",
       "            <td>chocolate </td> <td>light brown</td> <td>1    </td>\n",
       "        </tr>\n",
       "        <tr>\n",
       "            <td>strawberry</td> <td>pink       </td> <td>2    </td>\n",
       "        </tr>\n",
       "    </tbody>\n",
       "</table>"
      ],
      "text/plain": [
       "Flavor     | Color       | count\n",
       "bubblegum  | pink        | 1\n",
       "chocolate  | dark brown  | 2\n",
       "chocolate  | light brown | 1\n",
       "strawberry | pink        | 2"
      ]
     },
     "execution_count": 9,
     "metadata": {},
     "output_type": "execute_result"
    }
   ],
   "source": [
    "more_cones.group(['Flavor', 'Color'])"
   ]
  },
  {
   "cell_type": "markdown",
   "id": "477f2dc8-3dfb-4db7-a762-4c7247d7c765",
   "metadata": {},
   "source": [
    "### .pivot\n",
    "Demonstrated below. .pivot is a table method which takes two column and creates a new table which contains all combinations of the two column values"
   ]
  },
  {
   "cell_type": "code",
   "execution_count": 10,
   "id": "455ed2d9-3de9-4f61-ab13-7fa2b77be1ab",
   "metadata": {},
   "outputs": [
    {
     "data": {
      "text/html": [
       "<table border=\"1\" class=\"dataframe\">\n",
       "    <thead>\n",
       "        <tr>\n",
       "            <th>Flavor</th> <th>dark brown</th> <th>light brown</th> <th>pink</th>\n",
       "        </tr>\n",
       "    </thead>\n",
       "    <tbody>\n",
       "        <tr>\n",
       "            <td>bubblegum </td> <td>0         </td> <td>0          </td> <td>1   </td>\n",
       "        </tr>\n",
       "        <tr>\n",
       "            <td>chocolate </td> <td>2         </td> <td>1          </td> <td>0   </td>\n",
       "        </tr>\n",
       "        <tr>\n",
       "            <td>strawberry</td> <td>0         </td> <td>0          </td> <td>2   </td>\n",
       "        </tr>\n",
       "    </tbody>\n",
       "</table>"
      ],
      "text/plain": [
       "Flavor     | dark brown | light brown | pink\n",
       "bubblegum  | 0          | 0           | 1\n",
       "chocolate  | 2          | 1           | 0\n",
       "strawberry | 0          | 0           | 2"
      ]
     },
     "execution_count": 10,
     "metadata": {},
     "output_type": "execute_result"
    }
   ],
   "source": [
    "more_cones.pivot('Color', 'Flavor')"
   ]
  },
  {
   "cell_type": "code",
   "execution_count": 11,
   "id": "3a0c8356-4cb8-4442-a821-bed5259a52b6",
   "metadata": {},
   "outputs": [
    {
     "data": {
      "text/html": [
       "<table border=\"1\" class=\"dataframe\">\n",
       "    <thead>\n",
       "        <tr>\n",
       "            <th>GENDER</th> <th>AGE</th> <th>2010</th> <th>2020</th>\n",
       "        </tr>\n",
       "    </thead>\n",
       "    <tbody>\n",
       "        <tr>\n",
       "            <td>0     </td> <td>0   </td> <td>3951495</td> <td>3735010</td>\n",
       "        </tr>\n",
       "        <tr>\n",
       "            <td>0     </td> <td>1   </td> <td>3957904</td> <td>3773884</td>\n",
       "        </tr>\n",
       "        <tr>\n",
       "            <td>0     </td> <td>2   </td> <td>4090799</td> <td>3853025</td>\n",
       "        </tr>\n",
       "        <tr>\n",
       "            <td>0     </td> <td>3   </td> <td>4111869</td> <td>3921526</td>\n",
       "        </tr>\n",
       "        <tr>\n",
       "            <td>0     </td> <td>4   </td> <td>4077511</td> <td>4017847</td>\n",
       "        </tr>\n",
       "        <tr>\n",
       "            <td>0     </td> <td>5   </td> <td>4064653</td> <td>4054336</td>\n",
       "        </tr>\n",
       "        <tr>\n",
       "            <td>0     </td> <td>6   </td> <td>4073031</td> <td>4040169</td>\n",
       "        </tr>\n",
       "        <tr>\n",
       "            <td>0     </td> <td>7   </td> <td>4043100</td> <td>4029753</td>\n",
       "        </tr>\n",
       "        <tr>\n",
       "            <td>0     </td> <td>8   </td> <td>4025624</td> <td>4034785</td>\n",
       "        </tr>\n",
       "        <tr>\n",
       "            <td>0     </td> <td>9   </td> <td>4125413</td> <td>4078668</td>\n",
       "        </tr>\n",
       "    </tbody>\n",
       "</table>\n",
       "<p>... (296 rows omitted)</p>"
      ],
      "text/plain": [
       "GENDER | AGE  | 2010    | 2020\n",
       "0      | 0    | 3951495 | 3735010\n",
       "0      | 1    | 3957904 | 3773884\n",
       "0      | 2    | 4090799 | 3853025\n",
       "0      | 3    | 4111869 | 3921526\n",
       "0      | 4    | 4077511 | 4017847\n",
       "0      | 5    | 4064653 | 4054336\n",
       "0      | 6    | 4073031 | 4040169\n",
       "0      | 7    | 4043100 | 4029753\n",
       "0      | 8    | 4025624 | 4034785\n",
       "0      | 9    | 4125413 | 4078668\n",
       "... (296 rows omitted)"
      ]
     },
     "execution_count": 11,
     "metadata": {},
     "output_type": "execute_result"
    }
   ],
   "source": [
    "data = 'http://www2.census.gov/programs-surveys/popest/datasets/2010-2020/national/asrh/nc-est2020-agesex-res.csv'\n",
    "full_census_table = Table.read_table(data)\n",
    "partial_census_table = full_census_table.select('SEX', 'AGE', 'POPESTIMATE2010', 'POPESTIMATE2020')\n",
    "census = partial_census_table.relabeled('SEX', 'GENDER').relabeled('POPESTIMATE2010', '2010').relabeled('POPESTIMATE2020', '2020')\n",
    "census"
   ]
  },
  {
   "cell_type": "code",
   "execution_count": 14,
   "id": "21b8e035-6d98-4d4b-aad0-4efa536fa6f3",
   "metadata": {},
   "outputs": [
    {
     "data": {
      "text/html": [
       "<table border=\"1\" class=\"dataframe\">\n",
       "    <thead>\n",
       "        <tr>\n",
       "            <th>GENDER</th> <th>AGE mean</th> <th>2010 mean</th> <th>2020 mean</th>\n",
       "        </tr>\n",
       "    </thead>\n",
       "    <tbody>\n",
       "        <tr>\n",
       "            <td>0     </td> <td>59.3039 </td> <td>6.06524e+06</td> <td>6.46047e+06</td>\n",
       "        </tr>\n",
       "        <tr>\n",
       "            <td>1     </td> <td>59.3039 </td> <td>2.98191e+06</td> <td>3.18149e+06</td>\n",
       "        </tr>\n",
       "        <tr>\n",
       "            <td>2     </td> <td>59.3039 </td> <td>3.08333e+06</td> <td>3.27898e+06</td>\n",
       "        </tr>\n",
       "    </tbody>\n",
       "</table>"
      ],
      "text/plain": [
       "GENDER | AGE mean | 2010 mean   | 2020 mean\n",
       "0      | 59.3039  | 6.06524e+06 | 6.46047e+06\n",
       "1      | 59.3039  | 2.98191e+06 | 3.18149e+06\n",
       "2      | 59.3039  | 3.08333e+06 | 3.27898e+06"
      ]
     },
     "execution_count": 14,
     "metadata": {},
     "output_type": "execute_result"
    }
   ],
   "source": [
    "census.group('GENDER', np.mean)"
   ]
  },
  {
   "cell_type": "code",
   "execution_count": null,
   "id": "70153cc3-b86b-4b09-a2a6-380cd2764325",
   "metadata": {},
   "outputs": [],
   "source": [
    "census.where('GENDER',0).select(1,2,3).group('AGE',sum)"
   ]
  },
  {
   "cell_type": "code",
   "execution_count": null,
   "id": "0f59bf81-a65e-4add-b6ae-36c0b7da4326",
   "metadata": {},
   "outputs": [],
   "source": [
    "census.where('GENDER',0).select(1,2,3).where('AGE',are.below(99)).group('AGE',sum).plot('AGE')"
   ]
  },
  {
   "cell_type": "code",
   "execution_count": null,
   "id": "81101a2e-ea83-4dec-9604-9516c0b47004",
   "metadata": {},
   "outputs": [],
   "source": [
    "census = census.where('AGE',are.below(99))\n",
    "totals = census.pivot( 'GENDER', 'AGE', values='2010', collect=sum)\n",
    "totals"
   ]
  },
  {
   "cell_type": "code",
   "execution_count": null,
   "id": "25b18d31-b91e-4ee9-9a42-64bf3885c22f",
   "metadata": {},
   "outputs": [],
   "source": [
    "totals.plot('AGE')"
   ]
  },
  {
   "cell_type": "code",
   "execution_count": null,
   "id": "fc2c27b5-6430-44b7-87c7-99104fb98878",
   "metadata": {},
   "outputs": [],
   "source": []
  }
 ],
 "metadata": {
  "kernelspec": {
   "display_name": "Python 3 (ipykernel)",
   "language": "python",
   "name": "python3"
  },
  "language_info": {
   "codemirror_mode": {
    "name": "ipython",
    "version": 3
   },
   "file_extension": ".py",
   "mimetype": "text/x-python",
   "name": "python",
   "nbconvert_exporter": "python",
   "pygments_lexer": "ipython3",
   "version": "3.9.12"
  }
 },
 "nbformat": 4,
 "nbformat_minor": 5
}
